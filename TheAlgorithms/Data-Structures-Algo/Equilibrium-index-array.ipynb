{
 "cells": [
  {
   "cell_type": "markdown",
   "id": "1a0f8798-30c5-4438-ab9c-207b73ecf35d",
   "metadata": {},
   "source": [
    "## Equilibrium Index"
   ]
  },
  {
   "cell_type": "markdown",
   "id": "23c5b4f6-ee53-4348-9799-5f8b15026e7c",
   "metadata": {},
   "source": [
    "### \"\"\"\n",
    "Find the Equilibrium Index of an Array.\n",
    "Reference: https://www.geeksforgeeks.org/equilibrium-index-of-an-array/\n",
    "\n",
    "Python doctest can be run with the following command:\n",
    "python -m doctest -v equilibrium_index_in_array.py\n",
    "\n",
    "Given a sequence arr[] of size n, this function returns\n",
    "an equilibrium index (if any) or -1 if no equilibrium index exists.\n",
    "\n",
    "The equilibrium index of an array is an index such that the sum of\n",
    "elements at lower indexes is equal to the sum of elements at higher indexes.\n",
    "\n",
    "\n",
    "\n",
    "Example Input:\n",
    "arr = [-7, 1, 5, 2, -4, 3, 0]\n",
    "Output: 3\n",
    "\n",
    "3 is an equilibrium index, because: \n",
    "A[0] + A[1] + A[2] = A[4] + A[5] + A[6]\n",
    "\n",
    "\"\"\""
   ]
  },
  {
   "cell_type": "code",
   "execution_count": 2,
   "id": "a558610c-b673-46d1-8847-89efe7a9b9b3",
   "metadata": {},
   "outputs": [],
   "source": [
    "def equilibrium_index_arr_sum(arr):\n",
    "    \"\"\"\n",
    "    Find the equilibrium index of an array using array sum \n",
    "\n",
    "    Args:\n",
    "        arr (list[int]): The input array of integers.\n",
    "\n",
    "    Returns:\n",
    "        int: The equilibrium index or -1 if no equilibrium index exists.\n",
    "\n",
    "    Examples:\n",
    "        >>> equilibrium_index([-7, 1, 5, 2, -4, 3, 0])\n",
    "        3\n",
    "        >>> equilibrium_index([1, 2, 3, 4, 5])\n",
    "        -1\n",
    "        >>> equilibrium_index([1, 1, 1, 1, 1])\n",
    "        2\n",
    "        >>> equilibrium_index([2, 4, 6, 8, 10, 3])\n",
    "        -1\n",
    "    \"\"\"\n",
    "    total = sum(arr)\n",
    "    left = 0\n",
    "    for i, a in enumerate(arr):\n",
    "        total -= a\n",
    "        if left == total:\n",
    "            return i\n",
    "        left += a\n",
    "    return -1"
   ]
  },
  {
   "cell_type": "code",
   "execution_count": 8,
   "id": "53bfd460-94c9-45c1-9075-a2a87aea753c",
   "metadata": {},
   "outputs": [],
   "source": [
    "def equilibrium_index_naive(arr):\n",
    "    \"\"\"\n",
    "    Use two loops. The Outer loop iterates through all the element \n",
    "    and inner loop finds out whether the current index picked by the outer loop is equilibrium index or not\n",
    "    \"\"\"\n",
    "    left, right = 0, 0\n",
    "    n = len(arr)\n",
    "    for i in range(n):\n",
    "        left, right = 0, 0\n",
    "        for j in range(i):\n",
    "            left += arr[j]\n",
    "        for k in range(i + 1, n):\n",
    "            right += arr[k]\n",
    "\n",
    "        if right == left:\n",
    "            return i\n",
    "\n",
    "    return -1"
   ]
  },
  {
   "cell_type": "code",
   "execution_count": 9,
   "id": "7c6d6f52-a3d2-494a-a8e6-9585478ceb6d",
   "metadata": {},
   "outputs": [
    {
     "name": "stdout",
     "output_type": "stream",
     "text": [
      "Equilibrium Index using sum for [-7, 1, 5, 2, -4, 3, 0] is 3\n",
      "Equilibrium Index using naive for [-7, 1, 5, 2, -4, 3, 0] is 3\n",
      "Equilibrium Index using sum for [1, 2, 3, 4, 5] is -1\n",
      "Equilibrium Index using naive for [1, 2, 3, 4, 5] is -1\n",
      "Equilibrium Index using sum for [1, 1, 1, 1, 1] is 2\n",
      "Equilibrium Index using naive for [1, 1, 1, 1, 1] is 2\n",
      "Equilibrium Index using sum for [2, 4, 6, 8, 10, 3] is -1\n",
      "Equilibrium Index using naive for [2, 4, 6, 8, 10, 3] is -1\n"
     ]
    }
   ],
   "source": [
    "if __name__ == \"__main__\":\n",
    "    arr = [[-7, 1, 5, 2, -4, 3, 0],[1, 2, 3, 4, 5],[1, 1, 1, 1, 1],[2, 4, 6, 8, 10, 3]]\n",
    "    for a in arr:\n",
    "        print(f\"Equilibrium Index using sum for {a} is {equilibrium_index_arr_sum(a)}\")\n",
    "        print(f\"Equilibrium Index using naive for {a} is {equilibrium_index_naive(a)}\")\n"
   ]
  },
  {
   "cell_type": "code",
   "execution_count": null,
   "id": "ce1861e8-a42f-4397-921d-d39062d66a9c",
   "metadata": {},
   "outputs": [],
   "source": []
  }
 ],
 "metadata": {
  "kernelspec": {
   "display_name": "Python 3 (ipykernel)",
   "language": "python",
   "name": "python3"
  },
  "language_info": {
   "codemirror_mode": {
    "name": "ipython",
    "version": 3
   },
   "file_extension": ".py",
   "mimetype": "text/x-python",
   "name": "python",
   "nbconvert_exporter": "python",
   "pygments_lexer": "ipython3",
   "version": "3.11.0rc1"
  }
 },
 "nbformat": 4,
 "nbformat_minor": 5
}
