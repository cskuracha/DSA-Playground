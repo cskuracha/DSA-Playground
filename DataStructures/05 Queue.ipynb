{
 "cells": [
  {
   "attachments": {
    "be5f4c15-c917-4fa6-8494-bc8931d8a4e6.png": {
     "image/png": "[encoded data removed]"
    }
   },
   "cell_type": "markdown",
   "id": "06fe80f3-1f44-4cd0-87e7-f2ffe4b15aca",
   "metadata": {},
   "source": [
    "## **Queue**\n",
    "\n",
    "A queue is a linear data structure where elements are stored in the FIFO (First In First Out) principle where the first element inserted would be the first element to be accessed. A queue is an Abstract Data Type (ADT) similar to stack, the thing that makes queue different from stack is that a queue is open at both its ends. The data is inserted into the queue through one end and deleted from it using the other end. \n",
    "\n",
    "* **FIFO (First In, First Out) order**: Elements are removed in the same order they were added, like people waiting in line.\n",
    "* **Abstract Data Type (ADT)**: A theoretical concept representing different implementations across languages.\n",
    "* **Open at both ends**: Elements are added at the \"rear\" and removed from the \"front.\"\n",
    "\n",
    "Below are the operations performed:\n",
    "\n",
    "* **enqueue(item)**: Adds an item to the rear of the queue.\n",
    "* **dequeue()**: Removes and returns the item from the front of the queue.\n",
    "* **is_empty()**: Checks if the queue is empty.\n",
    "* **size()**: Returns the number of elements in the queue.\n",
    "* **peek()**: Returns the item at the front of the queue without removing it.\n",
    "\n",
    "![image.png](attachment:be5f4c15-c917-4fa6-8494-bc8931d8a4e6.png)\n"
   ]
  },
  {
   "cell_type": "markdown",
   "id": "a85d106c-d60d-4ad2-9902-6c93b1867a41",
   "metadata": {},
   "source": [
    "### **Implementation using Doubly Linked List**"
   ]
  },
  {
   "cell_type": "code",
   "execution_count": 2,
   "id": "721de995-8892-411e-bcc8-930b837c338d",
   "metadata": {},
   "outputs": [],
   "source": [
    "class Node:\n",
    "    def __init__(self, data):\n",
    "        self.data = data\n",
    "        self.prev = None\n",
    "        self.next = None"
   ]
  },
  {
   "cell_type": "code",
   "execution_count": 7,
   "id": "edd4680c-3219-4faa-8f10-e3e00a73598b",
   "metadata": {},
   "outputs": [],
   "source": [
    "class Queue:\n",
    "    def __init__(self):\n",
    "        self.head = self.tail = None\n",
    "\n",
    "    def is_empty(self):\n",
    "        \"\"\"Function to check if queue is empty\"\"\"\n",
    "        return self.head is None\n",
    "\n",
    "    def enqueue(self, data):\n",
    "        \"\"\"Function to add an element into queue\"\"\"\n",
    "        new_node = Node(data)\n",
    "        if self.is_empty():\n",
    "            self.head = self.tail = new_node\n",
    "        else:\n",
    "            new_node.prev = self.tail\n",
    "            self.tail.next = new_node\n",
    "            self.tail = new_node\n",
    "\n",
    "    def dequeue(self):\n",
    "        \"\"\"Function to remove an element from the queue\"\"\"\n",
    "        if self.is_empty():\n",
    "            raise IndexError(\"No elements in the queue\")\n",
    "        val = self.head.data\n",
    "        # If there is only one elementy in the queue\n",
    "        if self.head == self.tail:\n",
    "            self.head = self.tail = None\n",
    "        else:\n",
    "            self.head = self.head.next\n",
    "            self.head.prev = None\n",
    "        return val\n",
    "\n",
    "    def size(self):\n",
    "        \"\"\"Function to check the size of the queue\"\"\"\n",
    "        if self.is_empty():\n",
    "            return 0\n",
    "        count = 0\n",
    "        curr = self.head\n",
    "        while curr:\n",
    "            count += 1\n",
    "            curr = curr.next\n",
    "        return count\n",
    "\n",
    "    def peek(self):\n",
    "        \"\"\"Function to check first element in the queue\"\"\"\n",
    "        if self.is_empty():\n",
    "            raise IndexError(\"NO elements in the queue\")\n",
    "        return self.head.data\n",
    "\n",
    "    def __str__(self):\n",
    "        \"\"\"Function to represent the queue in FIFO\"\"\"\n",
    "        items = []\n",
    "        curr = self.head\n",
    "        while curr:\n",
    "            items.append(curr.data)\n",
    "            curr = curr.next\n",
    "        return f\"Elements in Queue: {items}\""
   ]
  },
  {
   "cell_type": "code",
   "execution_count": 8,
   "id": "56d717f5-42f2-41b8-8d10-9a787e244c14",
   "metadata": {},
   "outputs": [],
   "source": [
    "# Adding to Queue\n",
    "queue_0 = Queue()\n",
    "queue_0.enqueue(1)\n",
    "queue_0.enqueue(2)\n",
    "queue_0.enqueue(3)"
   ]
  },
  {
   "cell_type": "code",
   "execution_count": 9,
   "id": "29a70cc6-d14b-4854-ad88-45b683fbcc9a",
   "metadata": {},
   "outputs": [
    {
     "name": "stdout",
     "output_type": "stream",
     "text": [
      "Elements in Queue: [1, 2, 3]\n"
     ]
    }
   ],
   "source": [
    "print(queue_0)"
   ]
  },
  {
   "cell_type": "code",
   "execution_count": 10,
   "id": "640c535e-c808-40a3-94bd-3d3c4f2a5b55",
   "metadata": {},
   "outputs": [
    {
     "name": "stdout",
     "output_type": "stream",
     "text": [
      "3\n"
     ]
    }
   ],
   "source": [
    "# Checking the size of queue\n",
    "print(queue_0.size())"
   ]
  },
  {
   "cell_type": "code",
   "execution_count": 11,
   "id": "9c80f954-4861-4597-b0a2-194e4fb8fcac",
   "metadata": {},
   "outputs": [
    {
     "name": "stdout",
     "output_type": "stream",
     "text": [
      "1\n"
     ]
    }
   ],
   "source": [
    "# Peeking first element\n",
    "print(queue_0.peek())"
   ]
  },
  {
   "cell_type": "code",
   "execution_count": 12,
   "id": "002ce837-9ccc-4d6d-b078-b608956c1192",
   "metadata": {},
   "outputs": [
    {
     "name": "stdout",
     "output_type": "stream",
     "text": [
      "1\n",
      "Elements in Queue: [2, 3]\n",
      "2\n",
      "Elements in Queue: [3]\n",
      "3\n",
      "Elements in Queue: []\n"
     ]
    }
   ],
   "source": [
    "# Dequeueing\n",
    "try:\n",
    "    print(queue_0.dequeue())\n",
    "    print(queue_0)\n",
    "    print(queue_0.dequeue())\n",
    "    print(queue_0)\n",
    "    print(queue_0.dequeue())\n",
    "    print(queue_0)\n",
    "except IndexError as i:\n",
    "    print(i)\n",
    "    "
   ]
  },
  {
   "cell_type": "code",
   "execution_count": 13,
   "id": "4eff6671-f7c9-4870-9ae1-e52201d303fd",
   "metadata": {},
   "outputs": [
    {
     "name": "stdout",
     "output_type": "stream",
     "text": [
      "True\n"
     ]
    }
   ],
   "source": [
    "#Checking if queue is empty\n",
    "print(queue_0.is_empty())"
   ]
  },
  {
   "cell_type": "code",
   "execution_count": 14,
   "id": "3682f91e-e7dc-4135-b9f2-e9e14a6c8217",
   "metadata": {},
   "outputs": [
    {
     "name": "stdout",
     "output_type": "stream",
     "text": [
      "No elements in the queue\n"
     ]
    }
   ],
   "source": [
    "try:\n",
    "    print(queue_0.dequeue())\n",
    "except IndexError as i:\n",
    "    print(i)"
   ]
  },
  {
   "cell_type": "code",
   "execution_count": null,
   "id": "650d5e8c-f116-49d5-9296-fabc2b75cd8c",
   "metadata": {},
   "outputs": [],
   "source": []
  }
 ],
 "metadata": {
  "kernelspec": {
   "display_name": "Python 3 (ipykernel)",
   "language": "python",
   "name": "python3"
  },
  "language_info": {
   "codemirror_mode": {
    "name": "ipython",
    "version": 3
   },
   "file_extension": ".py",
   "mimetype": "text/x-python",
   "name": "python",
   "nbconvert_exporter": "python",
   "pygments_lexer": "ipython3",
   "version": "3.11.0rc1"
  }
 },
 "nbformat": 4,
 "nbformat_minor": 5
}
