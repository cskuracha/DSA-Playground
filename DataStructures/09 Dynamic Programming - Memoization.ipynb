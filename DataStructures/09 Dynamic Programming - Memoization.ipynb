{
 "cells": [
  {
   "cell_type": "markdown",
   "id": "fdd5e560-a1ff-43cc-87ef-f3e22bee7a80",
   "metadata": {},
   "source": [
    "## **Dynamic Programming - Memoization**"
   ]
  },
  {
   "cell_type": "markdown",
   "id": "f6591765-311e-474d-a783-14c98b3cf79e",
   "metadata": {},
   "source": [
    "### **Grid Traveller**"
   ]
  },
  {
   "cell_type": "code",
   "execution_count": 1,
   "id": "30c10ca6-75ae-4543-baba-3825ba811d6a",
   "metadata": {},
   "outputs": [],
   "source": [
    "def grid_traveller(m, n):\n",
    "    \"\"\"Function to return how many ways a person can travel from start to end in m x n grid\"\"\"\n",
    "    if m == 1 and n == 1:\n",
    "        return 1\n",
    "    if m == 0 or n == 0:\n",
    "        return 0\n",
    "    return grid_traveller(m - 1, n) + grid_traveller(m , n -1)"
   ]
  },
  {
   "cell_type": "code",
   "execution_count": 2,
   "id": "893b3358-ddb1-4515-b103-ae4895c2b4b5",
   "metadata": {},
   "outputs": [
    {
     "data": {
      "text/plain": [
       "1"
      ]
     },
     "execution_count": 2,
     "metadata": {},
     "output_type": "execute_result"
    }
   ],
   "source": [
    "grid_traveller(1,1) # Output : 1"
   ]
  },
  {
   "cell_type": "code",
   "execution_count": 3,
   "id": "8857d6ca-8ee1-43bf-a781-786ffcf0c16a",
   "metadata": {},
   "outputs": [
    {
     "data": {
      "text/plain": [
       "0"
      ]
     },
     "execution_count": 3,
     "metadata": {},
     "output_type": "execute_result"
    }
   ],
   "source": [
    "grid_traveller(1, 0) # output : 0"
   ]
  },
  {
   "cell_type": "code",
   "execution_count": 7,
   "id": "58d9bb9a-54a7-4066-881b-0aaa462c3b84",
   "metadata": {},
   "outputs": [
    {
     "name": "stdout",
     "output_type": "stream",
     "text": [
      "3\n",
      "3\n",
      "6\n"
     ]
    }
   ],
   "source": [
    "print(grid_traveller(2, 3)) # output : 3\n",
    "print(grid_traveller(3, 2)) # output : 3\n",
    "print(grid_traveller(3, 3)) # output: 6"
   ]
  },
  {
   "cell_type": "code",
   "execution_count": 9,
   "id": "efaf2f5b-0308-4cce-8c7b-310ea970fac2",
   "metadata": {},
   "outputs": [],
   "source": [
    "#print(grid_traveller(18, 18)) -> is taking very long time"
   ]
  },
  {
   "cell_type": "markdown",
   "id": "92c842b8-b745-469d-984c-8da107d3cb53",
   "metadata": {},
   "source": [
    "### **Grid Traveller - Memoization**"
   ]
  },
  {
   "cell_type": "code",
   "execution_count": 11,
   "id": "b4a3c322-f75c-4867-b9db-9ba32fc8d910",
   "metadata": {},
   "outputs": [],
   "source": [
    "def grid_traveller_memo(m, n, memo = {}):\n",
    "    \"\"\"Function to return how many ways a person can travel from start to end in m x n grid using memoization\"\"\"\n",
    "    if (m,n) in memo:\n",
    "        return memo[(m,n)]\n",
    "    if m == 0 or n == 0: \n",
    "        return 0\n",
    "    if m == 1 and n == 1:\n",
    "        return 1\n",
    "    memo[(m,n)] = grid_traveller_memo(m - 1, n) + grid_traveller_memo(m , n -1)\n",
    "    return memo[(m,n)]"
   ]
  },
  {
   "cell_type": "code",
   "execution_count": 15,
   "id": "95e2d509-f159-4524-b5cc-8370fe6efca2",
   "metadata": {},
   "outputs": [
    {
     "data": {
      "text/plain": [
       "1"
      ]
     },
     "execution_count": 15,
     "metadata": {},
     "output_type": "execute_result"
    }
   ],
   "source": [
    "grid_traveller_memo(1,1) # Output : 1"
   ]
  },
  {
   "cell_type": "code",
   "execution_count": 16,
   "id": "a8c3e1fe-ece7-4676-a229-5c78063e74a5",
   "metadata": {},
   "outputs": [
    {
     "data": {
      "text/plain": [
       "0"
      ]
     },
     "execution_count": 16,
     "metadata": {},
     "output_type": "execute_result"
    }
   ],
   "source": [
    "grid_traveller_memo(1, 0) # output : 0"
   ]
  },
  {
   "cell_type": "code",
   "execution_count": 17,
   "id": "91793fd3-18fc-4e7e-9f00-9d4d1772004e",
   "metadata": {},
   "outputs": [
    {
     "name": "stdout",
     "output_type": "stream",
     "text": [
      "3\n",
      "3\n",
      "6\n"
     ]
    }
   ],
   "source": [
    "print(grid_traveller_memo(2, 3)) # output : 3\n",
    "print(grid_traveller_memo(3, 2)) # output : 3\n",
    "print(grid_traveller_memo(3, 3)) # output: 6"
   ]
  },
  {
   "cell_type": "code",
   "execution_count": 18,
   "id": "47777ba5-3ec0-4b3b-914b-278c48aa9c85",
   "metadata": {},
   "outputs": [
    {
     "name": "stdout",
     "output_type": "stream",
     "text": [
      "2333606220\n"
     ]
    }
   ],
   "source": [
    "print(grid_traveller_memo(18, 18)) # was taking very long time without memoization"
   ]
  },
  {
   "cell_type": "code",
   "execution_count": null,
   "id": "c7f58cf1-b836-488a-a8da-bf1d9ecc56ed",
   "metadata": {},
   "outputs": [],
   "source": []
  }
 ],
 "metadata": {
  "kernelspec": {
   "display_name": "Python 3 (ipykernel)",
   "language": "python",
   "name": "python3"
  },
  "language_info": {
   "codemirror_mode": {
    "name": "ipython",
    "version": 3
   },
   "file_extension": ".py",
   "mimetype": "text/x-python",
   "name": "python",
   "nbconvert_exporter": "python",
   "pygments_lexer": "ipython3",
   "version": "3.11.0rc1"
  }
 },
 "nbformat": 4,
 "nbformat_minor": 5
}
