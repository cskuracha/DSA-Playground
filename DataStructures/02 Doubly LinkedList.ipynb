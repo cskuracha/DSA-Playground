{
 "cells": [
  {
   "attachments": {
    "82a3415f-af5e-4e93-949e-b1eadad0d78d.jpg": {
     "image/jpeg": "[encoded data removed]"
    }
   },
   "cell_type": "markdown",
   "id": "8a3bf63a-d76b-47a5-9028-6774b9d471ca",
   "metadata": {},
   "source": [
    "## **Doubly LinkedList**\n",
    "\n",
    "A doubly linked list is a type of linked list in which each node contains not only a reference to the next node in the sequence but also a reference to the previous node.\n",
    "\n",
    "A Doubly Linked List (DLL) is a linear data structure where each element (node) is connected to the previous and next element in the list.\n",
    "Unlike a Singly Linked List, which can only traverse forward, a DLL can be traversed in both directions.\n",
    "\n",
    "Each node in a DLL typically consists of three fields:\\\n",
    "* Data: Stores the actual data value.\n",
    "* Next: Pointer to the next node in the list.\n",
    "* Prev: Pointer to the previous node in the list.\n",
    "\n",
    "Insertion and deletion operations in a doubly linked list are generally more straightforward compared to singly linked lists because you have direct access to both the previous and next nodes.\n",
    "Insertion and deletion operations can be performed at the beginning, end, or at any specific position in the list.\n",
    "\n",
    "**Pros**:\n",
    "\n",
    "* Bidirectional traversal: Doubly linked lists allow efficient traversal in both directions, making operations such as reversing the list easier.\n",
    "* Efficient deletion: Deletion of a node in a doubly linked list doesn't require traversal from the head of the list to find the previous node, as in the case of singly linked lists.\n",
    "\n",
    "**Cons**:\n",
    "* Extra memory overhead: Doubly linked lists require additional memory to store the previous pointers, increasing memory consumption compared to singly linked lists.\n",
    "* Increased complexity: The additional pointers in each node add complexity to the implementation and maintenance of doubly linked lists compared to singly linked lists.\n",
    "\n",
    "**Uses**:\n",
    "\n",
    "Doubly linked lists are commonly used in scenarios where bidirectional traversal or efficient deletion operations are required, such as in certain types of caches, undo functionality in text editors, and implementations of deque (double-ended queue) data structures.\n",
    "\n",
    "![doubly_linked_list_representation.jpg](attachment:82a3415f-af5e-4e93-949e-b1eadad0d78d.jpg)"
   ]
  },
  {
   "cell_type": "markdown",
   "id": "0d803bfb-e6a1-4f09-bc15-1eb5ced293b4",
   "metadata": {},
   "source": [
    "### Basic Operations:\n",
    "\n",
    "Insertion:\n",
    "\n",
    "* Insertion at the Beginning: Add a new node at the beginning of the doubly linked list.\n",
    "* Insertion at the End: Add a new node at the end of the doubly linked list.\n",
    "* Insertion at a Specific Position: Insert a new node at a specified position within the doubly linked list.\n",
    "\n",
    "Deletion:\n",
    "\n",
    "* Deletion from the Beginning: Remove the first node from the doubly linked list.\n",
    "* Deletion from the End: Remove the last node from the doubly linked list.\n",
    "* Deletion from a Specific Position: Remove a node from a specified position within the doubly linked list.\n",
    "\n",
    "Traversal:\n",
    "\n",
    "* Traverse the doubly linked list to access and process each node sequentially. Traversal can be performed in both forward and backward directions.\n",
    "\n",
    "Search:\n",
    "\n",
    "* Search for a specific value or node within the doubly linked list.\n",
    "\n",
    "Update:\n",
    "\n",
    "* Update the value of a node at a specified position within the doubly linked list.\n",
    "\n",
    "Reverse Traversal:\n",
    "\n",
    "* Traverse the doubly linked list in reverse order, starting from the last node and moving towards the first node.\n",
    "\n",
    "Count:\n",
    "\n",
    "Count the total number of nodes in the doubly linked list."
   ]
  },
  {
   "cell_type": "markdown",
   "id": "122a8266-3e02-4674-8fb2-840c67ea23de",
   "metadata": {},
   "source": [
    "### Declare Double LinkedList:\n",
    "\n",
    "1. Node Class\n",
    "2. Double LinkedList Class"
   ]
  },
  {
   "cell_type": "code",
   "execution_count": 2,
   "id": "17342461-0469-48bd-b777-eacf41ae9fd6",
   "metadata": {},
   "outputs": [],
   "source": [
    "class Node:\n",
    "    def __init__(self, data):\n",
    "        self.data = data\n",
    "        self.prev = None\n",
    "        self.next = None\n",
    "\n",
    "class DoublyLinkedList:\n",
    "    \"\"\"Function to Define DoublyLinkedList\"\"\"\n",
    "    def __init__(self):\n",
    "        self.head = None\n",
    "\n",
    "    def display_nodes(self):\n",
    "        \"\"\"Function to print all nodes\"\"\"\n",
    "        curr = self.head\n",
    "        print(\"Doubly Linked List contains below elements: \\n\")\n",
    "        while curr:\n",
    "            print(curr.data)\n",
    "            curr = curr.next"
   ]
  },
  {
   "cell_type": "markdown",
   "id": "33260332-441f-49e2-9eed-078fc78120c4",
   "metadata": {},
   "source": [
    "#### Create Doubly Linked List and Display Nodes:"
   ]
  },
  {
   "cell_type": "code",
   "execution_count": 4,
   "id": "3e20dd92-b6bf-48b0-809b-ea23e6cc793b",
   "metadata": {},
   "outputs": [
    {
     "name": "stdout",
     "output_type": "stream",
     "text": [
      "Doubly Linked List contains below elements: \n",
      "\n",
      "1\n",
      "12\n",
      "123\n",
      "1234\n"
     ]
    }
   ],
   "source": [
    "# Creating Doubly Linked List\n",
    "doubly_linked_list_0 = DoublyLinkedList()\n",
    "# Creating first node\n",
    "doubly_linked_list_0.head = Node(\"1\")\n",
    "#Creating Further Nodes\n",
    "node1 = Node(\"12\")\n",
    "node2 = Node(\"123\")\n",
    "node3 = Node(\"1234\")\n",
    "# Linking nodes\n",
    "doubly_linked_list_0.head.next = node1\n",
    "node1.next = node2\n",
    "node1.prev = doubly_linked_list_0.head\n",
    "\n",
    "node2.next = node3\n",
    "node2.prev = node1\n",
    "\n",
    "node3.prev = node2\n",
    "\n",
    "# Displaying nodes:\n",
    "doubly_linked_list_0.display_nodes()"
   ]
  },
  {
   "cell_type": "markdown",
   "id": "084a0198-f6e8-4293-9a1f-4fcfc92ca455",
   "metadata": {},
   "source": [
    "#### Insertions:\n",
    "\n",
    "\n",
    "* Insertion at the Beginning: Add a new node at the beginning of the doubly linked list.\n",
    "* Insertion at the End: Add a new node at the end of the doubly linked list.\n",
    "* Insertion at a Specific Position: Insert a new node at a specified position within the doubly linked list.\n"
   ]
  },
  {
   "cell_type": "code",
   "execution_count": 11,
   "id": "f5bb15f4-b184-4566-abbd-e0d81ce54887",
   "metadata": {},
   "outputs": [],
   "source": [
    "class Node:\n",
    "    def __init__(self, data):\n",
    "        self.data = data\n",
    "        self.prev = None\n",
    "        self.next = None\n",
    "\n",
    "class DoublyLinkedList:\n",
    "    \"\"\"Function to Define DoublyLinkedList\"\"\"\n",
    "    def __init__(self):\n",
    "        self.head = None\n",
    "\n",
    "    def display_nodes(self):\n",
    "        \"\"\"Function to print all nodes\"\"\"\n",
    "        curr = self.head\n",
    "        print(\"Doubly Linked List contains below elements: \\n\")\n",
    "        while curr:\n",
    "            print(curr.data)\n",
    "            curr = curr.next\n",
    "\n",
    "    def insert_at_beginning(self, data):\n",
    "        \"\"\"Function to add a node at beginning of Doubly Linked List\"\"\"\n",
    "        new_node = Node(data)\n",
    "        if self.head == None:\n",
    "            self.head = new_node\n",
    "        else:\n",
    "            new_node.next = self.head\n",
    "            self.head.prev = new_node\n",
    "            self.head = new_node\n",
    "\n",
    "    def insert_at_end(self, data):\n",
    "        \"\"\"Function to add a node at end of the doubly linked list\"\"\"\n",
    "        new_node = Node(data)\n",
    "        if self.head == None:\n",
    "            self.head = new_node\n",
    "        else:\n",
    "            curr = self.head\n",
    "            while curr.next:\n",
    "                curr = curr.next\n",
    "            curr.next = new_node\n",
    "            new_node.prev = curr\n",
    "\n",
    "    def insert_at_pos(self, pos,data):\n",
    "        \"\"\"Function to add a node at specific position in doubly linked list\"\"\"\n",
    "        new_node = Node(data)\n",
    "        if self.head == None:\n",
    "            self.head = new_node\n",
    "        else:\n",
    "            curr = self.head\n",
    "            curr_pos = 0\n",
    "            while curr.next:\n",
    "                if curr_pos >= pos -1:\n",
    "                    break\n",
    "                curr = curr.next\n",
    "                curr_pos += 1\n",
    "            new_node.next = curr.next\n",
    "            curr.next.prev = new_node\n",
    "            new_node.prev = curr\n",
    "            curr.next = new_node\n",
    "                \n",
    "        "
   ]
  },
  {
   "cell_type": "code",
   "execution_count": 12,
   "id": "9ffbec37-5b80-4990-8584-964fdd930df8",
   "metadata": {},
   "outputs": [
    {
     "name": "stdout",
     "output_type": "stream",
     "text": [
      "Doubly Linked List contains below elements: \n",
      "\n",
      "1\n",
      "12\n",
      "123\n",
      "1234\n"
     ]
    }
   ],
   "source": [
    "# Creating Doubly Linked List\n",
    "doubly_linked_list_0 = DoublyLinkedList()\n",
    "# Creating first node\n",
    "doubly_linked_list_0.head = Node(\"1\")\n",
    "#Creating Further Nodes\n",
    "node1 = Node(\"12\")\n",
    "node2 = Node(\"123\")\n",
    "node3 = Node(\"1234\")\n",
    "# Linking nodes\n",
    "doubly_linked_list_0.head.next = node1\n",
    "node1.next = node2\n",
    "node1.prev = doubly_linked_list_0.head\n",
    "\n",
    "node2.next = node3\n",
    "node2.prev = node1\n",
    "\n",
    "node3.prev = node2\n",
    "\n",
    "# Displaying nodes:\n",
    "doubly_linked_list_0.display_nodes()"
   ]
  },
  {
   "cell_type": "code",
   "execution_count": 13,
   "id": "ec3a5ebd-533d-4c90-825f-69b86911a677",
   "metadata": {},
   "outputs": [
    {
     "name": "stdout",
     "output_type": "stream",
     "text": [
      "Doubly Linked List contains below elements: \n",
      "\n",
      "#\n",
      "1\n",
      "12\n",
      "123\n",
      "1234\n"
     ]
    }
   ],
   "source": [
    "# Adding a new node at beginning\n",
    "doubly_linked_list_0.insert_at_beginning(\"#\")\n",
    "# Displaying nodes\n",
    "doubly_linked_list_0.display_nodes()"
   ]
  },
  {
   "cell_type": "code",
   "execution_count": 14,
   "id": "de066bfb-0ab0-4f13-80ae-629c6efdeb34",
   "metadata": {},
   "outputs": [
    {
     "name": "stdout",
     "output_type": "stream",
     "text": [
      "Doubly Linked List contains below elements: \n",
      "\n",
      "#\n",
      "1\n",
      "12\n",
      "123\n",
      "1234\n",
      "12345\n"
     ]
    }
   ],
   "source": [
    "# Adding a new node at ending\n",
    "doubly_linked_list_0.insert_at_end(\"12345\")\n",
    "# Displaying nodes\n",
    "doubly_linked_list_0.display_nodes()"
   ]
  },
  {
   "cell_type": "code",
   "execution_count": 15,
   "id": "5e4ff73a-cb77-4555-abc8-16e488808986",
   "metadata": {},
   "outputs": [
    {
     "name": "stdout",
     "output_type": "stream",
     "text": [
      "Doubly Linked List contains below elements: \n",
      "\n",
      "#\n",
      "1\n",
      "12#\n",
      "12\n",
      "123\n",
      "1234\n",
      "12345\n"
     ]
    }
   ],
   "source": [
    "# Adding a new node at ending\n",
    "doubly_linked_list_0.insert_at_pos(2,\"12#\")\n",
    "# Displaying nodes\n",
    "doubly_linked_list_0.display_nodes()"
   ]
  },
  {
   "cell_type": "code",
   "execution_count": 16,
   "id": "efe55012-248f-44ee-99dd-691656e53f44",
   "metadata": {},
   "outputs": [
    {
     "name": "stdout",
     "output_type": "stream",
     "text": [
      "Doubly Linked List contains below elements: \n",
      "\n",
      "#\n",
      "1\n",
      "12#\n",
      "12\n",
      "123\n",
      "1234\n",
      "12345#\n",
      "12345\n"
     ]
    }
   ],
   "source": [
    "# Adding a new node at ending\n",
    "doubly_linked_list_0.insert_at_pos(6,\"12345#\")\n",
    "# Displaying nodes\n",
    "doubly_linked_list_0.display_nodes()"
   ]
  },
  {
   "cell_type": "markdown",
   "id": "a81f5dee-7528-428c-9afb-886053237c37",
   "metadata": {},
   "source": [
    "#### Deletion:\n",
    "\n",
    "* Deletion from the Beginning: Remove the first node from the doubly linked list.\n",
    "* Deletion from the End: Remove the last node from the doubly linked list.\n",
    "* Deletion from a Specific Position: Remove a node from a specified position within the doubly linked list.\n"
   ]
  },
  {
   "cell_type": "code",
   "execution_count": 56,
   "id": "097bd449-eeb0-416e-8153-ef07db8e5c9f",
   "metadata": {},
   "outputs": [],
   "source": [
    "class Node:\n",
    "    def __init__(self, data):\n",
    "        self.data = data\n",
    "        self.prev = None\n",
    "        self.next = None\n",
    "\n",
    "class DoublyLinkedList:\n",
    "    \"\"\"Function to Define DoublyLinkedList\"\"\"\n",
    "    def __init__(self):\n",
    "        self.head = None\n",
    "\n",
    "    def display_nodes(self):\n",
    "        \"\"\"Function to print all nodes\"\"\"\n",
    "        curr = self.head\n",
    "        print(\"Doubly Linked List contains below elements: \\n\")\n",
    "        while curr:\n",
    "            print(curr.data)\n",
    "            curr = curr.next\n",
    "\n",
    "    def insert_at_beginning(self, data):\n",
    "        \"\"\"Function to add a node at beginning of Doubly Linked List\"\"\"\n",
    "        new_node = Node(data)\n",
    "        if self.head == None:\n",
    "            self.head = new_node\n",
    "        else:\n",
    "            new_node.next = self.head\n",
    "            self.head.prev = new_node\n",
    "            self.head = new_node\n",
    "\n",
    "    def insert_at_end(self, data):\n",
    "        \"\"\"Function to add a node at end of the doubly linked list\"\"\"\n",
    "        new_node = Node(data)\n",
    "        if self.head == None:\n",
    "            self.head = new_node\n",
    "        else:\n",
    "            curr = self.head\n",
    "            while curr.next:\n",
    "                curr = curr.next\n",
    "            curr.next = new_node\n",
    "            new_node.prev = curr\n",
    "\n",
    "    def insert_at_pos(self, pos,data):\n",
    "        \"\"\"Function to add a node at specific position in doubly linked list\"\"\"\n",
    "        new_node = Node(data)\n",
    "        if self.head == None:\n",
    "            self.head = new_node\n",
    "        else:\n",
    "            curr = self.head\n",
    "            curr_pos = 0\n",
    "            while curr.next:\n",
    "                if curr_pos >= pos -1:\n",
    "                    break\n",
    "                curr = curr.next\n",
    "                curr_pos += 1\n",
    "            new_node.next = curr.next\n",
    "            curr.next.prev = new_node\n",
    "            new_node.prev = curr\n",
    "            curr.next = new_node\n",
    "                \n",
    "    def delete_at_beginning(self):\n",
    "        \"\"\"Function to delete a node at starting\"\"\"\n",
    "        curr = self.head\n",
    "        if curr is None:\n",
    "            return\n",
    "        if curr.next:\n",
    "            next = curr.next\n",
    "        if curr and curr.next:\n",
    "            next = curr.next\n",
    "            curr.next.prev = None\n",
    "            curr.next = None\n",
    "            self.head = next\n",
    "        elif curr.next is None:\n",
    "            curr.next = None\n",
    "            self.head = None"
   ]
  },
  {
   "cell_type": "code",
   "execution_count": 57,
   "id": "f584232a-2056-4dd5-af7e-59504461382d",
   "metadata": {},
   "outputs": [
    {
     "name": "stdout",
     "output_type": "stream",
     "text": [
      "Doubly Linked List contains below elements: \n",
      "\n",
      "1\n",
      "12\n",
      "123\n",
      "1234\n"
     ]
    }
   ],
   "source": [
    "# Creating Doubly Linked List\n",
    "doubly_linked_list_0 = DoublyLinkedList()\n",
    "# Creating first node\n",
    "doubly_linked_list_0.head = Node(\"1\")\n",
    "#Creating Further Nodes\n",
    "node1 = Node(\"12\")\n",
    "node2 = Node(\"123\")\n",
    "node3 = Node(\"1234\")\n",
    "# Linking nodes\n",
    "doubly_linked_list_0.head.next = node1\n",
    "node1.next = node2\n",
    "node1.prev = doubly_linked_list_0.head\n",
    "\n",
    "node2.next = node3\n",
    "node2.prev = node1\n",
    "\n",
    "node3.prev = node2\n",
    "\n",
    "# Displaying nodes:\n",
    "doubly_linked_list_0.display_nodes()"
   ]
  },
  {
   "cell_type": "code",
   "execution_count": 63,
   "id": "900b8207-c215-48b3-93f5-75cc8b331b74",
   "metadata": {},
   "outputs": [
    {
     "name": "stdout",
     "output_type": "stream",
     "text": [
      "Doubly Linked List contains below elements: \n",
      "\n"
     ]
    }
   ],
   "source": [
    "# Delete at beginning\n",
    "doubly_linked_list_0.delete_at_beginning()\n",
    "# Displaying nodes:\n",
    "doubly_linked_list_0.display_nodes()"
   ]
  },
  {
   "cell_type": "code",
   "execution_count": null,
   "id": "07106bbe-e07e-412b-b26a-248da2f1b1f2",
   "metadata": {},
   "outputs": [],
   "source": []
  },
  {
   "cell_type": "code",
   "execution_count": null,
   "id": "d12ef401-4568-4390-b6bf-8051bf152262",
   "metadata": {},
   "outputs": [],
   "source": []
  }
 ],
 "metadata": {
  "kernelspec": {
   "display_name": "Python 3 (ipykernel)",
   "language": "python",
   "name": "python3"
  },
  "language_info": {
   "codemirror_mode": {
    "name": "ipython",
    "version": 3
   },
   "file_extension": ".py",
   "mimetype": "text/x-python",
   "name": "python",
   "nbconvert_exporter": "python",
   "pygments_lexer": "ipython3",
   "version": "3.11.0rc1"
  }
 },
 "nbformat": 4,
 "nbformat_minor": 5
}
