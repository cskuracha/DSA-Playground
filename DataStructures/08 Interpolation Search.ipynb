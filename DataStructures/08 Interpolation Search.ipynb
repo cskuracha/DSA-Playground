{
 "cells": [
  {
   "cell_type": "markdown",
   "id": "8f7f202d-4119-43c4-a9c2-58a07e81103a",
   "metadata": {},
   "source": [
    "## **Interpolation Search**\n",
    "\n",
    "Interpolation search is an algorithm for searching for a specific value (key) in a sorted array. It uses an interpolation formula to estimate the position of the key based on its value and the values of the surrounding elements. This makes it a more efficient alternative to binary search in certain situations.\n",
    "\n",
    "* **Data Structure**: Requires a sorted array.\n",
    "* **Average Performance**: O(log(log(n))), significantly faster than linear search and slightly faster than binary search on average.\n",
    "* **Best-Case Performance**: O(1), if the target key is the first element.\n",
    "* **Worst-Case Performance**: O(n), if the data is not uniformly distributed or the target key is not present.\n",
    "**Strengths**:\n",
    "* More efficient than binary search when data is uniformly distributed.\n",
    "* Adapts to the distribution of the data, unlike binary search.\n",
    "**Weaknesses**:\n",
    "* Not as efficient as binary search when data is not uniformly distributed.\n",
    "* More complex to implement than binary search.\n",
    "\n",
    "Interpolation search finds a particular item by computing the probe position. Initially, the probe position is the position of the middle most item of the collection.\n",
    "\n",
    "**mid = lo + ((hi - lo) * (X - A[lo]) / (A[hi] - A[lo]))**\n",
    "\n",
    "where \n",
    "lo -> Lowest index of the list\\\n",
    "hi -> Highest index of the list\\\n",
    "A[n] -> Value stored at index n in the list"
   ]
  },
  {
   "cell_type": "code",
   "execution_count": 1,
   "id": "7acc7fe5-fb6d-410c-97e3-cfb9ba5b4f14",
   "metadata": {},
   "outputs": [],
   "source": [
    "import time\n",
    "import pandas as pd\n",
    "import numpy as np"
   ]
  },
  {
   "cell_type": "markdown",
   "id": "3ad29e1d-1347-40b3-9077-4ddf9568d0da",
   "metadata": {},
   "source": [
    "### Generic Functions to Evaluate Test cases"
   ]
  },
  {
   "cell_type": "code",
   "execution_count": 2,
   "id": "8df3b3e0-a724-4caa-b2b6-25aad9351bd8",
   "metadata": {},
   "outputs": [],
   "source": [
    "def evaluate_test_case(function, test):\n",
    "    \"\"\"This is a custom function to compute the time taken to execute the test\"\"\"\n",
    "    start_time = time.time()\n",
    "    output = function(**test['input'])\n",
    "    end_time = time.time()\n",
    "    execution_time = end_time - start_time\n",
    "    print(\"Test Output is \", output)\n",
    "    if test['output'] == output:\n",
    "        print(\"\\033[32mTEST PASSED\\033[0m\")\n",
    "    else:\n",
    "        print(\"\\033[31mTEST FAILED\\033[0m\")\n",
    "    print(\"Function Execution Time: \", execution_time, \" seconds\")"
   ]
  },
  {
   "cell_type": "code",
   "execution_count": 3,
   "id": "f75fefb1-f383-4516-a4f7-8a0e5f95c3f9",
   "metadata": {},
   "outputs": [],
   "source": [
    "def evaluate_test_cases(function, tests):\n",
    "    \"\"\"This is a custom function to compute the time taken to execute the test cases\"\"\"\n",
    "    for test in tests:\n",
    "        start_time = time.time()\n",
    "        output = function(**test['input'])\n",
    "        end_time = time.time()\n",
    "        execution_time = end_time - start_time\n",
    "        print(\"Test Output is \", output)\n",
    "        if test['output'] == output:\n",
    "            print(\"\\033[32mTEST PASSED\\033[0m\")\n",
    "        else:\n",
    "            print(\"\\033[31mTEST FAILED\\033[0m\")\n",
    "        print(\"Function Execution Time: \", execution_time, \" seconds\")\n",
    "        print(50 * \"===\")"
   ]
  },
  {
   "cell_type": "markdown",
   "id": "7eb1abf5-c047-45d4-b1b9-a84be2c9acb2",
   "metadata": {},
   "source": [
    "### Loading data from file"
   ]
  },
  {
   "cell_type": "code",
   "execution_count": 4,
   "id": "bbb08d49-00b9-4b07-9329-7baaeb5efdfd",
   "metadata": {},
   "outputs": [
    {
     "data": {
      "text/html": [
       "<div>\n",
       "<style scoped>\n",
       "    .dataframe tbody tr th:only-of-type {\n",
       "        vertical-align: middle;\n",
       "    }\n",
       "\n",
       "    .dataframe tbody tr th {\n",
       "        vertical-align: top;\n",
       "    }\n",
       "\n",
       "    .dataframe thead th {\n",
       "        text-align: right;\n",
       "    }\n",
       "</style>\n",
       "<table border=\"1\" class=\"dataframe\">\n",
       "  <thead>\n",
       "    <tr style=\"text-align: right;\">\n",
       "      <th></th>\n",
       "      <th>isbn</th>\n",
       "      <th>name</th>\n",
       "      <th>author</th>\n",
       "    </tr>\n",
       "  </thead>\n",
       "  <tbody>\n",
       "    <tr>\n",
       "      <th>0</th>\n",
       "      <td>9781492032649</td>\n",
       "      <td>Hands-On Machine Learning with Scikit-Learn, K...</td>\n",
       "      <td>Aurélien Géron</td>\n",
       "    </tr>\n",
       "    <tr>\n",
       "      <th>1</th>\n",
       "      <td>9781789955750</td>\n",
       "      <td>Python Machine Learning</td>\n",
       "      <td>Sebastian Raschka, Vahid Mirjalili</td>\n",
       "    </tr>\n",
       "    <tr>\n",
       "      <th>2</th>\n",
       "      <td>9780262035613</td>\n",
       "      <td>Deep Learning</td>\n",
       "      <td>Ian Goodfellow, Yoshua Bengio, Aaron Courville</td>\n",
       "    </tr>\n",
       "    <tr>\n",
       "      <th>3</th>\n",
       "      <td>9780596529321</td>\n",
       "      <td>Programming Collective Intelligence</td>\n",
       "      <td>Toby Segaran</td>\n",
       "    </tr>\n",
       "    <tr>\n",
       "      <th>4</th>\n",
       "      <td>9781491957660</td>\n",
       "      <td>Python for Data Analysis</td>\n",
       "      <td>Wes McKinney</td>\n",
       "    </tr>\n",
       "    <tr>\n",
       "      <th>5</th>\n",
       "      <td>9781449361327</td>\n",
       "      <td>Data Science for Business</td>\n",
       "      <td>Foster Provost, Tom Fawcett</td>\n",
       "    </tr>\n",
       "    <tr>\n",
       "      <th>6</th>\n",
       "      <td>9781449369415</td>\n",
       "      <td>Introduction to Machine Learning with Python</td>\n",
       "      <td>Andreas C. Müller, Sarah Guido</td>\n",
       "    </tr>\n",
       "    <tr>\n",
       "      <th>7</th>\n",
       "      <td>9780999247108</td>\n",
       "      <td>Machine Learning Yearning</td>\n",
       "      <td>Andrew Ng</td>\n",
       "    </tr>\n",
       "    <tr>\n",
       "      <th>8</th>\n",
       "      <td>9781617294631</td>\n",
       "      <td>Natural Language Processing in Action</td>\n",
       "      <td>Lane, Howard, and Hapke</td>\n",
       "    </tr>\n",
       "    <tr>\n",
       "      <th>9</th>\n",
       "      <td>9781492041139</td>\n",
       "      <td>Data Science from Scratch</td>\n",
       "      <td>Joel Grus</td>\n",
       "    </tr>\n",
       "  </tbody>\n",
       "</table>\n",
       "</div>"
      ],
      "text/plain": [
       "            isbn                                               name  \\\n",
       "0  9781492032649  Hands-On Machine Learning with Scikit-Learn, K...   \n",
       "1  9781789955750                            Python Machine Learning   \n",
       "2  9780262035613                                      Deep Learning   \n",
       "3  9780596529321                Programming Collective Intelligence   \n",
       "4  9781491957660                           Python for Data Analysis   \n",
       "5  9781449361327                          Data Science for Business   \n",
       "6  9781449369415       Introduction to Machine Learning with Python   \n",
       "7  9780999247108                          Machine Learning Yearning   \n",
       "8  9781617294631              Natural Language Processing in Action   \n",
       "9  9781492041139                          Data Science from Scratch   \n",
       "\n",
       "                                           author  \n",
       "0                                  Aurélien Géron  \n",
       "1              Sebastian Raschka, Vahid Mirjalili  \n",
       "2  Ian Goodfellow, Yoshua Bengio, Aaron Courville  \n",
       "3                                    Toby Segaran  \n",
       "4                                    Wes McKinney  \n",
       "5                     Foster Provost, Tom Fawcett  \n",
       "6                  Andreas C. Müller, Sarah Guido  \n",
       "7                                       Andrew Ng  \n",
       "8                         Lane, Howard, and Hapke  \n",
       "9                                       Joel Grus  "
      ]
     },
     "execution_count": 4,
     "metadata": {},
     "output_type": "execute_result"
    }
   ],
   "source": [
    "data = pd.read_csv(\"../ISBN_Example.csv\", sep=\"|\")\n",
    "data"
   ]
  },
  {
   "cell_type": "code",
   "execution_count": 5,
   "id": "8bfadca5-a63e-400e-9c8f-bef6174e95a2",
   "metadata": {},
   "outputs": [
    {
     "data": {
      "text/plain": [
       "[9780262035613,\n",
       " 9780596529321,\n",
       " 9780999247108,\n",
       " 9781449361327,\n",
       " 9781449369415,\n",
       " 9781491957660,\n",
       " 9781492032649,\n",
       " 9781492041139,\n",
       " 9781617294631,\n",
       " 9781789955750]"
      ]
     },
     "execution_count": 5,
     "metadata": {},
     "output_type": "execute_result"
    }
   ],
   "source": [
    "isbn = data['isbn'].tolist()\n",
    "isbn.sort()\n",
    "isbn"
   ]
  },
  {
   "cell_type": "markdown",
   "id": "c4fd25ab-f6a7-48c2-b1bd-3f953b214de8",
   "metadata": {},
   "source": [
    "### Interpolation Search:\n",
    "\n",
    "1. Start searching data from mid of the list. \n",
    "2. If it is a match, return the index of the item, and exit. \n",
    "3. If it is not a match, probe position. \n",
    "4. Divide the list using probing formula and find the new middle. \n",
    "5. If data is greater than middle, search in higher sub-list. \n",
    "6. If data is smaller than middle, search in lower sub-list. \n",
    "7. Repeat until match."
   ]
  },
  {
   "cell_type": "markdown",
   "id": "35b75d51-ca81-4ff0-8bae-c0ea16bb9349",
   "metadata": {},
   "source": [
    "### Creating Dictionary with inputs and outputs"
   ]
  },
  {
   "cell_type": "code",
   "execution_count": 6,
   "id": "cc9b2398-4351-4e2b-ad89-9f7a8ec2cc7c",
   "metadata": {},
   "outputs": [],
   "source": [
    "test = {\n",
    "    'input' : {\n",
    "        'books': isbn,\n",
    "        'query': 9781449369415\n",
    "    },\n",
    "    'output': 4\n",
    "}"
   ]
  },
  {
   "cell_type": "markdown",
   "id": "07290d07-5c6a-4b5c-b05e-f6aebb8d2893",
   "metadata": {},
   "source": [
    "#### Creating input dictionary\n",
    "\n",
    "\n",
    "    Expected book is in middle of the list\n",
    "    Expected book is in first of the list\n",
    "    Expected book is in last of the list\n",
    "    Book list has only one element which is expected book\n",
    "    Book list does not contain the expected book\n",
    "    Book list is empty\n",
    "    Book list contains duplicate entries\n",
    "    Expected book occurs multiple times in the list array"
   ]
  },
  {
   "cell_type": "code",
   "execution_count": 7,
   "id": "55685149-e6f8-4fc2-a4d3-c6a6e34209bf",
   "metadata": {},
   "outputs": [],
   "source": [
    "# tests is a list of directories\n",
    "tests = []"
   ]
  },
  {
   "cell_type": "code",
   "execution_count": 8,
   "id": "1778b7e9-764b-420c-8367-928a3f74e6f1",
   "metadata": {},
   "outputs": [],
   "source": [
    "# Expected book is in middle of the list\n",
    "tests.append({\n",
    "    'input': {\n",
    "        'books': isbn,\n",
    "        'query':9781491957660\n",
    "    },\n",
    "    'output': 5\n",
    "})"
   ]
  },
  {
   "cell_type": "code",
   "execution_count": 9,
   "id": "738f4109-ebad-4167-9e24-ff6b8c0533a5",
   "metadata": {},
   "outputs": [],
   "source": [
    "# Expected book is in the first of the list\n",
    "tests.append({\n",
    "    'input': {\n",
    "        'books': isbn,\n",
    "        'query':9780262035613\n",
    "    },\n",
    "    'output': 0\n",
    "})"
   ]
  },
  {
   "cell_type": "code",
   "execution_count": 10,
   "id": "e9d48505-616d-4693-946b-acd64cb56a80",
   "metadata": {},
   "outputs": [],
   "source": [
    "# Expected book is in the last of the list\n",
    "tests.append({\n",
    "    'input': {\n",
    "        'books': isbn,\n",
    "        'query':9781789955750\n",
    "    },\n",
    "    'output': 9\n",
    "})"
   ]
  },
  {
   "cell_type": "code",
   "execution_count": 11,
   "id": "f8524a81-6ac8-43d9-8a71-e9fdf4cf1c90",
   "metadata": {},
   "outputs": [],
   "source": [
    "# Book list has only one element which is expected book\n",
    "tests.append({\n",
    "    'input': {\n",
    "        'books': [9781789955750],\n",
    "        'query':9781789955750\n",
    "    },\n",
    "    'output': 0\n",
    "})"
   ]
  },
  {
   "cell_type": "code",
   "execution_count": 12,
   "id": "3b381de5-fd71-47bc-ad03-9c9fb4b6e6b5",
   "metadata": {},
   "outputs": [],
   "source": [
    "# Book list does not contain the expected book\n",
    "tests.append({\n",
    "    'input': {\n",
    "        'books': isbn,\n",
    "        'query':9781789955751\n",
    "    },\n",
    "    'output': -1\n",
    "})"
   ]
  },
  {
   "cell_type": "code",
   "execution_count": 13,
   "id": "3d027181-3388-4fcf-8fcd-5cfb01490224",
   "metadata": {},
   "outputs": [],
   "source": [
    "# Book list is empty\n",
    "tests.append({\n",
    "    'input': {\n",
    "        'books': [],\n",
    "        'query':9781789955751\n",
    "    },\n",
    "    'output': -1\n",
    "})"
   ]
  },
  {
   "cell_type": "code",
   "execution_count": 14,
   "id": "5d5e33aa-fa40-436b-887e-5b2fa70591f6",
   "metadata": {},
   "outputs": [],
   "source": [
    "#Book list contains duplicate entries\n",
    "tests.append({\n",
    "    'input': {\n",
    "        'books': [9780262035613, 9780596529321, 9780596529321,9780999247108, 9780999247108,9781449361327, 9781449369415, 9781491957660, 9781492032649, 9781492032649,9781492041139, 9781617294631,9781617294631, 9781789955750],\n",
    "        'query':9781491957660\n",
    "    },\n",
    "    'output': 7\n",
    "})"
   ]
  },
  {
   "cell_type": "code",
   "execution_count": 15,
   "id": "277c98af-34c1-46b9-96ec-ce66330c0c0c",
   "metadata": {},
   "outputs": [],
   "source": [
    "tests.append({\n",
    "    'input': {\n",
    "        'books': [9780262035613, 9780596529321, 9780596529321,9780999247108, 9780999247108,9781449361327, 9781449369415,9781491957660,9781491957660,9781491957660, 9781491957660, 9781492032649, 9781492032649,9781492041139, 9781617294631,9781617294631, 9781789955750],\n",
    "        'query':9781491957660\n",
    "    },\n",
    "    'output': 7\n",
    "})"
   ]
  },
  {
   "cell_type": "code",
   "execution_count": 16,
   "id": "a938afdb-cc10-434d-b938-097bf968bee9",
   "metadata": {},
   "outputs": [
    {
     "data": {
      "text/plain": [
       "[{'input': {'books': [9780262035613,\n",
       "    9780596529321,\n",
       "    9780999247108,\n",
       "    9781449361327,\n",
       "    9781449369415,\n",
       "    9781491957660,\n",
       "    9781492032649,\n",
       "    9781492041139,\n",
       "    9781617294631,\n",
       "    9781789955750],\n",
       "   'query': 9781491957660},\n",
       "  'output': 5},\n",
       " {'input': {'books': [9780262035613,\n",
       "    9780596529321,\n",
       "    9780999247108,\n",
       "    9781449361327,\n",
       "    9781449369415,\n",
       "    9781491957660,\n",
       "    9781492032649,\n",
       "    9781492041139,\n",
       "    9781617294631,\n",
       "    9781789955750],\n",
       "   'query': 9780262035613},\n",
       "  'output': 0},\n",
       " {'input': {'books': [9780262035613,\n",
       "    9780596529321,\n",
       "    9780999247108,\n",
       "    9781449361327,\n",
       "    9781449369415,\n",
       "    9781491957660,\n",
       "    9781492032649,\n",
       "    9781492041139,\n",
       "    9781617294631,\n",
       "    9781789955750],\n",
       "   'query': 9781789955750},\n",
       "  'output': 9},\n",
       " {'input': {'books': [9781789955750], 'query': 9781789955750}, 'output': 0},\n",
       " {'input': {'books': [9780262035613,\n",
       "    9780596529321,\n",
       "    9780999247108,\n",
       "    9781449361327,\n",
       "    9781449369415,\n",
       "    9781491957660,\n",
       "    9781492032649,\n",
       "    9781492041139,\n",
       "    9781617294631,\n",
       "    9781789955750],\n",
       "   'query': 9781789955751},\n",
       "  'output': -1},\n",
       " {'input': {'books': [], 'query': 9781789955751}, 'output': -1},\n",
       " {'input': {'books': [9780262035613,\n",
       "    9780596529321,\n",
       "    9780596529321,\n",
       "    9780999247108,\n",
       "    9780999247108,\n",
       "    9781449361327,\n",
       "    9781449369415,\n",
       "    9781491957660,\n",
       "    9781492032649,\n",
       "    9781492032649,\n",
       "    9781492041139,\n",
       "    9781617294631,\n",
       "    9781617294631,\n",
       "    9781789955750],\n",
       "   'query': 9781491957660},\n",
       "  'output': 7},\n",
       " {'input': {'books': [9780262035613,\n",
       "    9780596529321,\n",
       "    9780596529321,\n",
       "    9780999247108,\n",
       "    9780999247108,\n",
       "    9781449361327,\n",
       "    9781449369415,\n",
       "    9781491957660,\n",
       "    9781491957660,\n",
       "    9781491957660,\n",
       "    9781491957660,\n",
       "    9781492032649,\n",
       "    9781492032649,\n",
       "    9781492041139,\n",
       "    9781617294631,\n",
       "    9781617294631,\n",
       "    9781789955750],\n",
       "   'query': 9781491957660},\n",
       "  'output': 7}]"
      ]
     },
     "execution_count": 16,
     "metadata": {},
     "output_type": "execute_result"
    }
   ],
   "source": [
    "tests"
   ]
  },
  {
   "cell_type": "code",
   "execution_count": 17,
   "id": "6e1fc9f5-a32d-48f4-a040-b3c43e9dbda6",
   "metadata": {},
   "outputs": [
    {
     "data": {
      "text/plain": [
       "8"
      ]
     },
     "execution_count": 17,
     "metadata": {},
     "output_type": "execute_result"
    }
   ],
   "source": [
    "len(tests)"
   ]
  },
  {
   "cell_type": "markdown",
   "id": "1c6c9e48-bf64-444c-80bd-3127ec2a70d9",
   "metadata": {},
   "source": [
    "### Implementation of Interpolation Search"
   ]
  },
  {
   "cell_type": "code",
   "execution_count": 18,
   "id": "644fd518-7316-4d22-a742-63a5c74418bc",
   "metadata": {},
   "outputs": [],
   "source": [
    "def find_books_interpolation(books, query):\n",
    "    \"\"\"Function to find a book in books using Interpolation search\"\"\"\n",
    "    l, r = 0, len(books) - 1\n",
    "    while l <= r:\n",
    "        mid = l + ((r - l) * (query - books[l]) // (books[r] - books[l]))\n",
    "        if books[mid] == query:\n",
    "            return mid\n",
    "        if query < books[mid]:\n",
    "            r = mid - 1\n",
    "        elif query > books[mid]:\n",
    "            l = mid + 1\n",
    "    return -1\n",
    "        "
   ]
  },
  {
   "cell_type": "code",
   "execution_count": 19,
   "id": "af0a7e2c-06df-47da-b8f9-e2ceafc80a6a",
   "metadata": {},
   "outputs": [
    {
     "name": "stdout",
     "output_type": "stream",
     "text": [
      "Test Output is  4\n",
      "\u001b[32mTEST PASSED\u001b[0m\n",
      "Function Execution Time:  4.76837158203125e-06  seconds\n"
     ]
    }
   ],
   "source": [
    "evaluate_test_case(find_books_interpolation, test)"
   ]
  },
  {
   "cell_type": "code",
   "execution_count": 20,
   "id": "8a70c624-cd84-4522-b52a-3488f2748bef",
   "metadata": {},
   "outputs": [
    {
     "name": "stdout",
     "output_type": "stream",
     "text": [
      "Test Output is  5\n",
      "\u001b[32mTEST PASSED\u001b[0m\n",
      "Function Execution Time:  5.0067901611328125e-06  seconds\n",
      "======================================================================================================================================================\n",
      "Test Output is  0\n",
      "\u001b[32mTEST PASSED\u001b[0m\n",
      "Function Execution Time:  2.1457672119140625e-06  seconds\n",
      "======================================================================================================================================================\n",
      "Test Output is  9\n",
      "\u001b[32mTEST PASSED\u001b[0m\n",
      "Function Execution Time:  1.430511474609375e-06  seconds\n",
      "======================================================================================================================================================\n"
     ]
    },
    {
     "ename": "ZeroDivisionError",
     "evalue": "integer division or modulo by zero",
     "output_type": "error",
     "traceback": [
      "\u001b[0;31m---------------------------------------------------------------------------\u001b[0m",
      "\u001b[0;31mZeroDivisionError\u001b[0m                         Traceback (most recent call last)",
      "Cell \u001b[0;32mIn[20], line 1\u001b[0m\n\u001b[0;32m----> 1\u001b[0m \u001b[43mevaluate_test_cases\u001b[49m\u001b[43m(\u001b[49m\u001b[43mfind_books_interpolation\u001b[49m\u001b[43m,\u001b[49m\u001b[43m \u001b[49m\u001b[43mtests\u001b[49m\u001b[43m)\u001b[49m\n",
      "Cell \u001b[0;32mIn[3], line 5\u001b[0m, in \u001b[0;36mevaluate_test_cases\u001b[0;34m(function, tests)\u001b[0m\n\u001b[1;32m      3\u001b[0m \u001b[38;5;28;01mfor\u001b[39;00m test \u001b[38;5;129;01min\u001b[39;00m tests:\n\u001b[1;32m      4\u001b[0m     start_time \u001b[38;5;241m=\u001b[39m time\u001b[38;5;241m.\u001b[39mtime()\n\u001b[0;32m----> 5\u001b[0m     output \u001b[38;5;241m=\u001b[39m \u001b[43mfunction\u001b[49m\u001b[43m(\u001b[49m\u001b[38;5;241;43m*\u001b[39;49m\u001b[38;5;241;43m*\u001b[39;49m\u001b[43mtest\u001b[49m\u001b[43m[\u001b[49m\u001b[38;5;124;43m'\u001b[39;49m\u001b[38;5;124;43minput\u001b[39;49m\u001b[38;5;124;43m'\u001b[39;49m\u001b[43m]\u001b[49m\u001b[43m)\u001b[49m\n\u001b[1;32m      6\u001b[0m     end_time \u001b[38;5;241m=\u001b[39m time\u001b[38;5;241m.\u001b[39mtime()\n\u001b[1;32m      7\u001b[0m     execution_time \u001b[38;5;241m=\u001b[39m end_time \u001b[38;5;241m-\u001b[39m start_time\n",
      "Cell \u001b[0;32mIn[18], line 5\u001b[0m, in \u001b[0;36mfind_books_interpolation\u001b[0;34m(books, query)\u001b[0m\n\u001b[1;32m      3\u001b[0m l, r \u001b[38;5;241m=\u001b[39m \u001b[38;5;241m0\u001b[39m, \u001b[38;5;28mlen\u001b[39m(books) \u001b[38;5;241m-\u001b[39m \u001b[38;5;241m1\u001b[39m\n\u001b[1;32m      4\u001b[0m \u001b[38;5;28;01mwhile\u001b[39;00m l \u001b[38;5;241m<\u001b[39m\u001b[38;5;241m=\u001b[39m r:\n\u001b[0;32m----> 5\u001b[0m     mid \u001b[38;5;241m=\u001b[39m l \u001b[38;5;241m+\u001b[39m (\u001b[43m(\u001b[49m\u001b[43mr\u001b[49m\u001b[43m \u001b[49m\u001b[38;5;241;43m-\u001b[39;49m\u001b[43m \u001b[49m\u001b[43ml\u001b[49m\u001b[43m)\u001b[49m\u001b[43m \u001b[49m\u001b[38;5;241;43m*\u001b[39;49m\u001b[43m \u001b[49m\u001b[43m(\u001b[49m\u001b[43mquery\u001b[49m\u001b[43m \u001b[49m\u001b[38;5;241;43m-\u001b[39;49m\u001b[43m \u001b[49m\u001b[43mbooks\u001b[49m\u001b[43m[\u001b[49m\u001b[43ml\u001b[49m\u001b[43m]\u001b[49m\u001b[43m)\u001b[49m\u001b[43m \u001b[49m\u001b[38;5;241;43m/\u001b[39;49m\u001b[38;5;241;43m/\u001b[39;49m\u001b[43m \u001b[49m\u001b[43m(\u001b[49m\u001b[43mbooks\u001b[49m\u001b[43m[\u001b[49m\u001b[43mr\u001b[49m\u001b[43m]\u001b[49m\u001b[43m \u001b[49m\u001b[38;5;241;43m-\u001b[39;49m\u001b[43m \u001b[49m\u001b[43mbooks\u001b[49m\u001b[43m[\u001b[49m\u001b[43ml\u001b[49m\u001b[43m]\u001b[49m\u001b[43m)\u001b[49m)\n\u001b[1;32m      6\u001b[0m     \u001b[38;5;28;01mif\u001b[39;00m books[mid] \u001b[38;5;241m==\u001b[39m query:\n\u001b[1;32m      7\u001b[0m         \u001b[38;5;28;01mreturn\u001b[39;00m mid\n",
      "\u001b[0;31mZeroDivisionError\u001b[0m: integer division or modulo by zero"
     ]
    }
   ],
   "source": [
    "evaluate_test_cases(find_books_interpolation, tests)"
   ]
  },
  {
   "cell_type": "code",
   "execution_count": null,
   "id": "a66281a7-735d-4c38-90e9-97d1fa93a955",
   "metadata": {},
   "outputs": [],
   "source": []
  }
 ],
 "metadata": {
  "kernelspec": {
   "display_name": "Python 3 (ipykernel)",
   "language": "python",
   "name": "python3"
  },
  "language_info": {
   "codemirror_mode": {
    "name": "ipython",
    "version": 3
   },
   "file_extension": ".py",
   "mimetype": "text/x-python",
   "name": "python",
   "nbconvert_exporter": "python",
   "pygments_lexer": "ipython3",
   "version": "3.11.0rc1"
  }
 },
 "nbformat": 4,
 "nbformat_minor": 5
}
