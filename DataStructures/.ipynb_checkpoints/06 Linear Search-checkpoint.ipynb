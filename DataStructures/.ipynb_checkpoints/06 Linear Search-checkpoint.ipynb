{
 "cells": [
  {
   "cell_type": "markdown",
   "id": "d1459f59-2bd4-4306-b8fd-1e7568484c0d",
   "metadata": {},
   "source": [
    "## **Linear Search**\n",
    "\n",
    "Linear search is a type of sequential searching algorithm. In this method, every element within the input array is traversed and compared with the key element to be found. If a match is found in the array the search is said to be successful; if there is no match found the search is said to be unsuccessful and gives the worst-case time complexity.\n",
    "\n",
    "The worst case of the linear search method would be an unsuccessful search that does not find the key value in the array, it performs n iterations. Therefore, the worst-case time complexity of the linear search algorithm would be O(n).\n",
    "\n"
   ]
  },
  {
   "cell_type": "code",
   "execution_count": 4,
   "id": "bf043e27-67e8-4d9b-a22d-7eded5d7964c",
   "metadata": {},
   "outputs": [],
   "source": [
    "import time\n",
    "import pandas as pd\n",
    "import numpy as np"
   ]
  },
  {
   "cell_type": "markdown",
   "id": "2715cc94-492d-4663-b8be-b8656d70d3df",
   "metadata": {},
   "source": [
    "### **Generic functions to evaluate the test cases**"
   ]
  },
  {
   "cell_type": "code",
   "execution_count": 2,
   "id": "336b7c6a-2518-437f-9142-8cf06fc7dcfa",
   "metadata": {},
   "outputs": [],
   "source": [
    "def evaluate_test_case(function, test):\n",
    "    \"\"\"This is a custom function to compute the time taken to execute the test\"\"\"\n",
    "    start_time = time.time()\n",
    "    output = function(**test['input'])\n",
    "    end_time = time.time()\n",
    "    execution_time = end_time - start_time\n",
    "    print(\"Test Output is \", output)\n",
    "    if test['output'] == output:\n",
    "        print(\"\\033[32mTEST PASSED\\033[0m\")\n",
    "    else:\n",
    "        print(\"\\033[31mTEST FAILED\\033[0m\")\n",
    "    print(\"Function Execution Time: \", execution_time, \" seconds\")"
   ]
  },
  {
   "cell_type": "code",
   "execution_count": 32,
   "id": "f22d67a2-c0ec-48c6-ac8e-39c5a61df842",
   "metadata": {},
   "outputs": [],
   "source": [
    "def evaluate_test_cases(function, tests):\n",
    "    \"\"\"This is a custom function to compute the time taken to execute the test cases\"\"\"\n",
    "    for test in tests:\n",
    "        start_time = time.time()\n",
    "        output = function(**test['input'])\n",
    "        end_time = time.time()\n",
    "        execution_time = end_time - start_time\n",
    "        print(\"Test Output is \", output)\n",
    "        if test['output'] == output:\n",
    "            print(\"\\033[32mTEST PASSED\\033[0m\")\n",
    "        else:\n",
    "            print(\"\\033[31mTEST FAILED\\033[0m\")\n",
    "        print(\"Function Execution Time: \", execution_time, \" seconds\")\n",
    "        print(50 * \"===\")"
   ]
  },
  {
   "cell_type": "markdown",
   "id": "e6dc2eb5-9320-421f-bf05-d01814db428d",
   "metadata": {},
   "source": [
    "### Loading data from file"
   ]
  },
  {
   "cell_type": "code",
   "execution_count": 6,
   "id": "5146c0ca-6649-4b6c-b1c2-1285cc2a2952",
   "metadata": {},
   "outputs": [
    {
     "data": {
      "text/html": [
       "<div>\n",
       "<style scoped>\n",
       "    .dataframe tbody tr th:only-of-type {\n",
       "        vertical-align: middle;\n",
       "    }\n",
       "\n",
       "    .dataframe tbody tr th {\n",
       "        vertical-align: top;\n",
       "    }\n",
       "\n",
       "    .dataframe thead th {\n",
       "        text-align: right;\n",
       "    }\n",
       "</style>\n",
       "<table border=\"1\" class=\"dataframe\">\n",
       "  <thead>\n",
       "    <tr style=\"text-align: right;\">\n",
       "      <th></th>\n",
       "      <th>isbn</th>\n",
       "      <th>name</th>\n",
       "      <th>author</th>\n",
       "    </tr>\n",
       "  </thead>\n",
       "  <tbody>\n",
       "    <tr>\n",
       "      <th>0</th>\n",
       "      <td>9781492032649</td>\n",
       "      <td>Hands-On Machine Learning with Scikit-Learn, K...</td>\n",
       "      <td>Aurélien Géron</td>\n",
       "    </tr>\n",
       "    <tr>\n",
       "      <th>1</th>\n",
       "      <td>9781789955750</td>\n",
       "      <td>Python Machine Learning</td>\n",
       "      <td>Sebastian Raschka, Vahid Mirjalili</td>\n",
       "    </tr>\n",
       "    <tr>\n",
       "      <th>2</th>\n",
       "      <td>9780262035613</td>\n",
       "      <td>Deep Learning</td>\n",
       "      <td>Ian Goodfellow, Yoshua Bengio, Aaron Courville</td>\n",
       "    </tr>\n",
       "    <tr>\n",
       "      <th>3</th>\n",
       "      <td>9780596529321</td>\n",
       "      <td>Programming Collective Intelligence</td>\n",
       "      <td>Toby Segaran</td>\n",
       "    </tr>\n",
       "    <tr>\n",
       "      <th>4</th>\n",
       "      <td>9781491957660</td>\n",
       "      <td>Python for Data Analysis</td>\n",
       "      <td>Wes McKinney</td>\n",
       "    </tr>\n",
       "    <tr>\n",
       "      <th>5</th>\n",
       "      <td>9781449361327</td>\n",
       "      <td>Data Science for Business</td>\n",
       "      <td>Foster Provost, Tom Fawcett</td>\n",
       "    </tr>\n",
       "    <tr>\n",
       "      <th>6</th>\n",
       "      <td>9781449369415</td>\n",
       "      <td>Introduction to Machine Learning with Python</td>\n",
       "      <td>Andreas C. Müller, Sarah Guido</td>\n",
       "    </tr>\n",
       "    <tr>\n",
       "      <th>7</th>\n",
       "      <td>9780999247108</td>\n",
       "      <td>Machine Learning Yearning</td>\n",
       "      <td>Andrew Ng</td>\n",
       "    </tr>\n",
       "    <tr>\n",
       "      <th>8</th>\n",
       "      <td>9781617294631</td>\n",
       "      <td>Natural Language Processing in Action</td>\n",
       "      <td>Lane, Howard, and Hapke</td>\n",
       "    </tr>\n",
       "    <tr>\n",
       "      <th>9</th>\n",
       "      <td>9781492041139</td>\n",
       "      <td>Data Science from Scratch</td>\n",
       "      <td>Joel Grus</td>\n",
       "    </tr>\n",
       "  </tbody>\n",
       "</table>\n",
       "</div>"
      ],
      "text/plain": [
       "            isbn                                               name  \\\n",
       "0  9781492032649  Hands-On Machine Learning with Scikit-Learn, K...   \n",
       "1  9781789955750                            Python Machine Learning   \n",
       "2  9780262035613                                      Deep Learning   \n",
       "3  9780596529321                Programming Collective Intelligence   \n",
       "4  9781491957660                           Python for Data Analysis   \n",
       "5  9781449361327                          Data Science for Business   \n",
       "6  9781449369415       Introduction to Machine Learning with Python   \n",
       "7  9780999247108                          Machine Learning Yearning   \n",
       "8  9781617294631              Natural Language Processing in Action   \n",
       "9  9781492041139                          Data Science from Scratch   \n",
       "\n",
       "                                           author  \n",
       "0                                  Aurélien Géron  \n",
       "1              Sebastian Raschka, Vahid Mirjalili  \n",
       "2  Ian Goodfellow, Yoshua Bengio, Aaron Courville  \n",
       "3                                    Toby Segaran  \n",
       "4                                    Wes McKinney  \n",
       "5                     Foster Provost, Tom Fawcett  \n",
       "6                  Andreas C. Müller, Sarah Guido  \n",
       "7                                       Andrew Ng  \n",
       "8                         Lane, Howard, and Hapke  \n",
       "9                                       Joel Grus  "
      ]
     },
     "execution_count": 6,
     "metadata": {},
     "output_type": "execute_result"
    }
   ],
   "source": [
    "data = pd.read_csv(\"../ISBN_Example.csv\", sep=\"|\")\n",
    "data"
   ]
  },
  {
   "cell_type": "code",
   "execution_count": 8,
   "id": "25582028-25bf-4023-980c-3221414d0446",
   "metadata": {},
   "outputs": [
    {
     "data": {
      "text/plain": [
       "[9780262035613,\n",
       " 9780596529321,\n",
       " 9780999247108,\n",
       " 9781449361327,\n",
       " 9781449369415,\n",
       " 9781491957660,\n",
       " 9781492032649,\n",
       " 9781492041139,\n",
       " 9781617294631,\n",
       " 9781789955750]"
      ]
     },
     "execution_count": 8,
     "metadata": {},
     "output_type": "execute_result"
    }
   ],
   "source": [
    "isbn = data['isbn'].tolist()\n",
    "isbn.sort()\n",
    "isbn"
   ]
  },
  {
   "cell_type": "markdown",
   "id": "c4198b77-6f94-40d2-ada2-b29daf60f10d",
   "metadata": {},
   "source": [
    "### Linear Search Algorithm\n",
    "\n",
    "* Step 1 − Start from the 0th index of the input array, compare the key value with the value present in the 0th index.\n",
    "\n",
    "* Step 2 − If the value matches with the key, return the position at which the value was found.\n",
    "\n",
    "* Step 3 − If the value does not match with the key, compare the next element in the array.\n",
    "\n",
    "* Step 4 − Repeat Step 3 until there is a match found. Return the position at which the match was found.\n",
    "\n",
    "* Step 5 − If it is an unsuccessful search, print that the element is not present in the array and exit the program."
   ]
  },
  {
   "cell_type": "markdown",
   "id": "8e3f24c8-3e15-402b-9ffe-9028941d0b93",
   "metadata": {},
   "source": [
    "### Function Signature:"
   ]
  },
  {
   "cell_type": "code",
   "execution_count": 24,
   "id": "5a935876-13d4-4d84-a2fc-42da6fecfcba",
   "metadata": {},
   "outputs": [],
   "source": [
    "def find_book(books, query):\n",
    "    \"\"\"Function to find book in the books list\n",
    "    Input -> list of books\n",
    "    Query -> book to be find out\n",
    "    \"\"\"\n",
    "    pass"
   ]
  },
  {
   "cell_type": "markdown",
   "id": "644e49a7-7caa-46f3-a617-f66077727164",
   "metadata": {},
   "source": [
    "#### Example Input:"
   ]
  },
  {
   "cell_type": "code",
   "execution_count": 10,
   "id": "78ea4562-924b-42ee-8e7e-d0acf4cf5dc8",
   "metadata": {},
   "outputs": [
    {
     "name": "stdout",
     "output_type": "stream",
     "text": [
      "Input List:  [9780262035613, 9780596529321, 9780999247108, 9781449361327, 9781449369415, 9781491957660, 9781492032649, 9781492041139, 9781617294631, 9781789955750]\n",
      "Query:  9781449369415\n",
      "Output:  4\n"
     ]
    }
   ],
   "source": [
    "query = 9781449369415\n",
    "output = 4\n",
    "print(\"Input List: \", isbn)\n",
    "print(\"Query: \", query)\n",
    "print(\"Output: \", output)\n"
   ]
  },
  {
   "cell_type": "markdown",
   "id": "1e155442-4f69-4e24-a09f-93629907b88f",
   "metadata": {},
   "source": [
    "#### Creating Dictionary of Inputs and Outputs"
   ]
  },
  {
   "cell_type": "code",
   "execution_count": 11,
   "id": "08b23717-0a3f-4405-8372-859c34c0284a",
   "metadata": {},
   "outputs": [],
   "source": [
    "test = {\n",
    "    'input' : {\n",
    "        'books': isbn,\n",
    "        'query': 9781449369415\n",
    "    },\n",
    "    'output': 4\n",
    "}"
   ]
  },
  {
   "cell_type": "code",
   "execution_count": 12,
   "id": "236e4686-9620-4855-afec-d7d9564aecfb",
   "metadata": {},
   "outputs": [
    {
     "data": {
      "text/plain": [
       "False"
      ]
     },
     "execution_count": 12,
     "metadata": {},
     "output_type": "execute_result"
    }
   ],
   "source": [
    "result = find_book(**test['input'])\n",
    "result == test['output']"
   ]
  },
  {
   "cell_type": "markdown",
   "id": "c11ee999-8cb4-4965-b62f-40141f1f1c9e",
   "metadata": {},
   "source": [
    "#### Creating input dictionary\n",
    "\n",
    "\n",
    "    Expected book is in middle of the list\n",
    "    Expected book is in first of the list\n",
    "    Expected book is in last of the list\n",
    "    Book list has only one element which is expected book\n",
    "    Book list does not contain the expected book\n",
    "    Book list is empty\n",
    "    Book list contains duplicate entries\n",
    "    Expected book occurs multiple times in the list array\n"
   ]
  },
  {
   "cell_type": "code",
   "execution_count": 13,
   "id": "b3af6f3c-5f19-4f68-918c-8a7ff03e2d4c",
   "metadata": {},
   "outputs": [],
   "source": [
    "# tests is a list of directories\n",
    "tests = []"
   ]
  },
  {
   "cell_type": "code",
   "execution_count": 15,
   "id": "a2fe9b3f-d69f-43ad-8bc4-3c9c43f8d9cf",
   "metadata": {},
   "outputs": [],
   "source": [
    "# Expected book is in middle of the list\n",
    "tests.append({\n",
    "    'input': {\n",
    "        'books': isbn,\n",
    "        'query':9781491957660\n",
    "    },\n",
    "    'output': 5\n",
    "})"
   ]
  },
  {
   "cell_type": "code",
   "execution_count": 16,
   "id": "24c10526-1ed9-48f2-8ffa-0d664d4baa4b",
   "metadata": {},
   "outputs": [],
   "source": [
    "# Expected book is in the first of the list\n",
    "tests.append({\n",
    "    'input': {\n",
    "        'books': isbn,\n",
    "        'query':9780262035613\n",
    "    },\n",
    "    'output': 0\n",
    "})"
   ]
  },
  {
   "cell_type": "code",
   "execution_count": 17,
   "id": "65fc7f59-ca9f-45ff-bbe5-590ce83f5934",
   "metadata": {},
   "outputs": [],
   "source": [
    "# Expected book is in the last of the list\n",
    "tests.append({\n",
    "    'input': {\n",
    "        'books': isbn,\n",
    "        'query':9781789955750\n",
    "    },\n",
    "    'output': 9\n",
    "})"
   ]
  },
  {
   "cell_type": "code",
   "execution_count": 18,
   "id": "bc5a5f46-5eec-4213-aebf-575c3462a656",
   "metadata": {},
   "outputs": [],
   "source": [
    "# Book list has only one element which is expected book\n",
    "tests.append({\n",
    "    'input': {\n",
    "        'books': [9781789955750],\n",
    "        'query':9781789955750\n",
    "    },\n",
    "    'output': 0\n",
    "})"
   ]
  },
  {
   "cell_type": "code",
   "execution_count": 19,
   "id": "a8608ff2-8cdf-4b1a-bf7e-a58e10233855",
   "metadata": {},
   "outputs": [],
   "source": [
    "# Book list does not contain the expected book\n",
    "tests.append({\n",
    "    'input': {\n",
    "        'books': isbn,\n",
    "        'query':9781789955751\n",
    "    },\n",
    "    'output': -1\n",
    "})"
   ]
  },
  {
   "cell_type": "code",
   "execution_count": 20,
   "id": "06b287a5-13b7-46d2-9ed0-afe7e7bdf5df",
   "metadata": {},
   "outputs": [],
   "source": [
    "# Book list is empty\n",
    "tests.append({\n",
    "    'input': {\n",
    "        'books': [],\n",
    "        'query':9781789955751\n",
    "    },\n",
    "    'output': -1\n",
    "})"
   ]
  },
  {
   "cell_type": "code",
   "execution_count": 21,
   "id": "3b8a8389-034d-4ec0-9d26-180bd618cbf9",
   "metadata": {},
   "outputs": [],
   "source": [
    "#Book list contains duplicate entries\n",
    "tests.append({\n",
    "    'input': {\n",
    "        'books': [9780262035613, 9780596529321, 9780596529321,9780999247108, 9780999247108,9781449361327, 9781449369415, 9781491957660, 9781492032649, 9781492032649,9781492041139, 9781617294631,9781617294631, 9781789955750],\n",
    "        'query':9781491957660\n",
    "    },\n",
    "    'output': 7\n",
    "})"
   ]
  },
  {
   "cell_type": "code",
   "execution_count": 22,
   "id": "6c34c7c6-ef36-45c7-a452-5ccac69e7e27",
   "metadata": {},
   "outputs": [],
   "source": [
    "tests.append({\n",
    "    'input': {\n",
    "        'books': [9780262035613, 9780596529321, 9780596529321,9780999247108, 9780999247108,9781449361327, 9781449369415,9781491957660,9781491957660,9781491957660, 9781491957660, 9781492032649, 9781492032649,9781492041139, 9781617294631,9781617294631, 9781789955750],\n",
    "        'query':9781491957660\n",
    "    },\n",
    "    'output': 7\n",
    "})"
   ]
  },
  {
   "cell_type": "code",
   "execution_count": 23,
   "id": "48bff684-1543-4dd9-8704-b171638d713a",
   "metadata": {},
   "outputs": [
    {
     "data": {
      "text/plain": [
       "[{'input': {'books': [9780262035613,\n",
       "    9780596529321,\n",
       "    9780999247108,\n",
       "    9781449361327,\n",
       "    9781449369415,\n",
       "    9781491957660,\n",
       "    9781492032649,\n",
       "    9781492041139,\n",
       "    9781617294631,\n",
       "    9781789955750],\n",
       "   'query': 9781491957660},\n",
       "  'output': 5},\n",
       " {'input': {'books': [9780262035613,\n",
       "    9780596529321,\n",
       "    9780999247108,\n",
       "    9781449361327,\n",
       "    9781449369415,\n",
       "    9781491957660,\n",
       "    9781492032649,\n",
       "    9781492041139,\n",
       "    9781617294631,\n",
       "    9781789955750],\n",
       "   'query': 9780262035613},\n",
       "  'output': 0},\n",
       " {'input': {'books': [9780262035613,\n",
       "    9780596529321,\n",
       "    9780999247108,\n",
       "    9781449361327,\n",
       "    9781449369415,\n",
       "    9781491957660,\n",
       "    9781492032649,\n",
       "    9781492041139,\n",
       "    9781617294631,\n",
       "    9781789955750],\n",
       "   'query': 9781789955750},\n",
       "  'output': 9},\n",
       " {'input': {'books': [9781789955750], 'query': 9781789955750}, 'output': 0},\n",
       " {'input': {'books': [9780262035613,\n",
       "    9780596529321,\n",
       "    9780999247108,\n",
       "    9781449361327,\n",
       "    9781449369415,\n",
       "    9781491957660,\n",
       "    9781492032649,\n",
       "    9781492041139,\n",
       "    9781617294631,\n",
       "    9781789955750],\n",
       "   'query': 9781789955751},\n",
       "  'output': -1},\n",
       " {'input': {'books': [], 'query': 9781789955751}, 'output': -1},\n",
       " {'input': {'books': [9780262035613,\n",
       "    9780596529321,\n",
       "    9780596529321,\n",
       "    9780999247108,\n",
       "    9780999247108,\n",
       "    9781449361327,\n",
       "    9781449369415,\n",
       "    9781491957660,\n",
       "    9781492032649,\n",
       "    9781492032649,\n",
       "    9781492041139,\n",
       "    9781617294631,\n",
       "    9781617294631,\n",
       "    9781789955750],\n",
       "   'query': 9781491957660},\n",
       "  'output': 7},\n",
       " {'input': {'books': [9780262035613,\n",
       "    9780596529321,\n",
       "    9780596529321,\n",
       "    9780999247108,\n",
       "    9780999247108,\n",
       "    9781449361327,\n",
       "    9781449369415,\n",
       "    9781491957660,\n",
       "    9781491957660,\n",
       "    9781491957660,\n",
       "    9781491957660,\n",
       "    9781492032649,\n",
       "    9781492032649,\n",
       "    9781492041139,\n",
       "    9781617294631,\n",
       "    9781617294631,\n",
       "    9781789955750],\n",
       "   'query': 9781491957660},\n",
       "  'output': 7}]"
      ]
     },
     "execution_count": 23,
     "metadata": {},
     "output_type": "execute_result"
    }
   ],
   "source": [
    "tests"
   ]
  },
  {
   "cell_type": "markdown",
   "id": "79794599-929d-48da-af8e-7709bafb6c40",
   "metadata": {},
   "source": [
    "#### Implementation of Binary Search"
   ]
  },
  {
   "cell_type": "code",
   "execution_count": 28,
   "id": "4cb3c055-b74c-40a9-a499-167d0a237a12",
   "metadata": {},
   "outputs": [],
   "source": [
    "def find_books_binary(books, query):\n",
    "    \"\"\"A function to find book in books list using binary search\"\"\"\n",
    "    # Setting initial location to 0\n",
    "    loc = 0\n",
    "    while True:\n",
    "        # Return -1 if books list if empty\n",
    "        if len(books) == 0: \n",
    "            return -1\n",
    "        # Return location of book if found\n",
    "        if books[loc] == query:\n",
    "            return loc\n",
    "        loc += 1\n",
    "        # If loc is equal to length of books, book is not there in the list and hence return -1\n",
    "        if loc == len(books):\n",
    "            return -1"
   ]
  },
  {
   "cell_type": "code",
   "execution_count": 29,
   "id": "e94d1048-e45a-478f-9629-f5f902eeb464",
   "metadata": {},
   "outputs": [
    {
     "data": {
      "text/plain": [
       "4"
      ]
     },
     "execution_count": 29,
     "metadata": {},
     "output_type": "execute_result"
    }
   ],
   "source": [
    "find_books_binary(**test['input'])"
   ]
  },
  {
   "cell_type": "code",
   "execution_count": 30,
   "id": "9648704b-2d5b-455c-a85b-598fd339f831",
   "metadata": {},
   "outputs": [
    {
     "name": "stdout",
     "output_type": "stream",
     "text": [
      "Test Output is  4\n",
      "\u001b[32mTEST PASSED\u001b[0m\n",
      "Function Execution Time:  8.106231689453125e-06  seconds\n"
     ]
    }
   ],
   "source": [
    "evaluate_test_case(find_books_binary, test)"
   ]
  },
  {
   "cell_type": "code",
   "execution_count": 33,
   "id": "42a0bbaa-a38a-4085-964b-0e7870de3894",
   "metadata": {},
   "outputs": [
    {
     "name": "stdout",
     "output_type": "stream",
     "text": [
      "Test Output is  5\n",
      "\u001b[32mTEST PASSED\u001b[0m\n",
      "Function Execution Time:  4.0531158447265625e-06  seconds\n",
      "======================================================================================================================================================\n",
      "Test Output is  0\n",
      "\u001b[32mTEST PASSED\u001b[0m\n",
      "Function Execution Time:  2.6226043701171875e-06  seconds\n",
      "======================================================================================================================================================\n",
      "Test Output is  9\n",
      "\u001b[32mTEST PASSED\u001b[0m\n",
      "Function Execution Time:  2.1457672119140625e-06  seconds\n",
      "======================================================================================================================================================\n",
      "Test Output is  0\n",
      "\u001b[32mTEST PASSED\u001b[0m\n",
      "Function Execution Time:  7.152557373046875e-07  seconds\n",
      "======================================================================================================================================================\n",
      "Test Output is  -1\n",
      "\u001b[32mTEST PASSED\u001b[0m\n",
      "Function Execution Time:  1.9073486328125e-06  seconds\n",
      "======================================================================================================================================================\n",
      "Test Output is  -1\n",
      "\u001b[32mTEST PASSED\u001b[0m\n",
      "Function Execution Time:  7.152557373046875e-07  seconds\n",
      "======================================================================================================================================================\n",
      "Test Output is  7\n",
      "\u001b[32mTEST PASSED\u001b[0m\n",
      "Function Execution Time:  1.9073486328125e-06  seconds\n",
      "======================================================================================================================================================\n",
      "Test Output is  7\n",
      "\u001b[32mTEST PASSED\u001b[0m\n",
      "Function Execution Time:  1.9073486328125e-06  seconds\n",
      "======================================================================================================================================================\n"
     ]
    }
   ],
   "source": [
    "evaluate_test_cases(find_books_binary, tests)"
   ]
  },
  {
   "cell_type": "markdown",
   "id": "51dd8195-7b8b-41c1-b74c-4606f14e49a7",
   "metadata": {},
   "source": [
    "### Space and Time Complexity\n",
    "\n",
    "**By checking the space and time complexities of Linear Search, we can see time complexity of linear search is O(n) because we need to traverse through entire list and space complexity is O(1)**"
   ]
  },
  {
   "cell_type": "code",
   "execution_count": null,
   "id": "269e2705-e76b-4d26-90ba-e799807d247d",
   "metadata": {},
   "outputs": [],
   "source": []
  }
 ],
 "metadata": {
  "kernelspec": {
   "display_name": "Python 3 (ipykernel)",
   "language": "python",
   "name": "python3"
  },
  "language_info": {
   "codemirror_mode": {
    "name": "ipython",
    "version": 3
   },
   "file_extension": ".py",
   "mimetype": "text/x-python",
   "name": "python",
   "nbconvert_exporter": "python",
   "pygments_lexer": "ipython3",
   "version": "3.11.0rc1"
  }
 },
 "nbformat": 4,
 "nbformat_minor": 5
}
