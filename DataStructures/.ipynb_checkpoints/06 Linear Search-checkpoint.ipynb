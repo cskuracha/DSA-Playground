{
 "cells": [
  {
   "cell_type": "markdown",
   "id": "d1459f59-2bd4-4306-b8fd-1e7568484c0d",
   "metadata": {},
   "source": [
    "## **Linear Search**\n",
    "\n",
    "Linear search is a type of sequential searching algorithm. In this method, every element within the input array is traversed and compared with the key element to be found. If a match is found in the array the search is said to be successful; if there is no match found the search is said to be unsuccessful and gives the worst-case time complexity.\n",
    "\n",
    "The worst case of the linear search method would be an unsuccessful search that does not find the key value in the array, it performs n iterations. Therefore, the worst-case time complexity of the linear search algorithm would be O(n).\n",
    "\n"
   ]
  },
  {
   "cell_type": "code",
   "execution_count": 4,
   "id": "bf043e27-67e8-4d9b-a22d-7eded5d7964c",
   "metadata": {},
   "outputs": [],
   "source": [
    "import time\n",
    "import pandas as pd\n",
    "import numpy as np"
   ]
  },
  {
   "cell_type": "markdown",
   "id": "2715cc94-492d-4663-b8be-b8656d70d3df",
   "metadata": {},
   "source": [
    "### **Generic functions to evaluate the test cases**"
   ]
  },
  {
   "cell_type": "code",
   "execution_count": 2,
   "id": "336b7c6a-2518-437f-9142-8cf06fc7dcfa",
   "metadata": {},
   "outputs": [],
   "source": [
    "def evaluate_test_case(function, test):\n",
    "    \"\"\"This is a custom function to compute the time taken to execute the test\"\"\"\n",
    "    start_time = time.time()\n",
    "    output = function(**test['input'])\n",
    "    end_time = time.time()\n",
    "    execution_time = end_time - start_time\n",
    "    print(\"Test Output is \", output)\n",
    "    if test['output'] == output:\n",
    "        print(\"\\033[32mTEST PASSED\\033[0m\")\n",
    "    else:\n",
    "        print(\"\\033[31mTEST FAILED\\033[0m\")\n",
    "    print(\"Function Execution Time: \", execution_time, \" seconds\")"
   ]
  },
  {
   "cell_type": "code",
   "execution_count": 3,
   "id": "f22d67a2-c0ec-48c6-ac8e-39c5a61df842",
   "metadata": {},
   "outputs": [],
   "source": [
    "def evaluate_test_cases(function, tests):\n",
    "    \"\"\"This is a custom function to compute the time taken to execute the test cases\"\"\"\n",
    "    for test in tests:\n",
    "        start_time = time.time()\n",
    "        output = find_books(**test['input'])\n",
    "        end_time = time.time()\n",
    "        execution_time = end_time - start_time\n",
    "        print(\"Test Output is \", output)\n",
    "        if test['output'] == output:\n",
    "            print(\"\\033[32mTEST PASSED\\033[0m\")\n",
    "        else:\n",
    "            print(\"\\033[31mTEST FAILED\\033[0m\")\n",
    "        print(\"Function Execution Time: \", execution_time, \" seconds\")\n",
    "        print(50 * \"===\")"
   ]
  },
  {
   "cell_type": "markdown",
   "id": "e6dc2eb5-9320-421f-bf05-d01814db428d",
   "metadata": {},
   "source": [
    "### Loading data from file"
   ]
  },
  {
   "cell_type": "code",
   "execution_count": 6,
   "id": "5146c0ca-6649-4b6c-b1c2-1285cc2a2952",
   "metadata": {},
   "outputs": [
    {
     "data": {
      "text/html": [
       "<div>\n",
       "<style scoped>\n",
       "    .dataframe tbody tr th:only-of-type {\n",
       "        vertical-align: middle;\n",
       "    }\n",
       "\n",
       "    .dataframe tbody tr th {\n",
       "        vertical-align: top;\n",
       "    }\n",
       "\n",
       "    .dataframe thead th {\n",
       "        text-align: right;\n",
       "    }\n",
       "</style>\n",
       "<table border=\"1\" class=\"dataframe\">\n",
       "  <thead>\n",
       "    <tr style=\"text-align: right;\">\n",
       "      <th></th>\n",
       "      <th>isbn</th>\n",
       "      <th>name</th>\n",
       "      <th>author</th>\n",
       "    </tr>\n",
       "  </thead>\n",
       "  <tbody>\n",
       "    <tr>\n",
       "      <th>0</th>\n",
       "      <td>9781492032649</td>\n",
       "      <td>Hands-On Machine Learning with Scikit-Learn, K...</td>\n",
       "      <td>Aurélien Géron</td>\n",
       "    </tr>\n",
       "    <tr>\n",
       "      <th>1</th>\n",
       "      <td>9781789955750</td>\n",
       "      <td>Python Machine Learning</td>\n",
       "      <td>Sebastian Raschka, Vahid Mirjalili</td>\n",
       "    </tr>\n",
       "    <tr>\n",
       "      <th>2</th>\n",
       "      <td>9780262035613</td>\n",
       "      <td>Deep Learning</td>\n",
       "      <td>Ian Goodfellow, Yoshua Bengio, Aaron Courville</td>\n",
       "    </tr>\n",
       "    <tr>\n",
       "      <th>3</th>\n",
       "      <td>9780596529321</td>\n",
       "      <td>Programming Collective Intelligence</td>\n",
       "      <td>Toby Segaran</td>\n",
       "    </tr>\n",
       "    <tr>\n",
       "      <th>4</th>\n",
       "      <td>9781491957660</td>\n",
       "      <td>Python for Data Analysis</td>\n",
       "      <td>Wes McKinney</td>\n",
       "    </tr>\n",
       "    <tr>\n",
       "      <th>5</th>\n",
       "      <td>9781449361327</td>\n",
       "      <td>Data Science for Business</td>\n",
       "      <td>Foster Provost, Tom Fawcett</td>\n",
       "    </tr>\n",
       "    <tr>\n",
       "      <th>6</th>\n",
       "      <td>9781449369415</td>\n",
       "      <td>Introduction to Machine Learning with Python</td>\n",
       "      <td>Andreas C. Müller, Sarah Guido</td>\n",
       "    </tr>\n",
       "    <tr>\n",
       "      <th>7</th>\n",
       "      <td>9780999247108</td>\n",
       "      <td>Machine Learning Yearning</td>\n",
       "      <td>Andrew Ng</td>\n",
       "    </tr>\n",
       "    <tr>\n",
       "      <th>8</th>\n",
       "      <td>9781617294631</td>\n",
       "      <td>Natural Language Processing in Action</td>\n",
       "      <td>Lane, Howard, and Hapke</td>\n",
       "    </tr>\n",
       "    <tr>\n",
       "      <th>9</th>\n",
       "      <td>9781492041139</td>\n",
       "      <td>Data Science from Scratch</td>\n",
       "      <td>Joel Grus</td>\n",
       "    </tr>\n",
       "  </tbody>\n",
       "</table>\n",
       "</div>"
      ],
      "text/plain": [
       "            isbn                                               name  \\\n",
       "0  9781492032649  Hands-On Machine Learning with Scikit-Learn, K...   \n",
       "1  9781789955750                            Python Machine Learning   \n",
       "2  9780262035613                                      Deep Learning   \n",
       "3  9780596529321                Programming Collective Intelligence   \n",
       "4  9781491957660                           Python for Data Analysis   \n",
       "5  9781449361327                          Data Science for Business   \n",
       "6  9781449369415       Introduction to Machine Learning with Python   \n",
       "7  9780999247108                          Machine Learning Yearning   \n",
       "8  9781617294631              Natural Language Processing in Action   \n",
       "9  9781492041139                          Data Science from Scratch   \n",
       "\n",
       "                                           author  \n",
       "0                                  Aurélien Géron  \n",
       "1              Sebastian Raschka, Vahid Mirjalili  \n",
       "2  Ian Goodfellow, Yoshua Bengio, Aaron Courville  \n",
       "3                                    Toby Segaran  \n",
       "4                                    Wes McKinney  \n",
       "5                     Foster Provost, Tom Fawcett  \n",
       "6                  Andreas C. Müller, Sarah Guido  \n",
       "7                                       Andrew Ng  \n",
       "8                         Lane, Howard, and Hapke  \n",
       "9                                       Joel Grus  "
      ]
     },
     "execution_count": 6,
     "metadata": {},
     "output_type": "execute_result"
    }
   ],
   "source": [
    "data = pd.read_csv(\"../ISBN_Example.csv\", sep=\"|\")\n",
    "data"
   ]
  },
  {
   "cell_type": "code",
   "execution_count": 8,
   "id": "25582028-25bf-4023-980c-3221414d0446",
   "metadata": {},
   "outputs": [
    {
     "data": {
      "text/plain": [
       "[9780262035613,\n",
       " 9780596529321,\n",
       " 9780999247108,\n",
       " 9781449361327,\n",
       " 9781449369415,\n",
       " 9781491957660,\n",
       " 9781492032649,\n",
       " 9781492041139,\n",
       " 9781617294631,\n",
       " 9781789955750]"
      ]
     },
     "execution_count": 8,
     "metadata": {},
     "output_type": "execute_result"
    }
   ],
   "source": [
    "isbn = data['isbn'].tolist()\n",
    "isbn.sort()\n",
    "isbn"
   ]
  },
  {
   "cell_type": "markdown",
   "id": "c4198b77-6f94-40d2-ada2-b29daf60f10d",
   "metadata": {},
   "source": [
    "### Linear Search Algorithm\n",
    "\n",
    "* Step 1 − Start from the 0th index of the input array, compare the key value with the value present in the 0th index.\n",
    "\n",
    "* Step 2 − If the value matches with the key, return the position at which the value was found.\n",
    "\n",
    "* Step 3 − If the value does not match with the key, compare the next element in the array.\n",
    "\n",
    "* Step 4 − Repeat Step 3 until there is a match found. Return the position at which the match was found.\n",
    "\n",
    "* Step 5 − If it is an unsuccessful search, print that the element is not present in the array and exit the program."
   ]
  },
  {
   "cell_type": "code",
   "execution_count": null,
   "id": "4d145280-7379-417c-a05a-1bc2c34980cb",
   "metadata": {},
   "outputs": [],
   "source": []
  }
 ],
 "metadata": {
  "kernelspec": {
   "display_name": "Python 3 (ipykernel)",
   "language": "python",
   "name": "python3"
  },
  "language_info": {
   "codemirror_mode": {
    "name": "ipython",
    "version": 3
   },
   "file_extension": ".py",
   "mimetype": "text/x-python",
   "name": "python",
   "nbconvert_exporter": "python",
   "pygments_lexer": "ipython3",
   "version": "3.11.0rc1"
  }
 },
 "nbformat": 4,
 "nbformat_minor": 5
}
