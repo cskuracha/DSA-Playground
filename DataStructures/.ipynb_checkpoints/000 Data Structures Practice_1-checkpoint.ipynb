{
 "cells": [
  {
   "cell_type": "markdown",
   "id": "b55e922b-a8bd-40b3-96ec-c43b29ef8522",
   "metadata": {},
   "source": [
    "### Identify Odd numbers in the list"
   ]
  },
  {
   "cell_type": "code",
   "execution_count": 8,
   "id": "b07ffc7a-29cc-4f6b-863c-1087ef342097",
   "metadata": {},
   "outputs": [
    {
     "name": "stdout",
     "output_type": "stream",
     "text": [
      "[1, 3, 5, 7, 9]\n"
     ]
    }
   ],
   "source": [
    "list1 = list(range(10))\n",
    "\n",
    "def get_even_numbers(nums):\n",
    "    \"\"\"Function to return odd numbers in the list\"\"\"\n",
    "    return [num for num in list1 if num % 2 != 0]\n",
    "    #output = []\n",
    "    \n",
    "    #for num in list1:\n",
    "\n",
    "    #    if num % 2 != 0:\n",
    "    #        output.append(num)\n",
    "    #return output\n",
    "\n",
    "print(get_even_numbers(list1))"
   ]
  },
  {
   "cell_type": "markdown",
   "id": "612140a7-061a-477a-aa67-f61c67c88f41",
   "metadata": {},
   "source": [
    "### Given an array, reverse the array"
   ]
  },
  {
   "cell_type": "code",
   "execution_count": 10,
   "id": "25cb398f-d727-4b5e-ab50-dce5ccb0a74a",
   "metadata": {},
   "outputs": [
    {
     "name": "stdout",
     "output_type": "stream",
     "text": [
      "[9, 8, 7, 6, 5, 4, 3, 2, 1, 0]\n"
     ]
    }
   ],
   "source": [
    "def reverse_array(nums):\n",
    "    \"\"\"Function to reverse the array\"\"\"\n",
    "    return nums[::-1]\n",
    "print(reverse_array(list1))"
   ]
  },
  {
   "cell_type": "code",
   "execution_count": 11,
   "id": "e719833c-e7ff-43fd-9097-99b19d2437c3",
   "metadata": {},
   "outputs": [
    {
     "name": "stdout",
     "output_type": "stream",
     "text": [
      "[9, 8, 7, 6, 5, 4, 3, 2, 1, 0]\n"
     ]
    }
   ],
   "source": [
    "def referse_array(nums):\n",
    "    \"\"\"Function to reverse the array\"\"\"\n",
    "    output = []\n",
    "    for i in range(len(nums)):\n",
    "        output.append(nums[len(nums)-i])\n",
    "    return output\n",
    "\n",
    "print(reverse_array(list1))"
   ]
  },
  {
   "cell_type": "code",
   "execution_count": null,
   "id": "e447843c-59fa-4d7d-93fa-5329e303fe97",
   "metadata": {},
   "outputs": [],
   "source": []
  }
 ],
 "metadata": {
  "kernelspec": {
   "display_name": "Python 3 (ipykernel)",
   "language": "python",
   "name": "python3"
  },
  "language_info": {
   "codemirror_mode": {
    "name": "ipython",
    "version": 3
   },
   "file_extension": ".py",
   "mimetype": "text/x-python",
   "name": "python",
   "nbconvert_exporter": "python",
   "pygments_lexer": "ipython3",
   "version": "3.11.0rc1"
  }
 },
 "nbformat": 4,
 "nbformat_minor": 5
}
