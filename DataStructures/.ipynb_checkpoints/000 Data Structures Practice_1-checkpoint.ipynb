{
 "cells": [
  {
   "cell_type": "markdown",
   "id": "b55e922b-a8bd-40b3-96ec-c43b29ef8522",
   "metadata": {},
   "source": [
    "### Identify Odd numbers in the list"
   ]
  },
  {
   "cell_type": "code",
   "execution_count": 8,
   "id": "b07ffc7a-29cc-4f6b-863c-1087ef342097",
   "metadata": {},
   "outputs": [
    {
     "name": "stdout",
     "output_type": "stream",
     "text": [
      "[1, 3, 5, 7, 9]\n"
     ]
    }
   ],
   "source": [
    "list1 = list(range(10))\n",
    "\n",
    "def get_even_numbers(nums):\n",
    "    \"\"\"Function to return odd numbers in the list\"\"\"\n",
    "    return [num for num in list1 if num % 2 != 0]\n",
    "    #output = []\n",
    "    \n",
    "    #for num in list1:\n",
    "\n",
    "    #    if num % 2 != 0:\n",
    "    #        output.append(num)\n",
    "    #return output\n",
    "\n",
    "print(get_even_numbers(list1))"
   ]
  },
  {
   "cell_type": "markdown",
   "id": "612140a7-061a-477a-aa67-f61c67c88f41",
   "metadata": {},
   "source": [
    "### Given an array, reverse the array"
   ]
  },
  {
   "cell_type": "code",
   "execution_count": 10,
   "id": "25cb398f-d727-4b5e-ab50-dce5ccb0a74a",
   "metadata": {},
   "outputs": [
    {
     "name": "stdout",
     "output_type": "stream",
     "text": [
      "[9, 8, 7, 6, 5, 4, 3, 2, 1, 0]\n"
     ]
    }
   ],
   "source": [
    "def reverse_array(nums):\n",
    "    \"\"\"Function to reverse the array\"\"\"\n",
    "    return nums[::-1]\n",
    "print(reverse_array(list1))"
   ]
  },
  {
   "cell_type": "code",
   "execution_count": 11,
   "id": "e719833c-e7ff-43fd-9097-99b19d2437c3",
   "metadata": {},
   "outputs": [
    {
     "name": "stdout",
     "output_type": "stream",
     "text": [
      "[9, 8, 7, 6, 5, 4, 3, 2, 1, 0]\n"
     ]
    }
   ],
   "source": [
    "def referse_array(nums):\n",
    "    \"\"\"Function to reverse the array\"\"\"\n",
    "    output = []\n",
    "    for i in range(len(nums)):\n",
    "        output.append(nums[len(nums)-i])\n",
    "    return output\n",
    "\n",
    "print(reverse_array(list1))"
   ]
  },
  {
   "cell_type": "code",
   "execution_count": 3,
   "id": "e447843c-59fa-4d7d-93fa-5329e303fe97",
   "metadata": {},
   "outputs": [
    {
     "data": {
      "text/plain": [
       "[1, 4, 2, 3]"
      ]
     },
     "execution_count": 3,
     "metadata": {},
     "output_type": "execute_result"
    }
   ],
   "source": [
    "# Quick Question 1\n",
    "x = [1,2,3]\n",
    "x.insert(1,4)\n",
    "x"
   ]
  },
  {
   "cell_type": "code",
   "execution_count": 6,
   "id": "00f6ff62-ea7d-49f1-96e5-6d7fdec96d07",
   "metadata": {},
   "outputs": [
    {
     "name": "stdout",
     "output_type": "stream",
     "text": [
      "[1, 2]\n",
      "**\n"
     ]
    }
   ],
   "source": [
    "# Quick Question 2\n",
    "x = [1,2,3]\n",
    "y = x[:-1]\n",
    "print(y)\n",
    "x[-1] = 4\n",
    "print(\"*\" * len(y))"
   ]
  },
  {
   "cell_type": "code",
   "execution_count": 10,
   "id": "ecfe79f8-8d21-4f04-a5aa-2dd260ac4819",
   "metadata": {},
   "outputs": [
    {
     "name": "stdout",
     "output_type": "stream",
     "text": [
      "[1, 2]\n"
     ]
    }
   ],
   "source": [
    "print(x[:-1])"
   ]
  },
  {
   "cell_type": "code",
   "execution_count": 12,
   "id": "0558faa7-ad1b-40ff-b155-cedf56dd7bc0",
   "metadata": {},
   "outputs": [
    {
     "name": "stdout",
     "output_type": "stream",
     "text": [
      "[1, 2, 3]\n",
      "[4, 2, 3]\n"
     ]
    }
   ],
   "source": [
    "# Quick Question 3\n",
    "x = [1,2,3]\n",
    "y = x[:]\n",
    "x[0] = 4\n",
    "print(y)\n",
    "print(x)"
   ]
  },
  {
   "cell_type": "code",
   "execution_count": 13,
   "id": "d6d238db-0e56-42cb-a140-9113e98fcfe7",
   "metadata": {},
   "outputs": [
    {
     "name": "stdout",
     "output_type": "stream",
     "text": [
      "John\n"
     ]
    }
   ],
   "source": [
    "# Quick Question 4\n",
    "x = {\"name\":\"John\", \"age\":30}\n",
    "y = x.copy()\n",
    "x['name'] = \"Jane\"\n",
    "print(y['name'])"
   ]
  },
  {
   "cell_type": "code",
   "execution_count": 15,
   "id": "9d0fd8d8-9fbe-4439-a253-537ebd76c59b",
   "metadata": {},
   "outputs": [
    {
     "name": "stdout",
     "output_type": "stream",
     "text": [
      "True\n",
      "[4, 2, 3]\n",
      "False\n"
     ]
    }
   ],
   "source": [
    "# Quick Question 5\n",
    "x = [1,2,3]\n",
    "y = x\n",
    "print(x is y)\n",
    "y[0] = 4\n",
    "print(x)\n",
    "z = x[:]\n",
    "print(x is z)"
   ]
  },
  {
   "cell_type": "code",
   "execution_count": 16,
   "id": "814be23e-f84f-4649-b096-65203b026133",
   "metadata": {},
   "outputs": [
    {
     "name": "stdout",
     "output_type": "stream",
     "text": [
      "{'a': 1, 'b': 3, 'c': 4}\n"
     ]
    }
   ],
   "source": [
    "# Question 6\n",
    "x = {'a': 1, 'b': 2}\n",
    "y = {'b': 3, 'c': 4}\n",
    "z = {**x, **y}\n",
    "print(z)"
   ]
  },
  {
   "cell_type": "markdown",
   "id": "26ba3c36-1765-480d-b10b-d40e04beb448",
   "metadata": {},
   "source": [
    "### Reversing a list"
   ]
  },
  {
   "cell_type": "code",
   "execution_count": 3,
   "id": "c2afa911-e24a-4edd-b763-c790a93fcf39",
   "metadata": {},
   "outputs": [
    {
     "name": "stdout",
     "output_type": "stream",
     "text": [
      "List is [10, 2, 6, 3, 1] and reverse list is [1, 3, 6, 2, 10]\n"
     ]
    }
   ],
   "source": [
    "def reverse_list(l1):\n",
    "    \"\"\"Function to reverse the list\"\"\"\n",
    "    return l1[::-1]\n",
    "\n",
    "list1 = [10,2,6,3,1]\n",
    "print(f\"List is {list1} and reverse list is {reverse_list(list1)}\")"
   ]
  },
  {
   "cell_type": "code",
   "execution_count": 5,
   "id": "e21fc309-5abb-4385-9b25-a910e8d78394",
   "metadata": {},
   "outputs": [
    {
     "name": "stdout",
     "output_type": "stream",
     "text": [
      "List is [10, 2, 6, 3, 1] and reverse list is [1, 3, 6, 2, 10]\n"
     ]
    }
   ],
   "source": [
    "def reverse_list(l1):\n",
    "    \"\"\"Function to reverse the list\"\"\"\n",
    "    l2 = []\n",
    "    for i in range(len(l1)-1,-1,-1):\n",
    "        l2.append(l1[i])\n",
    "    return l2\n",
    "print(f\"List is {list1} and reverse list is {reverse_list(list1)}\")"
   ]
  },
  {
   "cell_type": "code",
   "execution_count": 8,
   "id": "d8c58604-906d-45d5-9d3a-c46195e0e094",
   "metadata": {},
   "outputs": [
    {
     "name": "stdout",
     "output_type": "stream",
     "text": [
      "List is [10, 2, 6, 3, 1] and reverse list is [1, 3, 6, 2, 10]\n"
     ]
    }
   ],
   "source": [
    "def reverse_list(l1):\n",
    "    \"\"\"Function to reverse the list\"\"\"\n",
    "    l2 = []\n",
    "    for i in range(len(l1)):\n",
    "        l2.append(l1[len(l1) - 1 - i])\n",
    "    return l2\n",
    "\n",
    "print(f\"List is {list1} and reverse list is {reverse_list(list1)}\")\n",
    "        "
   ]
  },
  {
   "cell_type": "code",
   "execution_count": 9,
   "id": "ac4a89d0-43f5-4d6c-a2f7-d11cc766431c",
   "metadata": {},
   "outputs": [
    {
     "name": "stdout",
     "output_type": "stream",
     "text": [
      "List is [10, 2, 6, 3, 1] and reverse list is [1, 3, 6, 2, 10]\n"
     ]
    }
   ],
   "source": [
    "def reverse_list(l1):\n",
    "    \"\"\"Function to reverse the list\"\"\"\n",
    "    start, end = 0, len(l1) - 1\n",
    "    while start < end:\n",
    "        temp = l1[start]\n",
    "        l1[start] = l1[end]\n",
    "        l1[end] = temp\n",
    "        start += 1\n",
    "        end -= 1\n",
    "    return l1\n",
    "\n",
    "print(f\"List is {list1} and reverse list is {reverse_list(list1)}\")"
   ]
  },
  {
   "cell_type": "markdown",
   "id": "69bef0d6-e83f-4491-9c41-b8154cc8af26",
   "metadata": {},
   "source": [
    "### Array Data Type"
   ]
  },
  {
   "cell_type": "code",
   "execution_count": 11,
   "id": "cac7dc5a-cf21-4a23-ad4c-f59420f80af8",
   "metadata": {},
   "outputs": [],
   "source": [
    "import array"
   ]
  },
  {
   "cell_type": "code",
   "execution_count": 12,
   "id": "a720bd10-9cd0-4120-a020-bdc8dd83089a",
   "metadata": {},
   "outputs": [
    {
     "name": "stdout",
     "output_type": "stream",
     "text": [
      "array('i', [1, 2, 3, 4, 5])\n",
      "<class 'array.array'>\n"
     ]
    }
   ],
   "source": [
    "int_arr = array.array(\"i\",[1,2,3,4,5])\n",
    "print(int_arr)\n",
    "print(type(int_arr))"
   ]
  },
  {
   "cell_type": "code",
   "execution_count": 16,
   "id": "798b4398-8ec0-41f3-b058-b2ab0c762feb",
   "metadata": {},
   "outputs": [
    {
     "name": "stdout",
     "output_type": "stream",
     "text": [
      "array('f', [3.140000104904175])\n",
      "<class 'array.array'>\n"
     ]
    }
   ],
   "source": [
    "float_arr = array.array(\"f\",[3.14])\n",
    "print(float_arr)\n",
    "print(type(float_arr))"
   ]
  },
  {
   "cell_type": "code",
   "execution_count": null,
   "id": "a151d93b-60f1-4bcc-aa10-acc986d3c321",
   "metadata": {},
   "outputs": [],
   "source": []
  }
 ],
 "metadata": {
  "kernelspec": {
   "display_name": "Python 3 (ipykernel)",
   "language": "python",
   "name": "python3"
  },
  "language_info": {
   "codemirror_mode": {
    "name": "ipython",
    "version": 3
   },
   "file_extension": ".py",
   "mimetype": "text/x-python",
   "name": "python",
   "nbconvert_exporter": "python",
   "pygments_lexer": "ipython3",
   "version": "3.11.0rc1"
  }
 },
 "nbformat": 4,
 "nbformat_minor": 5
}
