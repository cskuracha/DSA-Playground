{
 "cells": [
  {
   "cell_type": "markdown",
   "id": "ca3089c6-e0ed-4695-9abc-d95ee718b034",
   "metadata": {},
   "source": [
    "# Searching and Sorting Algorithms"
   ]
  },
  {
   "cell_type": "markdown",
   "id": "e0d506a6-53fd-4ca3-8adf-f370fe466026",
   "metadata": {},
   "source": [
    "## Searching Algorithms\n",
    "\n",
    "- Sequential / Linear Search\n",
    "- Binary Search"
   ]
  },
  {
   "cell_type": "markdown",
   "id": "b14fb8ea-a9b7-4bc5-b5a1-18dcb7b3fba7",
   "metadata": {},
   "source": [
    "### Sequential / Linear Search\n",
    "\n",
    "In Sequential / Linear search, we will search for a value in a list sequentially from starting to ending. Typically we will scan all elements in the list. In worst case scenario, if an element is not there in the list, it takes O(n) to complete the searching."
   ]
  },
  {
   "cell_type": "code",
   "execution_count": 3,
   "id": "e324e5b8-d531-4024-9d18-1e55389cfe37",
   "metadata": {},
   "outputs": [],
   "source": [
    "import random"
   ]
  },
  {
   "cell_type": "code",
   "execution_count": 5,
   "id": "292c3514-99fc-4a16-beb6-c3469e263c2c",
   "metadata": {},
   "outputs": [],
   "source": [
    "def linear_search(l, v):\n",
    "    \"\"\"Function to find a value, v in the list l\"\"\"\n",
    "    for i in range(len(l)):\n",
    "        if l[i] == v:\n",
    "            return i\n",
    "    return False"
   ]
  },
  {
   "cell_type": "code",
   "execution_count": 6,
   "id": "c2566f17-5d2d-4a69-b2a3-3b5f76fe4abb",
   "metadata": {},
   "outputs": [
    {
     "data": {
      "text/plain": [
       "[8, 13, 31, 32, 3, 6, 39, 32, 49, 43]"
      ]
     },
     "execution_count": 6,
     "metadata": {},
     "output_type": "execute_result"
    }
   ],
   "source": [
    "val = 32\n",
    "rand_list = [random.randint(1,50) for _ in range(10) ]\n",
    "rand_list"
   ]
  },
  {
   "cell_type": "code",
   "execution_count": 7,
   "id": "3ce1cac6-462d-4efb-a9d5-5f65f525c92b",
   "metadata": {},
   "outputs": [
    {
     "data": {
      "text/plain": [
       "3"
      ]
     },
     "execution_count": 7,
     "metadata": {},
     "output_type": "execute_result"
    }
   ],
   "source": [
    "linear_search(rand_list, val)"
   ]
  },
  {
   "cell_type": "markdown",
   "id": "85b512ef-1f7e-436b-8466-76b5f82ac74b",
   "metadata": {},
   "source": [
    "### Binary Search\n",
    "In Binary Search, we need to find a value in **sorted list**. We will follow below process:\n",
    "1) Get the value of middle of the list, if middle value is target value, return middle index\n",
    "2) If middle value is not the target, find if target value is less then or greater than middle value\n",
    "3) If target value is less than middle value, search in the first half of the list (Repeat Step 2)\n",
    "4) If target value is greater than the middle value, search in the second half of the list (Repeat Step 2)\n",
    "5) Repeat Step 3 and Step 4 until we find a value or list is empty\n",
    "\n",
    "In worst case scenario, Order of complexity is O(log n) since we will be dividing the list into half in every iteration"
   ]
  },
  {
   "cell_type": "markdown",
   "id": "547a2f29-630a-48dc-8f8d-1e79c179e2af",
   "metadata": {},
   "source": [
    "#### Using Iteration"
   ]
  },
  {
   "cell_type": "code",
   "execution_count": 8,
   "id": "5948ddda-7d53-4594-ade7-ead7dab91ac1",
   "metadata": {},
   "outputs": [],
   "source": [
    "def binary_search_iteration(l, v):\n",
    "    \"\"\"Function to implement the binary search using iteration\"\"\"\n",
    "    (low, high) = (0, len(l)-1)\n",
    "    while low < high:\n",
    "        mid = (low + high) // 2\n",
    "        if l[mid] == v:\n",
    "            return mid\n",
    "        elif v < l[mid]:\n",
    "            high = mid -1\n",
    "        elif v > l[mid]:\n",
    "            low = mid + 1\n",
    "    return -1\n",
    "    "
   ]
  },
  {
   "cell_type": "code",
   "execution_count": 13,
   "id": "f537a953-6d96-4151-af01-ff402d6cde66",
   "metadata": {},
   "outputs": [
    {
     "data": {
      "text/plain": [
       "[3, 4, 6, 7, 18, 18, 25, 27, 35, 50]"
      ]
     },
     "execution_count": 13,
     "metadata": {},
     "output_type": "execute_result"
    }
   ],
   "source": [
    "val = 27\n",
    "random.seed(123)\n",
    "rand_list = [random.randint(1,50) for _ in range(10) ]\n",
    "rand_list.sort()\n",
    "rand_list"
   ]
  },
  {
   "cell_type": "code",
   "execution_count": 14,
   "id": "32590599-6507-4fe6-b000-44a24604f20b",
   "metadata": {},
   "outputs": [
    {
     "data": {
      "text/plain": [
       "7"
      ]
     },
     "execution_count": 14,
     "metadata": {},
     "output_type": "execute_result"
    }
   ],
   "source": [
    "binary_search_iteration(rand_list, val)"
   ]
  },
  {
   "cell_type": "markdown",
   "id": "d63af305-b170-4289-801d-d3de0270aad6",
   "metadata": {},
   "source": [
    "#### Using Recursion"
   ]
  },
  {
   "cell_type": "code",
   "execution_count": 15,
   "id": "10bcf43a-c589-416b-a4c6-215b747fc0d4",
   "metadata": {},
   "outputs": [],
   "source": [
    "def binary_search_recursion(l, v):\n",
    "    \"\"\"Function to implement the binary search using recursion\"\"\"\n",
    "    len = len(l)\n",
    "    if len == 0:\n",
    "        return -1\n",
    "    mid = len // 2\n",
    "    if l[mid] == v:\n",
    "        return mid\n",
    "    elif v < l[mid]:\n",
    "        return binary_search_recursion(l[:mid], v)\n",
    "    elif v > l[mid]:\n",
    "        return binary_search_recursion(l[mid + 1:], v)\n",
    "    return -1"
   ]
  },
  {
   "cell_type": "code",
   "execution_count": 16,
   "id": "1d5010fc-7b57-4025-ba41-f1d3656c3c32",
   "metadata": {},
   "outputs": [
    {
     "data": {
      "text/plain": [
       "7"
      ]
     },
     "execution_count": 16,
     "metadata": {},
     "output_type": "execute_result"
    }
   ],
   "source": [
    "binary_search_iteration(rand_list, val)"
   ]
  },
  {
   "cell_type": "code",
   "execution_count": null,
   "id": "9d9f9d40-d2c1-4a9e-9803-be5e1e3124cf",
   "metadata": {},
   "outputs": [],
   "source": []
  }
 ],
 "metadata": {
  "kernelspec": {
   "display_name": "Python 3 (ipykernel)",
   "language": "python",
   "name": "python3"
  },
  "language_info": {
   "codemirror_mode": {
    "name": "ipython",
    "version": 3
   },
   "file_extension": ".py",
   "mimetype": "text/x-python",
   "name": "python",
   "nbconvert_exporter": "python",
   "pygments_lexer": "ipython3",
   "version": "3.11.0rc1"
  }
 },
 "nbformat": 4,
 "nbformat_minor": 5
}
