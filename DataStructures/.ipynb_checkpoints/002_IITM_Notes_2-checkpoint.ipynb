{
 "cells": [
  {
   "cell_type": "markdown",
   "id": "ca3089c6-e0ed-4695-9abc-d95ee718b034",
   "metadata": {},
   "source": [
    "# Searching and Sorting Algorithms"
   ]
  },
  {
   "cell_type": "markdown",
   "id": "e0d506a6-53fd-4ca3-8adf-f370fe466026",
   "metadata": {},
   "source": [
    "## Searching Algorithms\n",
    "\n",
    "- Sequential / Linear Search\n",
    "- Binary Search"
   ]
  },
  {
   "cell_type": "markdown",
   "id": "b14fb8ea-a9b7-4bc5-b5a1-18dcb7b3fba7",
   "metadata": {},
   "source": [
    "### Sequential / Linear Search\n",
    "\n",
    "In Sequential / Linear search, we will search for a value in a list sequentially from starting to ending. Typically we will scan all elements in the list. In worst case scenario, if an element is not there in the list, it takes O(n) to complete the searching."
   ]
  },
  {
   "cell_type": "code",
   "execution_count": 3,
   "id": "e324e5b8-d531-4024-9d18-1e55389cfe37",
   "metadata": {},
   "outputs": [],
   "source": [
    "import random"
   ]
  },
  {
   "cell_type": "code",
   "execution_count": 5,
   "id": "292c3514-99fc-4a16-beb6-c3469e263c2c",
   "metadata": {},
   "outputs": [],
   "source": [
    "def linear_search(l, v):\n",
    "    \"\"\"Function to find a value, v in the list l\"\"\"\n",
    "    for i in range(len(l)):\n",
    "        if l[i] == v:\n",
    "            return i\n",
    "    return False"
   ]
  },
  {
   "cell_type": "code",
   "execution_count": 6,
   "id": "c2566f17-5d2d-4a69-b2a3-3b5f76fe4abb",
   "metadata": {},
   "outputs": [
    {
     "data": {
      "text/plain": [
       "[8, 13, 31, 32, 3, 6, 39, 32, 49, 43]"
      ]
     },
     "execution_count": 6,
     "metadata": {},
     "output_type": "execute_result"
    }
   ],
   "source": [
    "val = 32\n",
    "rand_list = [random.randint(1,50) for _ in range(10) ]\n",
    "rand_list"
   ]
  },
  {
   "cell_type": "code",
   "execution_count": 7,
   "id": "3ce1cac6-462d-4efb-a9d5-5f65f525c92b",
   "metadata": {},
   "outputs": [
    {
     "data": {
      "text/plain": [
       "3"
      ]
     },
     "execution_count": 7,
     "metadata": {},
     "output_type": "execute_result"
    }
   ],
   "source": [
    "linear_search(rand_list, val)"
   ]
  },
  {
   "cell_type": "markdown",
   "id": "85b512ef-1f7e-436b-8466-76b5f82ac74b",
   "metadata": {},
   "source": [
    "### Binary Search\n",
    "In Binary Search, we need to find a value in **sorted list**. We will follow below process:\n",
    "1) Get the value of middle of the list, if middle value is target value, return middle index\n",
    "2) If middle value is not the target, find if target value is less then or greater than middle value\n",
    "3) If target value is less than middle value, search in the first half of the list (Repeat Step 2)\n",
    "4) If target value is greater than the middle value, search in the second half of the list (Repeat Step 2)\n",
    "5) Repeat Step 3 and Step 4 until we find a value or list is empty\n",
    "\n",
    "In worst case scenario, Order of complexity is O(log n) since we will be dividing the list into half in every iteration"
   ]
  },
  {
   "cell_type": "markdown",
   "id": "547a2f29-630a-48dc-8f8d-1e79c179e2af",
   "metadata": {},
   "source": [
    "#### Using Iteration"
   ]
  },
  {
   "cell_type": "code",
   "execution_count": 8,
   "id": "5948ddda-7d53-4594-ade7-ead7dab91ac1",
   "metadata": {},
   "outputs": [],
   "source": [
    "def binary_search_iteration(l, v):\n",
    "    \"\"\"Function to implement the binary search using iteration\"\"\"\n",
    "    (low, high) = (0, len(l)-1)\n",
    "    while low < high:\n",
    "        mid = (low + high) // 2\n",
    "        if l[mid] == v:\n",
    "            return mid\n",
    "        elif v < l[mid]:\n",
    "            high = mid -1\n",
    "        elif v > l[mid]:\n",
    "            low = mid + 1\n",
    "    return -1\n",
    "    "
   ]
  },
  {
   "cell_type": "code",
   "execution_count": 13,
   "id": "f537a953-6d96-4151-af01-ff402d6cde66",
   "metadata": {},
   "outputs": [
    {
     "data": {
      "text/plain": [
       "[3, 4, 6, 7, 18, 18, 25, 27, 35, 50]"
      ]
     },
     "execution_count": 13,
     "metadata": {},
     "output_type": "execute_result"
    }
   ],
   "source": [
    "val = 27\n",
    "random.seed(123)\n",
    "rand_list = [random.randint(1,50) for _ in range(10) ]\n",
    "rand_list.sort()\n",
    "rand_list"
   ]
  },
  {
   "cell_type": "code",
   "execution_count": 14,
   "id": "32590599-6507-4fe6-b000-44a24604f20b",
   "metadata": {},
   "outputs": [
    {
     "data": {
      "text/plain": [
       "7"
      ]
     },
     "execution_count": 14,
     "metadata": {},
     "output_type": "execute_result"
    }
   ],
   "source": [
    "binary_search_iteration(rand_list, val)"
   ]
  },
  {
   "cell_type": "markdown",
   "id": "d63af305-b170-4289-801d-d3de0270aad6",
   "metadata": {},
   "source": [
    "#### Using Recursion"
   ]
  },
  {
   "cell_type": "code",
   "execution_count": 17,
   "id": "10bcf43a-c589-416b-a4c6-215b747fc0d4",
   "metadata": {},
   "outputs": [],
   "source": [
    "def binary_search_recursion(l, v):\n",
    "    \"\"\"Function to implement the binary search using recursion\"\"\"\n",
    "    len = len(l)\n",
    "    # This is base condition\n",
    "    if len == 0:\n",
    "        return -1\n",
    "    mid = len // 2\n",
    "    # When middle element is value\n",
    "    if l[mid] == v:\n",
    "        return mid\n",
    "    # If value is less than middle element, search in left part\n",
    "    elif v < l[mid]:\n",
    "        return binary_search_recursion(l[:mid], v)\n",
    "    # If value is greater than middle element, search right part\n",
    "    elif v > l[mid]:\n",
    "        return binary_search_recursion(l[mid + 1:], v)\n",
    "    return -1"
   ]
  },
  {
   "cell_type": "code",
   "execution_count": 19,
   "id": "1d5010fc-7b57-4025-ba41-f1d3656c3c32",
   "metadata": {},
   "outputs": [
    {
     "data": {
      "text/plain": [
       "4"
      ]
     },
     "execution_count": 19,
     "metadata": {},
     "output_type": "execute_result"
    }
   ],
   "source": [
    "binary_search_iteration(rand_list, 18)"
   ]
  },
  {
   "cell_type": "markdown",
   "id": "7b999892-fdc0-4926-861a-92d24333e080",
   "metadata": {},
   "source": [
    "## Sorting Algorithm\n",
    "- Selection Sort\n",
    "- Insertion Sort"
   ]
  },
  {
   "cell_type": "markdown",
   "id": "8c8a0ade-839e-4f75-8560-0c3ce8c106b2",
   "metadata": {},
   "source": [
    "### Selection Sort\n",
    "Selection sort is simple and efficient algorithm that works by repeatedly selecting the smallest / largest element from the unsorted portion of the list and moving it to sorted portion of the list. Overall complexity is O(n ^2)"
   ]
  },
  {
   "cell_type": "markdown",
   "id": "8d834128-eabf-47f0-b38e-1828aa29a6db",
   "metadata": {},
   "source": [
    "#### Using Iteratively"
   ]
  },
  {
   "cell_type": "code",
   "execution_count": 7,
   "id": "2758d8b6-fb2a-4a45-b43f-560dfa1010ec",
   "metadata": {},
   "outputs": [],
   "source": [
    "def selection_sort_iteratively(l):\n",
    "    \"\"\"Function to sort the list using selection sort using iteratively\"\"\"\n",
    "    for i in range(len(l)):\n",
    "        min_idx = i\n",
    "        for j in range(i +1, len(l)):\n",
    "            if l[min_idx] > l[j]:\n",
    "                min_idx = j\n",
    "        l[min_idx], l[i] = l[i], l[min_idx]\n",
    "    return l\n"
   ]
  },
  {
   "cell_type": "code",
   "execution_count": 8,
   "id": "b823d1b3-c94c-4f53-9f27-105b64eac7e2",
   "metadata": {},
   "outputs": [
    {
     "data": {
      "text/plain": [
       "[31, 18, 43, 34, 43, 23, 10, 25, 1, 24, 31, 18, 42, 30, 45, 39, 15, 36, 1, 43]"
      ]
     },
     "execution_count": 8,
     "metadata": {},
     "output_type": "execute_result"
    }
   ],
   "source": [
    "random.seed(12)\n",
    "rand_list = [random.randint(1,50) for _ in range(20) ]\n",
    "\n",
    "rand_list"
   ]
  },
  {
   "cell_type": "code",
   "execution_count": 9,
   "id": "ca05b382-5ee8-4c44-9e51-8be000d375fd",
   "metadata": {},
   "outputs": [
    {
     "data": {
      "text/plain": [
       "[1, 1, 10, 15, 18, 18, 23, 24, 25, 30, 31, 31, 34, 36, 39, 42, 43, 43, 43, 45]"
      ]
     },
     "execution_count": 9,
     "metadata": {},
     "output_type": "execute_result"
    }
   ],
   "source": [
    "rand_list_sort = selection_sort_iteratively(rand_list)\n",
    "rand_list_sort"
   ]
  },
  {
   "cell_type": "markdown",
   "id": "c012c2bb-dc21-43a9-a4da-75e160cde984",
   "metadata": {},
   "source": [
    "#### Using Recursively"
   ]
  },
  {
   "cell_type": "code",
   "execution_count": 52,
   "id": "2db22f11-01b9-48b3-9237-6d964124a22f",
   "metadata": {},
   "outputs": [],
   "source": [
    "def min_index(l, i, j):\n",
    "    \"\"\"Function to get the minimum index \"\"\"\n",
    "    if i == j:\n",
    "        return i\n",
    "    k = min_index(l, i + 1, j)\n",
    "    return i if l[i] < l[k] else k\n",
    "    \n",
    "def selection_sort_recursive(l,index = 0):\n",
    "    \"\"\"Function to sort the list using selection sort using recursion\"\"\"\n",
    "    # Base case\n",
    "    if index == len(l):\n",
    "        return -1\n",
    "    k = min_index(l, index, len(l) -1)\n",
    "    if k != index:\n",
    "        l[k], l[index] = l[index], l[k]\n",
    "    selection_sort_recursive(l, index + 1)\n"
   ]
  },
  {
   "cell_type": "code",
   "execution_count": 53,
   "id": "f09ffa23-840a-4c8e-9156-1156d355812f",
   "metadata": {},
   "outputs": [
    {
     "data": {
      "text/plain": [
       "[31, 18, 43, 34, 43, 23, 10, 25, 1, 24, 31, 18, 42, 30, 45, 39, 15, 36, 1, 43]"
      ]
     },
     "execution_count": 53,
     "metadata": {},
     "output_type": "execute_result"
    }
   ],
   "source": [
    "random.seed(12)\n",
    "rand_list = [random.randint(1,50) for _ in range(20) ]\n",
    "rand_list"
   ]
  },
  {
   "cell_type": "code",
   "execution_count": 54,
   "id": "04606d60-6f75-494d-98fa-eb096eaf80d6",
   "metadata": {},
   "outputs": [
    {
     "data": {
      "text/plain": [
       "[1, 1, 10, 15, 18, 18, 23, 24, 25, 30, 31, 31, 34, 36, 39, 42, 43, 43, 43, 45]"
      ]
     },
     "execution_count": 54,
     "metadata": {},
     "output_type": "execute_result"
    }
   ],
   "source": [
    "selection_sort_recursive(rand_list)\n",
    "rand_list"
   ]
  },
  {
   "cell_type": "markdown",
   "id": "e1f06362-4ab4-4f91-a84f-a5fb3f0ed14a",
   "metadata": {},
   "source": [
    "### Insertion Sort\n",
    "Insertion sort works by iteratively inserting each element of an unsorted list into its correct position in a sorted portion of the list. Order of complexity is O(n^2)"
   ]
  },
  {
   "cell_type": "markdown",
   "id": "ab9d2be9-37ff-4b0a-94a2-bd8d94025853",
   "metadata": {},
   "source": [
    "#### Using iteratively"
   ]
  },
  {
   "cell_type": "code",
   "execution_count": 4,
   "id": "3205e2a3-03c3-4061-9508-4cffae2e86d6",
   "metadata": {},
   "outputs": [],
   "source": [
    "def insertion_sort_iteratively(a):\n",
    "    \"\"\"Function to sort list using Insertion sort using iterative method\"\"\"\n",
    "    for i in range(1, len(a)):\n",
    "        k = a[i]\n",
    "        j = i -1\n",
    "        while j >= 0 and k < a[j]:\n",
    "            a[j + 1] = a[j]\n",
    "            j -= 1\n",
    "        a[j + 1] = k"
   ]
  },
  {
   "cell_type": "code",
   "execution_count": 5,
   "id": "0b59db71-28fd-42c7-b0d9-a7c101159a26",
   "metadata": {},
   "outputs": [
    {
     "data": {
      "text/plain": [
       "[4, 18, 6, 50, 27, 18, 7, 3, 25, 35, 36, 22, 22, 4, 11, 9, 22, 36, 22, 45]"
      ]
     },
     "execution_count": 5,
     "metadata": {},
     "output_type": "execute_result"
    }
   ],
   "source": [
    "random.seed(123)\n",
    "rand_list = [random.randint(1,50) for _ in range(20) ]\n",
    "rand_list"
   ]
  },
  {
   "cell_type": "code",
   "execution_count": 6,
   "id": "706c3359-4a41-4099-803d-e599ec4cce2f",
   "metadata": {},
   "outputs": [
    {
     "data": {
      "text/plain": [
       "[3, 4, 4, 6, 7, 9, 11, 18, 18, 22, 22, 22, 22, 25, 27, 35, 36, 36, 45, 50]"
      ]
     },
     "execution_count": 6,
     "metadata": {},
     "output_type": "execute_result"
    }
   ],
   "source": [
    "insertion_sort_iteratively(rand_list)\n",
    "rand_list"
   ]
  },
  {
   "cell_type": "markdown",
   "id": "8f97c5ae-7a84-4d83-bcf8-f72a7f8054e2",
   "metadata": {},
   "source": [
    "#### From Madhavan Mukund"
   ]
  },
  {
   "cell_type": "code",
   "execution_count": 10,
   "id": "0cd95d8e-7871-4dfc-b17b-4d17641547ff",
   "metadata": {},
   "outputs": [],
   "source": [
    "def insertion_sort_iterative_MM(a):\n",
    "    \"\"\"Function to sort the list using Insertion sort using Iterative method\"\"\"\n",
    "    n = len(a)\n",
    "    if n < 1:\n",
    "        return a\n",
    "    for i in range(n):\n",
    "        j = i\n",
    "        while j > 0 and a[j] < a[j -1]:\n",
    "            a[j], a[j-1] = a[j-1], a[j]\n",
    "            j -= 1\n",
    "    return a"
   ]
  },
  {
   "cell_type": "code",
   "execution_count": 11,
   "id": "03b34eed-c899-477e-848f-763e44fb5937",
   "metadata": {},
   "outputs": [
    {
     "data": {
      "text/plain": [
       "[4, 18, 6, 50, 27, 18, 7, 3, 25, 35, 36, 22, 22, 4, 11, 9, 22, 36, 22, 45]"
      ]
     },
     "execution_count": 11,
     "metadata": {},
     "output_type": "execute_result"
    }
   ],
   "source": [
    "random.seed(123)\n",
    "rand_list = [random.randint(1,50) for _ in range(20) ]\n",
    "rand_list"
   ]
  },
  {
   "cell_type": "code",
   "execution_count": 12,
   "id": "c7dad28a-f446-4bbb-ba14-4701c2693906",
   "metadata": {},
   "outputs": [
    {
     "data": {
      "text/plain": [
       "[3, 4, 4, 6, 7, 9, 11, 18, 18, 22, 22, 22, 22, 25, 27, 35, 36, 36, 45, 50]"
      ]
     },
     "execution_count": 12,
     "metadata": {},
     "output_type": "execute_result"
    }
   ],
   "source": [
    "insertion_sort_iterative_MM(rand_list)\n",
    "rand_list"
   ]
  },
  {
   "cell_type": "code",
   "execution_count": null,
   "id": "8c5b9632-66d7-4b07-9cb1-a0db9c442ded",
   "metadata": {},
   "outputs": [],
   "source": []
  }
 ],
 "metadata": {
  "kernelspec": {
   "display_name": "Python 3 (ipykernel)",
   "language": "python",
   "name": "python3"
  },
  "language_info": {
   "codemirror_mode": {
    "name": "ipython",
    "version": 3
   },
   "file_extension": ".py",
   "mimetype": "text/x-python",
   "name": "python",
   "nbconvert_exporter": "python",
   "pygments_lexer": "ipython3",
   "version": "3.11.0rc1"
  }
 },
 "nbformat": 4,
 "nbformat_minor": 5
}
