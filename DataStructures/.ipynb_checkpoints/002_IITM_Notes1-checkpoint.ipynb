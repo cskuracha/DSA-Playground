{
 "cells": [
  {
   "cell_type": "markdown",
   "id": "8bfef782-d387-4eb5-a3d9-238993db629a",
   "metadata": {},
   "source": [
    "## Python Recap"
   ]
  },
  {
   "cell_type": "code",
   "execution_count": 1,
   "id": "edff1376-5e5c-4a9f-b692-837101e56166",
   "metadata": {},
   "outputs": [],
   "source": [
    "def factors(n):\n",
    "    \"\"\"Function to compute factors of n\"\"\"\n",
    "    res = []\n",
    "    for i in range(1, n + 1):\n",
    "        if n % i == 0:\n",
    "            res.append(i)\n",
    "    return res"
   ]
  },
  {
   "cell_type": "code",
   "execution_count": 2,
   "id": "bf05c529-0830-4271-8964-c3ea0329299d",
   "metadata": {},
   "outputs": [],
   "source": [
    "def prime(n):\n",
    "    \"\"\"Function to compute if a number is prime\"\"\"\n",
    "    return factors(n) == [1,n]"
   ]
  },
  {
   "cell_type": "code",
   "execution_count": 3,
   "id": "c5c720f2-4757-4eb4-8b0a-d9a5190bdb5e",
   "metadata": {},
   "outputs": [
    {
     "data": {
      "text/plain": [
       "True"
      ]
     },
     "execution_count": 3,
     "metadata": {},
     "output_type": "execute_result"
    }
   ],
   "source": [
    "prime(2)"
   ]
  },
  {
   "cell_type": "markdown",
   "id": "98404ec7-a6aa-4f37-99ee-ea90ba6c2d03",
   "metadata": {},
   "source": [
    "### List all primes upto m"
   ]
  },
  {
   "cell_type": "code",
   "execution_count": 7,
   "id": "7e1d28ce-8507-426f-ba46-12e2ef78c240",
   "metadata": {},
   "outputs": [],
   "source": [
    "def primes_upto(m):\n",
    "    \"\"\"Function to compute all primes upto m\"\"\"\n",
    "    list_primes = []\n",
    "    for i in range(1, m + 1):\n",
    "        if prime(i):\n",
    "            list_primes.append(i)\n",
    "    return list_primes"
   ]
  },
  {
   "cell_type": "markdown",
   "id": "1f6871a7-cdae-4a3a-836e-eaa402cae2d4",
   "metadata": {},
   "source": [
    "### List first m primes"
   ]
  },
  {
   "cell_type": "code",
   "execution_count": 6,
   "id": "bf8dd049-aa5b-42fa-ada4-a4bcd0fdceb4",
   "metadata": {},
   "outputs": [],
   "source": [
    "def first_primes(m):\n",
    "    \"\"\"Function to list down all first m primes\"\"\"\n",
    "    (count, i, list_primes) = (0, 1, [])\n",
    "    while count < m:\n",
    "        if prime(i):\n",
    "            (count, list_primes) = (count + 1, list_primes + [i])\n",
    "        i += 1\n",
    "    return list_primes"
   ]
  },
  {
   "cell_type": "code",
   "execution_count": 9,
   "id": "0cd3496f-9883-477f-825d-283887fc168d",
   "metadata": {},
   "outputs": [
    {
     "data": {
      "text/plain": [
       "[2, 3, 5, 7, 11, 13, 17, 19]"
      ]
     },
     "execution_count": 9,
     "metadata": {},
     "output_type": "execute_result"
    }
   ],
   "source": [
    "primes_upto(20)"
   ]
  },
  {
   "cell_type": "code",
   "execution_count": 10,
   "id": "52d0582a-21a2-4df0-a7fa-fdd588b9f676",
   "metadata": {},
   "outputs": [
    {
     "data": {
      "text/plain": [
       "[2, 3, 5, 7, 11, 13, 17, 19, 23, 29]"
      ]
     },
     "execution_count": 10,
     "metadata": {},
     "output_type": "execute_result"
    }
   ],
   "source": [
    "first_primes(10)"
   ]
  },
  {
   "cell_type": "code",
   "execution_count": null,
   "id": "ac807d03-ca52-47e6-8fab-cc0b7128b1ba",
   "metadata": {},
   "outputs": [],
   "source": []
  }
 ],
 "metadata": {
  "kernelspec": {
   "display_name": "Python 3 (ipykernel)",
   "language": "python",
   "name": "python3"
  },
  "language_info": {
   "codemirror_mode": {
    "name": "ipython",
    "version": 3
   },
   "file_extension": ".py",
   "mimetype": "text/x-python",
   "name": "python",
   "nbconvert_exporter": "python",
   "pygments_lexer": "ipython3",
   "version": "3.11.0rc1"
  }
 },
 "nbformat": 4,
 "nbformat_minor": 5
}
