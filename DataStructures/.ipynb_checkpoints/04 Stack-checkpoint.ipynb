{
 "cells": [
  {
   "cell_type": "markdown",
   "id": "ec7ed82c-23a1-4983-b685-04746f7a6551",
   "metadata": {},
   "source": [
    "## **Stack**\n",
    "\n",
    "A stack is a linear data structure adhering to the Last-In, First-Out (LIFO) principle. Imagine a stack of plates: the one put on last (pushed) is the first one removed (popped).\n",
    "\n",
    "Below are the uses of Stack Data Structure:\n",
    "\n",
    "* **Function call return addresses**: Keeping track of where to return after nested function calls.\n",
    "* **Undo/redo functionality**: Managing previous states for easy reversal.\n",
    "* **Expression evaluation**: Processing arithmetic expressions according to operator precedence.\n",
    "* **Web browser back/forward buttons**: Remembering previously visited pages.\n",
    "* **Algorithms**: Depth-first search, backtracking, parsing, and more.\n",
    "\n",
    "Stack Supports below operations:\n",
    "\n",
    "* **Push**: Adds an element to the top of the stack.\n",
    "* **Pop**: Removes and returns the element from the top of the stack.\n",
    "* **peek**: Returns the top item without removing it. Raises an error if the stack is empty.\n",
    "* **is_empty**: Returns True if the stack is empty, False otherwise."
   ]
  },
  {
   "cell_type": "markdown",
   "id": "d1f9a9b3-2fa7-411a-b30a-ba0f9f731d65",
   "metadata": {},
   "source": [
    "### **Implementation**"
   ]
  },
  {
   "cell_type": "code",
   "execution_count": 7,
   "id": "5e7ffa0d-6efe-4983-b94f-2bcee84af296",
   "metadata": {},
   "outputs": [],
   "source": [
    "class Stack:\n",
    "    def __init__(self):\n",
    "        self.stack = []\n",
    "\n",
    "    def push(self, item):\n",
    "        \"\"\"Function to push an element into stack\"\"\"\n",
    "        self.stack.append(item)\n",
    "\n",
    "    def pop(self):\n",
    "        \"\"\"Function to pop an element from the stack\"\"\"\n",
    "        if not self.is_empty():\n",
    "            return self.stack.pop()\n",
    "        else:\n",
    "            print(\"Stack is empty\")\n",
    "            return None\n",
    "\n",
    "    def peek(self):\n",
    "        \"\"\"Function to check last item in stack\"\"\"\n",
    "        if not self.is_empty():\n",
    "            return self.stack[-1]\n",
    "        else:\n",
    "            print(\"Stack is empty\")\n",
    "            return None\n",
    "\n",
    "    def size(self):\n",
    "        \"\"\"Function to return size of stack\"\"\"\n",
    "        return len(self.stack)\n",
    "\n",
    "    def is_empty(self):\n",
    "        \"\"\"Function to check if stack is empty\"\"\"\n",
    "        return len(self.stack) == 0"
   ]
  },
  {
   "cell_type": "code",
   "execution_count": 14,
   "id": "743e851b-7015-4398-bbf5-08d6dff51150",
   "metadata": {},
   "outputs": [],
   "source": [
    "# Adding to Stack\n",
    "stack_0 = Stack()\n",
    "stack_0.push(1)\n",
    "stack_0.push(2)\n",
    "stack_0.push(3)\n"
   ]
  },
  {
   "cell_type": "code",
   "execution_count": 15,
   "id": "0c6eabaa-4691-4fc0-9962-0ccae2d3f452",
   "metadata": {},
   "outputs": [
    {
     "name": "stdout",
     "output_type": "stream",
     "text": [
      "3\n"
     ]
    }
   ],
   "source": [
    "# Checking size of stack\n",
    "print(stack_0.size())"
   ]
  },
  {
   "cell_type": "code",
   "execution_count": 16,
   "id": "37253c39-1312-4a54-a400-17e9edf41b11",
   "metadata": {},
   "outputs": [
    {
     "name": "stdout",
     "output_type": "stream",
     "text": [
      "3\n"
     ]
    }
   ],
   "source": [
    "# Peeking last element\n",
    "print(stack_0.peek())"
   ]
  },
  {
   "cell_type": "code",
   "execution_count": 17,
   "id": "a0acdd2e-620c-4683-a895-4691b47068ed",
   "metadata": {},
   "outputs": [
    {
     "name": "stdout",
     "output_type": "stream",
     "text": [
      "3\n",
      "2\n",
      "1\n"
     ]
    }
   ],
   "source": [
    "# Popping last element\n",
    "print(stack_0.pop())\n",
    "print(stack_0.pop())\n",
    "print(stack_0.pop())"
   ]
  },
  {
   "cell_type": "code",
   "execution_count": 18,
   "id": "8c3d2e5f-c557-49cf-add1-fbbefe38ae3a",
   "metadata": {},
   "outputs": [
    {
     "name": "stdout",
     "output_type": "stream",
     "text": [
      "True\n"
     ]
    }
   ],
   "source": [
    "# Checking if last element is empty\n",
    "print(stack_0.is_empty())"
   ]
  },
  {
   "cell_type": "code",
   "execution_count": null,
   "id": "bd0a2dd1-ec45-4e84-b823-f1af40f598fa",
   "metadata": {},
   "outputs": [],
   "source": []
  }
 ],
 "metadata": {
  "kernelspec": {
   "display_name": "Python 3 (ipykernel)",
   "language": "python",
   "name": "python3"
  },
  "language_info": {
   "codemirror_mode": {
    "name": "ipython",
    "version": 3
   },
   "file_extension": ".py",
   "mimetype": "text/x-python",
   "name": "python",
   "nbconvert_exporter": "python",
   "pygments_lexer": "ipython3",
   "version": "3.11.0rc1"
  }
 },
 "nbformat": 4,
 "nbformat_minor": 5
}
