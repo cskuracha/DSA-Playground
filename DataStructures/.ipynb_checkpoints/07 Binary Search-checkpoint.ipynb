{
 "cells": [
  {
   "cell_type": "markdown",
   "id": "37fa60cc-6e0a-464b-b413-e3c4250ceb70",
   "metadata": {},
   "source": [
    "## **Binary Search**\n",
    "\n",
    "Binary Search is a fundamental searching algorithm used to efficiently locate a target value within a sorted array. It operates by repeatedly dividing the search interval in half, narrowing down the possible locations for the target value. The key feature of Binary Search is its logarithmic time complexity O(log n), making it significantly faster than linear search for large datasets.\n",
    "\n",
    "**Algorithm**\n",
    "\n",
    "* Step 1: Begin with the entire sorted array.\n",
    "* Step 2: Define two pointers, 'low' and 'high', representing the start and end of the current search interval, respectively.\n",
    "* Step 3: Calculate the middle index of the current interval: mid = (low + high) / 2.\n",
    "* Step 4: Compare the target value with the element at the middle index.\n",
    "    * If the target matches the middle element, return its index (successful search).\n",
    "    * If the target is less than the middle element, adjust the 'high' pointer to mid - 1 and repeat Step 3.\n",
    "    * If the target is greater than the middle element, adjust the 'low' pointer to mid + 1 and repeat Step 3.\n",
    "* Step 5: Repeat Steps 3-4 until the target is found or the search interval becomes empty.\n",
    "\n",
    "**Points to be noted**:\n",
    "* Binary Search requires the array to be sorted beforehand. If the array is not sorted, a sorting algorithm should be applied first.\n",
    "* It's suitable for large datasets where efficiency is crucial, as its logarithmic time complexity ensures fast searches even in massive arrays.\n",
    "* Time complexity: O(log n), significantly faster than linear search (O(n)).\n",
    "* Space complexity: O(1), additional memory usage is constant regardless of array size.\n",
    "* Time complexity: O(log n), significantly faster than linear search (O(n)).\n",
    "Space complexity: O(1), additional memory usage is constant regardless of array size.\n",
    "Versatile algorithm with applications in various domains like data retrieval, sorting algorithms, and more.\n",
    "Versatile algorithm with applications in various domains like data retrieval, sorting algorithms, and more.\n"
   ]
  },
  {
   "cell_type": "code",
   "execution_count": 1,
   "id": "e729d5cf-0f89-47ad-b86b-4d97d6b20d92",
   "metadata": {},
   "outputs": [],
   "source": [
    "import time\n",
    "import pandas as pd\n",
    "import numpy as np"
   ]
  },
  {
   "cell_type": "markdown",
   "id": "c9cda461-80b8-41a1-b593-ccbbc70f0a01",
   "metadata": {},
   "source": [
    "### **Generic functions to evaluate the test cases**"
   ]
  },
  {
   "cell_type": "code",
   "execution_count": 2,
   "id": "bc863862-299e-485a-a4ba-45fd3dd5c2de",
   "metadata": {},
   "outputs": [],
   "source": [
    "def evaluate_test_case(function, test):\n",
    "    \"\"\"This is a custom function to compute the time taken to execute the test\"\"\"\n",
    "    start_time = time.time()\n",
    "    output = function(**test['input'])\n",
    "    end_time = time.time()\n",
    "    execution_time = end_time - start_time\n",
    "    print(\"Test Output is \", output)\n",
    "    if test['output'] == output:\n",
    "        print(\"\\033[32mTEST PASSED\\033[0m\")\n",
    "    else:\n",
    "        print(\"\\033[31mTEST FAILED\\033[0m\")\n",
    "    print(\"Function Execution Time: \", execution_time, \" seconds\")"
   ]
  },
  {
   "cell_type": "code",
   "execution_count": 3,
   "id": "7a65ddb1-a521-4c5e-bb09-7d65c8a9f74d",
   "metadata": {},
   "outputs": [],
   "source": [
    "def evaluate_test_cases(function, tests):\n",
    "    \"\"\"This is a custom function to compute the time taken to execute the test cases\"\"\"\n",
    "    for test in tests:\n",
    "        start_time = time.time()\n",
    "        output = function(**test['input'])\n",
    "        end_time = time.time()\n",
    "        execution_time = end_time - start_time\n",
    "        print(\"Test Output is \", output)\n",
    "        if test['output'] == output:\n",
    "            print(\"\\033[32mTEST PASSED\\033[0m\")\n",
    "        else:\n",
    "            print(\"\\033[31mTEST FAILED\\033[0m\")\n",
    "        print(\"Function Execution Time: \", execution_time, \" seconds\")\n",
    "        print(50 * \"===\")"
   ]
  },
  {
   "cell_type": "markdown",
   "id": "09e1929b-88aa-4af8-af41-649cadbf58bc",
   "metadata": {},
   "source": [
    "### Loading data from file"
   ]
  },
  {
   "cell_type": "code",
   "execution_count": 4,
   "id": "0d638f53-87c1-4f89-879a-cbf345efed36",
   "metadata": {},
   "outputs": [
    {
     "data": {
      "text/html": [
       "<div>\n",
       "<style scoped>\n",
       "    .dataframe tbody tr th:only-of-type {\n",
       "        vertical-align: middle;\n",
       "    }\n",
       "\n",
       "    .dataframe tbody tr th {\n",
       "        vertical-align: top;\n",
       "    }\n",
       "\n",
       "    .dataframe thead th {\n",
       "        text-align: right;\n",
       "    }\n",
       "</style>\n",
       "<table border=\"1\" class=\"dataframe\">\n",
       "  <thead>\n",
       "    <tr style=\"text-align: right;\">\n",
       "      <th></th>\n",
       "      <th>isbn</th>\n",
       "      <th>name</th>\n",
       "      <th>author</th>\n",
       "    </tr>\n",
       "  </thead>\n",
       "  <tbody>\n",
       "    <tr>\n",
       "      <th>0</th>\n",
       "      <td>9781492032649</td>\n",
       "      <td>Hands-On Machine Learning with Scikit-Learn, K...</td>\n",
       "      <td>Aurélien Géron</td>\n",
       "    </tr>\n",
       "    <tr>\n",
       "      <th>1</th>\n",
       "      <td>9781789955750</td>\n",
       "      <td>Python Machine Learning</td>\n",
       "      <td>Sebastian Raschka, Vahid Mirjalili</td>\n",
       "    </tr>\n",
       "    <tr>\n",
       "      <th>2</th>\n",
       "      <td>9780262035613</td>\n",
       "      <td>Deep Learning</td>\n",
       "      <td>Ian Goodfellow, Yoshua Bengio, Aaron Courville</td>\n",
       "    </tr>\n",
       "    <tr>\n",
       "      <th>3</th>\n",
       "      <td>9780596529321</td>\n",
       "      <td>Programming Collective Intelligence</td>\n",
       "      <td>Toby Segaran</td>\n",
       "    </tr>\n",
       "    <tr>\n",
       "      <th>4</th>\n",
       "      <td>9781491957660</td>\n",
       "      <td>Python for Data Analysis</td>\n",
       "      <td>Wes McKinney</td>\n",
       "    </tr>\n",
       "    <tr>\n",
       "      <th>5</th>\n",
       "      <td>9781449361327</td>\n",
       "      <td>Data Science for Business</td>\n",
       "      <td>Foster Provost, Tom Fawcett</td>\n",
       "    </tr>\n",
       "    <tr>\n",
       "      <th>6</th>\n",
       "      <td>9781449369415</td>\n",
       "      <td>Introduction to Machine Learning with Python</td>\n",
       "      <td>Andreas C. Müller, Sarah Guido</td>\n",
       "    </tr>\n",
       "    <tr>\n",
       "      <th>7</th>\n",
       "      <td>9780999247108</td>\n",
       "      <td>Machine Learning Yearning</td>\n",
       "      <td>Andrew Ng</td>\n",
       "    </tr>\n",
       "    <tr>\n",
       "      <th>8</th>\n",
       "      <td>9781617294631</td>\n",
       "      <td>Natural Language Processing in Action</td>\n",
       "      <td>Lane, Howard, and Hapke</td>\n",
       "    </tr>\n",
       "    <tr>\n",
       "      <th>9</th>\n",
       "      <td>9781492041139</td>\n",
       "      <td>Data Science from Scratch</td>\n",
       "      <td>Joel Grus</td>\n",
       "    </tr>\n",
       "  </tbody>\n",
       "</table>\n",
       "</div>"
      ],
      "text/plain": [
       "            isbn                                               name  \\\n",
       "0  9781492032649  Hands-On Machine Learning with Scikit-Learn, K...   \n",
       "1  9781789955750                            Python Machine Learning   \n",
       "2  9780262035613                                      Deep Learning   \n",
       "3  9780596529321                Programming Collective Intelligence   \n",
       "4  9781491957660                           Python for Data Analysis   \n",
       "5  9781449361327                          Data Science for Business   \n",
       "6  9781449369415       Introduction to Machine Learning with Python   \n",
       "7  9780999247108                          Machine Learning Yearning   \n",
       "8  9781617294631              Natural Language Processing in Action   \n",
       "9  9781492041139                          Data Science from Scratch   \n",
       "\n",
       "                                           author  \n",
       "0                                  Aurélien Géron  \n",
       "1              Sebastian Raschka, Vahid Mirjalili  \n",
       "2  Ian Goodfellow, Yoshua Bengio, Aaron Courville  \n",
       "3                                    Toby Segaran  \n",
       "4                                    Wes McKinney  \n",
       "5                     Foster Provost, Tom Fawcett  \n",
       "6                  Andreas C. Müller, Sarah Guido  \n",
       "7                                       Andrew Ng  \n",
       "8                         Lane, Howard, and Hapke  \n",
       "9                                       Joel Grus  "
      ]
     },
     "execution_count": 4,
     "metadata": {},
     "output_type": "execute_result"
    }
   ],
   "source": [
    "data = pd.read_csv(\"../ISBN_Example.csv\", sep=\"|\")\n",
    "data"
   ]
  },
  {
   "cell_type": "code",
   "execution_count": 6,
   "id": "e147b227-1df9-4ad9-ad20-cf117c0424c0",
   "metadata": {},
   "outputs": [
    {
     "data": {
      "text/plain": [
       "[9780262035613,\n",
       " 9780596529321,\n",
       " 9780999247108,\n",
       " 9781449361327,\n",
       " 9781449369415,\n",
       " 9781491957660,\n",
       " 9781492032649,\n",
       " 9781492041139,\n",
       " 9781617294631,\n",
       " 9781789955750]"
      ]
     },
     "execution_count": 6,
     "metadata": {},
     "output_type": "execute_result"
    }
   ],
   "source": [
    "isbn = data['isbn'].tolist()\n",
    "isbn.sort()\n",
    "isbn"
   ]
  },
  {
   "cell_type": "markdown",
   "id": "4662ecc1-fab3-4a6f-b357-bf3de56e9645",
   "metadata": {},
   "source": [
    "### **Binary Search Algorithm**\n",
    "\n",
    "* Step 1 − Select the middle item in the array and compare it with the key value to be searched. If it is matched, return the position of the median.\n",
    "\n",
    "* Step 2 − If it does not match the key value, check if the key value is either greater than or less than the median value.\n",
    "\n",
    "* Step 3 − If the key is greater, perform the search in the right sub-array; but if the key is lower than the median value, perform the search in the left sub-array.\n",
    "\n",
    "* Step 4 − Repeat Steps 1, 2 and 3 iteratively, until the size of sub-array becomes 1.\n",
    "\n",
    "* Step 5 − If the key value does not exist in the array, then the algorithm returns an unsuccessful search."
   ]
  },
  {
   "cell_type": "markdown",
   "id": "3f25a64d-0347-4f0b-8c1e-f76d792a479d",
   "metadata": {},
   "source": [
    "#### Function Signature:"
   ]
  },
  {
   "cell_type": "code",
   "execution_count": 11,
   "id": "36145cd5-6cfe-482b-a1e1-6e694df3b4c8",
   "metadata": {},
   "outputs": [],
   "source": [
    "def find_book(books, query):\n",
    "    \"\"\"Function to find book in the books list\n",
    "    Input -> list of books\n",
    "    Query -> book to be find out\n",
    "    \"\"\"\n",
    "    pass"
   ]
  },
  {
   "cell_type": "markdown",
   "id": "a493680f-4ecd-49c7-acde-40f275929dee",
   "metadata": {},
   "source": [
    "#### Sample Inputs"
   ]
  },
  {
   "cell_type": "code",
   "execution_count": 8,
   "id": "7e7df44c-5013-41d5-8ac5-4cc18a3b4844",
   "metadata": {},
   "outputs": [
    {
     "name": "stdout",
     "output_type": "stream",
     "text": [
      "Input List:  [9780262035613, 9780596529321, 9780999247108, 9781449361327, 9781449369415, 9781491957660, 9781492032649, 9781492041139, 9781617294631, 9781789955750]\n",
      "Query:  9781449369415\n",
      "Output:  4\n"
     ]
    }
   ],
   "source": [
    "query = 9781449369415\n",
    "output = 4\n",
    "print(\"Input List: \", isbn)\n",
    "print(\"Query: \", query)\n",
    "print(\"Output: \", output)"
   ]
  },
  {
   "cell_type": "markdown",
   "id": "b6c779ec-de7f-49e8-ad96-eae8c8683e5f",
   "metadata": {},
   "source": [
    "#### Creating Dictionary of Inputs and Outputs"
   ]
  },
  {
   "cell_type": "code",
   "execution_count": 9,
   "id": "e10a9961-bdf4-48ed-8764-c6ed6569df6b",
   "metadata": {},
   "outputs": [],
   "source": [
    "test = {\n",
    "    'input' : {\n",
    "        'books': isbn,\n",
    "        'query': 9781449369415\n",
    "    },\n",
    "    'output': 4\n",
    "}"
   ]
  },
  {
   "cell_type": "code",
   "execution_count": 12,
   "id": "d46882dc-8248-4529-aa62-6968290a0bd9",
   "metadata": {},
   "outputs": [
    {
     "data": {
      "text/plain": [
       "False"
      ]
     },
     "execution_count": 12,
     "metadata": {},
     "output_type": "execute_result"
    }
   ],
   "source": [
    "result = find_book(**test['input'])\n",
    "result == test['output']"
   ]
  },
  {
   "cell_type": "markdown",
   "id": "7dcafe54-a836-4d88-98ae-90cc2c229d6e",
   "metadata": {},
   "source": [
    "#### Creating input dictionary\n",
    "\n",
    "\n",
    "    Expected book is in middle of the list\n",
    "    Expected book is in first of the list\n",
    "    Expected book is in last of the list\n",
    "    Book list has only one element which is expected book\n",
    "    Book list does not contain the expected book\n",
    "    Book list is empty\n",
    "    Book list contains duplicate entries\n",
    "    Expected book occurs multiple times in the list array"
   ]
  },
  {
   "cell_type": "code",
   "execution_count": 13,
   "id": "917bd6dd-589b-49fb-b61b-43c4e88ea756",
   "metadata": {},
   "outputs": [],
   "source": [
    "# tests is a list of directories\n",
    "tests = []"
   ]
  },
  {
   "cell_type": "code",
   "execution_count": 14,
   "id": "ec0b02b8-ae88-4f94-a11e-f51304060ecb",
   "metadata": {},
   "outputs": [],
   "source": [
    "# Expected book is in middle of the list\n",
    "tests.append({\n",
    "    'input': {\n",
    "        'books': isbn,\n",
    "        'query':9781491957660\n",
    "    },\n",
    "    'output': 5\n",
    "})"
   ]
  },
  {
   "cell_type": "code",
   "execution_count": 15,
   "id": "d08e764e-eb11-4728-99c7-687dae6f6b4b",
   "metadata": {},
   "outputs": [],
   "source": [
    "# Expected book is in the first of the list\n",
    "tests.append({\n",
    "    'input': {\n",
    "        'books': isbn,\n",
    "        'query':9780262035613\n",
    "    },\n",
    "    'output': 0\n",
    "})"
   ]
  },
  {
   "cell_type": "code",
   "execution_count": 16,
   "id": "ae21b568-6695-420a-b6e3-05b374565b84",
   "metadata": {},
   "outputs": [],
   "source": [
    "# Expected book is in the last of the list\n",
    "tests.append({\n",
    "    'input': {\n",
    "        'books': isbn,\n",
    "        'query':9781789955750\n",
    "    },\n",
    "    'output': 9\n",
    "})"
   ]
  },
  {
   "cell_type": "code",
   "execution_count": 17,
   "id": "7c978b97-4b8f-48c5-a18f-b828fe58fefd",
   "metadata": {},
   "outputs": [],
   "source": [
    "# Book list has only one element which is expected book\n",
    "tests.append({\n",
    "    'input': {\n",
    "        'books': [9781789955750],\n",
    "        'query':9781789955750\n",
    "    },\n",
    "    'output': 0\n",
    "})"
   ]
  },
  {
   "cell_type": "code",
   "execution_count": 18,
   "id": "da34d635-eb62-44db-8b7c-46f52f94c2a2",
   "metadata": {},
   "outputs": [],
   "source": [
    "# Book list does not contain the expected book\n",
    "tests.append({\n",
    "    'input': {\n",
    "        'books': isbn,\n",
    "        'query':9781789955751\n",
    "    },\n",
    "    'output': -1\n",
    "})"
   ]
  },
  {
   "cell_type": "code",
   "execution_count": 19,
   "id": "24b6b594-e13e-4ef8-b4ee-dd6ff4aefeb7",
   "metadata": {},
   "outputs": [],
   "source": [
    "# Book list is empty\n",
    "tests.append({\n",
    "    'input': {\n",
    "        'books': [],\n",
    "        'query':9781789955751\n",
    "    },\n",
    "    'output': -1\n",
    "})"
   ]
  },
  {
   "cell_type": "code",
   "execution_count": 20,
   "id": "d2e5f519-ec7f-4d39-91bd-9735067c6425",
   "metadata": {},
   "outputs": [],
   "source": [
    "#Book list contains duplicate entries\n",
    "tests.append({\n",
    "    'input': {\n",
    "        'books': [9780262035613, 9780596529321, 9780596529321,9780999247108, 9780999247108,9781449361327, 9781449369415, 9781491957660, 9781492032649, 9781492032649,9781492041139, 9781617294631,9781617294631, 9781789955750],\n",
    "        'query':9781491957660\n",
    "    },\n",
    "    'output': 7\n",
    "})"
   ]
  },
  {
   "cell_type": "code",
   "execution_count": 21,
   "id": "5c43828c-3e22-43bb-9978-190f324ab876",
   "metadata": {},
   "outputs": [],
   "source": [
    "tests.append({\n",
    "    'input': {\n",
    "        'books': [9780262035613, 9780596529321, 9780596529321,9780999247108, 9780999247108,9781449361327, 9781449369415,9781491957660,9781491957660,9781491957660, 9781491957660, 9781492032649, 9781492032649,9781492041139, 9781617294631,9781617294631, 9781789955750],\n",
    "        'query':9781491957660\n",
    "    },\n",
    "    'output': 7\n",
    "})"
   ]
  },
  {
   "cell_type": "code",
   "execution_count": 22,
   "id": "1a6322da-92a5-4829-8358-24147626a389",
   "metadata": {},
   "outputs": [
    {
     "data": {
      "text/plain": [
       "[{'input': {'books': [9780262035613,\n",
       "    9780596529321,\n",
       "    9780999247108,\n",
       "    9781449361327,\n",
       "    9781449369415,\n",
       "    9781491957660,\n",
       "    9781492032649,\n",
       "    9781492041139,\n",
       "    9781617294631,\n",
       "    9781789955750],\n",
       "   'query': 9781491957660},\n",
       "  'output': 5},\n",
       " {'input': {'books': [9780262035613,\n",
       "    9780596529321,\n",
       "    9780999247108,\n",
       "    9781449361327,\n",
       "    9781449369415,\n",
       "    9781491957660,\n",
       "    9781492032649,\n",
       "    9781492041139,\n",
       "    9781617294631,\n",
       "    9781789955750],\n",
       "   'query': 9780262035613},\n",
       "  'output': 0},\n",
       " {'input': {'books': [9780262035613,\n",
       "    9780596529321,\n",
       "    9780999247108,\n",
       "    9781449361327,\n",
       "    9781449369415,\n",
       "    9781491957660,\n",
       "    9781492032649,\n",
       "    9781492041139,\n",
       "    9781617294631,\n",
       "    9781789955750],\n",
       "   'query': 9781789955750},\n",
       "  'output': 9},\n",
       " {'input': {'books': [9781789955750], 'query': 9781789955750}, 'output': 0},\n",
       " {'input': {'books': [9780262035613,\n",
       "    9780596529321,\n",
       "    9780999247108,\n",
       "    9781449361327,\n",
       "    9781449369415,\n",
       "    9781491957660,\n",
       "    9781492032649,\n",
       "    9781492041139,\n",
       "    9781617294631,\n",
       "    9781789955750],\n",
       "   'query': 9781789955751},\n",
       "  'output': -1},\n",
       " {'input': {'books': [], 'query': 9781789955751}, 'output': -1},\n",
       " {'input': {'books': [9780262035613,\n",
       "    9780596529321,\n",
       "    9780596529321,\n",
       "    9780999247108,\n",
       "    9780999247108,\n",
       "    9781449361327,\n",
       "    9781449369415,\n",
       "    9781491957660,\n",
       "    9781492032649,\n",
       "    9781492032649,\n",
       "    9781492041139,\n",
       "    9781617294631,\n",
       "    9781617294631,\n",
       "    9781789955750],\n",
       "   'query': 9781491957660},\n",
       "  'output': 7},\n",
       " {'input': {'books': [9780262035613,\n",
       "    9780596529321,\n",
       "    9780596529321,\n",
       "    9780999247108,\n",
       "    9780999247108,\n",
       "    9781449361327,\n",
       "    9781449369415,\n",
       "    9781491957660,\n",
       "    9781491957660,\n",
       "    9781491957660,\n",
       "    9781491957660,\n",
       "    9781492032649,\n",
       "    9781492032649,\n",
       "    9781492041139,\n",
       "    9781617294631,\n",
       "    9781617294631,\n",
       "    9781789955750],\n",
       "   'query': 9781491957660},\n",
       "  'output': 7}]"
      ]
     },
     "execution_count": 22,
     "metadata": {},
     "output_type": "execute_result"
    }
   ],
   "source": [
    "tests"
   ]
  },
  {
   "cell_type": "markdown",
   "id": "f631a1b6-ebb2-4e45-80cf-1e3872d65b98",
   "metadata": {},
   "source": [
    "### Implementation of Binary Search"
   ]
  },
  {
   "cell_type": "code",
   "execution_count": 27,
   "id": "d4271fe7-9dc2-4543-a931-dd56bf304eb4",
   "metadata": {},
   "outputs": [],
   "source": [
    "def find_book_binary(books, query):\n",
    "    \"\"\"Function to find a book in books using binary search\"\"\"\n",
    "    l, r = 0, len(books) - 1\n",
    "    while l <= r:\n",
    "        mid = (l + r) // 2\n",
    "        if books[mid] == query:\n",
    "            return mid\n",
    "        if query < books[mid]:\n",
    "            r = mid - 1\n",
    "        elif query > books[mid]:\n",
    "            l = mid + 1\n",
    "    return -1\n",
    "            "
   ]
  },
  {
   "cell_type": "code",
   "execution_count": 28,
   "id": "641d877b-94cd-4951-af0f-73374d4b1c54",
   "metadata": {},
   "outputs": [
    {
     "name": "stdout",
     "output_type": "stream",
     "text": [
      "Test Output is  4\n",
      "\u001b[32mTEST PASSED\u001b[0m\n",
      "Function Execution Time:  3.0994415283203125e-06  seconds\n"
     ]
    }
   ],
   "source": [
    "evaluate_test_case(find_book_binary, test)"
   ]
  },
  {
   "cell_type": "code",
   "execution_count": 29,
   "id": "c08cb2ec-1530-425b-8768-03325d5d56f8",
   "metadata": {},
   "outputs": [
    {
     "name": "stdout",
     "output_type": "stream",
     "text": [
      "Test Output is  5\n",
      "\u001b[32mTEST PASSED\u001b[0m\n",
      "Function Execution Time:  3.337860107421875e-06  seconds\n",
      "======================================================================================================================================================\n",
      "Test Output is  0\n",
      "\u001b[32mTEST PASSED\u001b[0m\n",
      "Function Execution Time:  2.6226043701171875e-06  seconds\n",
      "======================================================================================================================================================\n",
      "Test Output is  9\n",
      "\u001b[32mTEST PASSED\u001b[0m\n",
      "Function Execution Time:  1.1920928955078125e-06  seconds\n",
      "======================================================================================================================================================\n",
      "Test Output is  0\n",
      "\u001b[32mTEST PASSED\u001b[0m\n",
      "Function Execution Time:  9.5367431640625e-07  seconds\n",
      "======================================================================================================================================================\n",
      "Test Output is  -1\n",
      "\u001b[32mTEST PASSED\u001b[0m\n",
      "Function Execution Time:  2.86102294921875e-06  seconds\n",
      "======================================================================================================================================================\n",
      "Test Output is  -1\n",
      "\u001b[32mTEST PASSED\u001b[0m\n",
      "Function Execution Time:  7.152557373046875e-07  seconds\n",
      "======================================================================================================================================================\n",
      "Test Output is  7\n",
      "\u001b[32mTEST PASSED\u001b[0m\n",
      "Function Execution Time:  3.0994415283203125e-06  seconds\n",
      "======================================================================================================================================================\n",
      "Test Output is  8\n",
      "\u001b[31mTEST FAILED\u001b[0m\n",
      "Function Execution Time:  7.152557373046875e-07  seconds\n",
      "======================================================================================================================================================\n"
     ]
    }
   ],
   "source": [
    "evaluate_test_cases(find_book_binary, tests)"
   ]
  },
  {
   "cell_type": "markdown",
   "id": "06ffaddc-3f6e-46b4-a7fa-a7520f0a666a",
   "metadata": {},
   "source": [
    "***\n",
    "**Above test is failed as we are expecting the output is 7 since that is the first occurance but we got second**\n",
    "***"
   ]
  },
  {
   "cell_type": "code",
   "execution_count": 30,
   "id": "60119f42-c2c2-4476-bfbb-2dbcf49f74b2",
   "metadata": {},
   "outputs": [],
   "source": [
    "def get_location(books, query, mid):\n",
    "    \"\"\"Function to get the location of first occurance\"\"\"\n",
    "    mid_num = books[mid]\n",
    "    print(f\"Mid Number is {mid_num} and mid is {mid}\")\n",
    "    if mid_num == query:\n",
    "        if mid - 1 > 0 and books[mid - 1] == query:\n",
    "            return \"left\"\n",
    "        else:\n",
    "            return \"found\"\n",
    "    elif mid_num > query:\n",
    "        return \"left\"\n",
    "    elif mid_num < query:\n",
    "        return \"right\"           "
   ]
  },
  {
   "cell_type": "code",
   "execution_count": 31,
   "id": "90363b6f-8d57-4091-8edc-0cf03e2d8218",
   "metadata": {},
   "outputs": [],
   "source": [
    "def find_books_binary(books, query):\n",
    "    \"\"\"Function to check if book exits in books\"\"\"\n",
    "    lo, hi = 0, len(books) - 1\n",
    "    while lo <= hi:\n",
    "        mid = (lo + hi) // 2\n",
    "        result = get_location(books, query, mid)\n",
    "        if result == \"found\":\n",
    "            return mid\n",
    "        elif result == \"left\":\n",
    "            hi = mid - 1\n",
    "        elif result == \"right\":\n",
    "            lo = mid + 1\n",
    "    return -1"
   ]
  },
  {
   "cell_type": "code",
   "execution_count": 34,
   "id": "6393e68f-eb8c-469a-9107-8e44de9642b5",
   "metadata": {},
   "outputs": [
    {
     "name": "stdout",
     "output_type": "stream",
     "text": [
      "Mid Number is 9781449369415 and mid is 4\n",
      "Test Output is  4\n",
      "\u001b[32mTEST PASSED\u001b[0m\n",
      "Function Execution Time:  6.0558319091796875e-05  seconds\n"
     ]
    }
   ],
   "source": [
    "evaluate_test_case(find_books_binary, test)"
   ]
  },
  {
   "cell_type": "code",
   "execution_count": 35,
   "id": "c780cfaf-edda-41fd-9ff3-eadaef533a02",
   "metadata": {},
   "outputs": [
    {
     "name": "stdout",
     "output_type": "stream",
     "text": [
      "Mid Number is 9781449369415 and mid is 4\n",
      "Mid Number is 9781492041139 and mid is 7\n",
      "Mid Number is 9781491957660 and mid is 5\n",
      "Test Output is  5\n",
      "\u001b[32mTEST PASSED\u001b[0m\n",
      "Function Execution Time:  8.487701416015625e-05  seconds\n",
      "======================================================================================================================================================\n",
      "Mid Number is 9781449369415 and mid is 4\n",
      "Mid Number is 9780596529321 and mid is 1\n",
      "Mid Number is 9780262035613 and mid is 0\n",
      "Test Output is  0\n",
      "\u001b[32mTEST PASSED\u001b[0m\n",
      "Function Execution Time:  8.58306884765625e-06  seconds\n",
      "======================================================================================================================================================\n",
      "Mid Number is 9781449369415 and mid is 4\n",
      "Mid Number is 9781492041139 and mid is 7\n",
      "Mid Number is 9781617294631 and mid is 8\n",
      "Mid Number is 9781789955750 and mid is 9\n",
      "Test Output is  9\n",
      "\u001b[32mTEST PASSED\u001b[0m\n",
      "Function Execution Time:  1.1682510375976562e-05  seconds\n",
      "======================================================================================================================================================\n",
      "Mid Number is 9781789955750 and mid is 0\n",
      "Test Output is  0\n",
      "\u001b[32mTEST PASSED\u001b[0m\n",
      "Function Execution Time:  3.0994415283203125e-06  seconds\n",
      "======================================================================================================================================================\n",
      "Mid Number is 9781449369415 and mid is 4\n",
      "Mid Number is 9781492041139 and mid is 7\n",
      "Mid Number is 9781617294631 and mid is 8\n",
      "Mid Number is 9781789955750 and mid is 9\n",
      "Test Output is  -1\n",
      "\u001b[32mTEST PASSED\u001b[0m\n",
      "Function Execution Time:  9.059906005859375e-06  seconds\n",
      "======================================================================================================================================================\n",
      "Test Output is  -1\n",
      "\u001b[32mTEST PASSED\u001b[0m\n",
      "Function Execution Time:  7.152557373046875e-07  seconds\n",
      "======================================================================================================================================================\n",
      "Mid Number is 9781449369415 and mid is 6\n",
      "Mid Number is 9781492041139 and mid is 10\n",
      "Mid Number is 9781492032649 and mid is 8\n",
      "Mid Number is 9781491957660 and mid is 7\n",
      "Test Output is  7\n",
      "\u001b[32mTEST PASSED\u001b[0m\n",
      "Function Execution Time:  1.0967254638671875e-05  seconds\n",
      "======================================================================================================================================================\n",
      "Mid Number is 9781491957660 and mid is 8\n",
      "Mid Number is 9780999247108 and mid is 3\n",
      "Mid Number is 9781449361327 and mid is 5\n",
      "Mid Number is 9781449369415 and mid is 6\n",
      "Mid Number is 9781491957660 and mid is 7\n",
      "Test Output is  7\n",
      "\u001b[32mTEST PASSED\u001b[0m\n",
      "Function Execution Time:  1.1205673217773438e-05  seconds\n",
      "======================================================================================================================================================\n"
     ]
    }
   ],
   "source": [
    "evaluate_test_cases(find_books_binary, tests)"
   ]
  },
  {
   "cell_type": "markdown",
   "id": "48bccf1f-cbe5-427f-9896-5b97cf0ed6fe",
   "metadata": {},
   "source": [
    "### When we analyse the time complexity of the Binary search,\n",
    "Initial length of array: N\\\n",
    "Iteration 1: N / 2\\\n",
    "Iteration 2: N / 4\\\n",
    "Iteration 3: N / 8\\\n",
    "Iteration k: N / 2^k\\\n",
    "\n",
    "Overall, it take O(log N)"
   ]
  },
  {
   "cell_type": "markdown",
   "id": "cc5edfd9-3bd2-4f59-b708-ebafb60486ba",
   "metadata": {},
   "source": [
    "### Generic Binary Search with Closures"
   ]
  },
  {
   "cell_type": "code",
   "execution_count": null,
   "id": "4e047fed-16c6-44d8-8f01-9dbab410c396",
   "metadata": {},
   "outputs": [],
   "source": []
  }
 ],
 "metadata": {
  "kernelspec": {
   "display_name": "Python 3 (ipykernel)",
   "language": "python",
   "name": "python3"
  },
  "language_info": {
   "codemirror_mode": {
    "name": "ipython",
    "version": 3
   },
   "file_extension": ".py",
   "mimetype": "text/x-python",
   "name": "python",
   "nbconvert_exporter": "python",
   "pygments_lexer": "ipython3",
   "version": "3.11.0rc1"
  }
 },
 "nbformat": 4,
 "nbformat_minor": 5
}
