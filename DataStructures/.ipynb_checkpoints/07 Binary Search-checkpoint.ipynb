{
 "cells": [
  {
   "cell_type": "markdown",
   "id": "37fa60cc-6e0a-464b-b413-e3c4250ceb70",
   "metadata": {},
   "source": [
    "## **Binary Search**\n",
    "\n",
    "Binary Search is a fundamental searching algorithm used to efficiently locate a target value within a sorted array. It operates by repeatedly dividing the search interval in half, narrowing down the possible locations for the target value. The key feature of Binary Search is its logarithmic time complexity O(log n), making it significantly faster than linear search for large datasets.\n",
    "\n",
    "**Algorithm**\n",
    "\n",
    "* Step 1: Begin with the entire sorted array.\n",
    "* Step 2: Define two pointers, 'low' and 'high', representing the start and end of the current search interval, respectively.\n",
    "* Step 3: Calculate the middle index of the current interval: mid = (low + high) / 2.\n",
    "* Step 4: Compare the target value with the element at the middle index.\n",
    "    * If the target matches the middle element, return its index (successful search).\n",
    "    * If the target is less than the middle element, adjust the 'high' pointer to mid - 1 and repeat Step 3.\n",
    "    * If the target is greater than the middle element, adjust the 'low' pointer to mid + 1 and repeat Step 3.\n",
    "* Step 5: Repeat Steps 3-4 until the target is found or the search interval becomes empty.\n",
    "\n",
    "**Points to be noted**:\n",
    "* Binary Search requires the array to be sorted beforehand. If the array is not sorted, a sorting algorithm should be applied first.\n",
    "* It's suitable for large datasets where efficiency is crucial, as its logarithmic time complexity ensures fast searches even in massive arrays.\n",
    "* Time complexity: O(log n), significantly faster than linear search (O(n)).\n",
    "* Space complexity: O(1), additional memory usage is constant regardless of array size.\n",
    "* Time complexity: O(log n), significantly faster than linear search (O(n)).\n",
    "Space complexity: O(1), additional memory usage is constant regardless of array size.\n",
    "Versatile algorithm with applications in various domains like data retrieval, sorting algorithms, and more.\n",
    "Versatile algorithm with applications in various domains like data retrieval, sorting algorithms, and more.\n"
   ]
  },
  {
   "cell_type": "code",
   "execution_count": 4,
   "id": "e729d5cf-0f89-47ad-b86b-4d97d6b20d92",
   "metadata": {},
   "outputs": [],
   "source": [
    "import time\n",
    "import pandas as pd\n",
    "import numpy as np"
   ]
  },
  {
   "cell_type": "markdown",
   "id": "c9cda461-80b8-41a1-b593-ccbbc70f0a01",
   "metadata": {},
   "source": [
    "### **Generic functions to evaluate the test cases**"
   ]
  },
  {
   "cell_type": "code",
   "execution_count": 1,
   "id": "bc863862-299e-485a-a4ba-45fd3dd5c2de",
   "metadata": {},
   "outputs": [],
   "source": [
    "def evaluate_test_case(function, test):\n",
    "    \"\"\"This is a custom function to compute the time taken to execute the test\"\"\"\n",
    "    start_time = time.time()\n",
    "    output = function(**test['input'])\n",
    "    end_time = time.time()\n",
    "    execution_time = end_time - start_time\n",
    "    print(\"Test Output is \", output)\n",
    "    if test['output'] == output:\n",
    "        print(\"\\033[32mTEST PASSED\\033[0m\")\n",
    "    else:\n",
    "        print(\"\\033[31mTEST FAILED\\033[0m\")\n",
    "    print(\"Function Execution Time: \", execution_time, \" seconds\")"
   ]
  },
  {
   "cell_type": "code",
   "execution_count": 2,
   "id": "7a65ddb1-a521-4c5e-bb09-7d65c8a9f74d",
   "metadata": {},
   "outputs": [],
   "source": [
    "def evaluate_test_cases(function, tests):\n",
    "    \"\"\"This is a custom function to compute the time taken to execute the test cases\"\"\"\n",
    "    for test in tests:\n",
    "        start_time = time.time()\n",
    "        output = function(**test['input'])\n",
    "        end_time = time.time()\n",
    "        execution_time = end_time - start_time\n",
    "        print(\"Test Output is \", output)\n",
    "        if test['output'] == output:\n",
    "            print(\"\\033[32mTEST PASSED\\033[0m\")\n",
    "        else:\n",
    "            print(\"\\033[31mTEST FAILED\\033[0m\")\n",
    "        print(\"Function Execution Time: \", execution_time, \" seconds\")\n",
    "        print(50 * \"===\")"
   ]
  },
  {
   "cell_type": "markdown",
   "id": "09e1929b-88aa-4af8-af41-649cadbf58bc",
   "metadata": {},
   "source": [
    "### Loading data from file"
   ]
  },
  {
   "cell_type": "code",
   "execution_count": 5,
   "id": "0d638f53-87c1-4f89-879a-cbf345efed36",
   "metadata": {},
   "outputs": [
    {
     "data": {
      "text/html": [
       "<div>\n",
       "<style scoped>\n",
       "    .dataframe tbody tr th:only-of-type {\n",
       "        vertical-align: middle;\n",
       "    }\n",
       "\n",
       "    .dataframe tbody tr th {\n",
       "        vertical-align: top;\n",
       "    }\n",
       "\n",
       "    .dataframe thead th {\n",
       "        text-align: right;\n",
       "    }\n",
       "</style>\n",
       "<table border=\"1\" class=\"dataframe\">\n",
       "  <thead>\n",
       "    <tr style=\"text-align: right;\">\n",
       "      <th></th>\n",
       "      <th>isbn</th>\n",
       "      <th>name</th>\n",
       "      <th>author</th>\n",
       "    </tr>\n",
       "  </thead>\n",
       "  <tbody>\n",
       "    <tr>\n",
       "      <th>0</th>\n",
       "      <td>9781492032649</td>\n",
       "      <td>Hands-On Machine Learning with Scikit-Learn, K...</td>\n",
       "      <td>Aurélien Géron</td>\n",
       "    </tr>\n",
       "    <tr>\n",
       "      <th>1</th>\n",
       "      <td>9781789955750</td>\n",
       "      <td>Python Machine Learning</td>\n",
       "      <td>Sebastian Raschka, Vahid Mirjalili</td>\n",
       "    </tr>\n",
       "    <tr>\n",
       "      <th>2</th>\n",
       "      <td>9780262035613</td>\n",
       "      <td>Deep Learning</td>\n",
       "      <td>Ian Goodfellow, Yoshua Bengio, Aaron Courville</td>\n",
       "    </tr>\n",
       "    <tr>\n",
       "      <th>3</th>\n",
       "      <td>9780596529321</td>\n",
       "      <td>Programming Collective Intelligence</td>\n",
       "      <td>Toby Segaran</td>\n",
       "    </tr>\n",
       "    <tr>\n",
       "      <th>4</th>\n",
       "      <td>9781491957660</td>\n",
       "      <td>Python for Data Analysis</td>\n",
       "      <td>Wes McKinney</td>\n",
       "    </tr>\n",
       "    <tr>\n",
       "      <th>5</th>\n",
       "      <td>9781449361327</td>\n",
       "      <td>Data Science for Business</td>\n",
       "      <td>Foster Provost, Tom Fawcett</td>\n",
       "    </tr>\n",
       "    <tr>\n",
       "      <th>6</th>\n",
       "      <td>9781449369415</td>\n",
       "      <td>Introduction to Machine Learning with Python</td>\n",
       "      <td>Andreas C. Müller, Sarah Guido</td>\n",
       "    </tr>\n",
       "    <tr>\n",
       "      <th>7</th>\n",
       "      <td>9780999247108</td>\n",
       "      <td>Machine Learning Yearning</td>\n",
       "      <td>Andrew Ng</td>\n",
       "    </tr>\n",
       "    <tr>\n",
       "      <th>8</th>\n",
       "      <td>9781617294631</td>\n",
       "      <td>Natural Language Processing in Action</td>\n",
       "      <td>Lane, Howard, and Hapke</td>\n",
       "    </tr>\n",
       "    <tr>\n",
       "      <th>9</th>\n",
       "      <td>9781492041139</td>\n",
       "      <td>Data Science from Scratch</td>\n",
       "      <td>Joel Grus</td>\n",
       "    </tr>\n",
       "  </tbody>\n",
       "</table>\n",
       "</div>"
      ],
      "text/plain": [
       "            isbn                                               name  \\\n",
       "0  9781492032649  Hands-On Machine Learning with Scikit-Learn, K...   \n",
       "1  9781789955750                            Python Machine Learning   \n",
       "2  9780262035613                                      Deep Learning   \n",
       "3  9780596529321                Programming Collective Intelligence   \n",
       "4  9781491957660                           Python for Data Analysis   \n",
       "5  9781449361327                          Data Science for Business   \n",
       "6  9781449369415       Introduction to Machine Learning with Python   \n",
       "7  9780999247108                          Machine Learning Yearning   \n",
       "8  9781617294631              Natural Language Processing in Action   \n",
       "9  9781492041139                          Data Science from Scratch   \n",
       "\n",
       "                                           author  \n",
       "0                                  Aurélien Géron  \n",
       "1              Sebastian Raschka, Vahid Mirjalili  \n",
       "2  Ian Goodfellow, Yoshua Bengio, Aaron Courville  \n",
       "3                                    Toby Segaran  \n",
       "4                                    Wes McKinney  \n",
       "5                     Foster Provost, Tom Fawcett  \n",
       "6                  Andreas C. Müller, Sarah Guido  \n",
       "7                                       Andrew Ng  \n",
       "8                         Lane, Howard, and Hapke  \n",
       "9                                       Joel Grus  "
      ]
     },
     "execution_count": 5,
     "metadata": {},
     "output_type": "execute_result"
    }
   ],
   "source": [
    "data = pd.read_csv(\"../ISBN_Example.csv\", sep=\"|\")\n",
    "data"
   ]
  },
  {
   "cell_type": "code",
   "execution_count": null,
   "id": "e147b227-1df9-4ad9-ad20-cf117c0424c0",
   "metadata": {},
   "outputs": [],
   "source": []
  }
 ],
 "metadata": {
  "kernelspec": {
   "display_name": "Python 3 (ipykernel)",
   "language": "python",
   "name": "python3"
  },
  "language_info": {
   "codemirror_mode": {
    "name": "ipython",
    "version": 3
   },
   "file_extension": ".py",
   "mimetype": "text/x-python",
   "name": "python",
   "nbconvert_exporter": "python",
   "pygments_lexer": "ipython3",
   "version": "3.11.0rc1"
  }
 },
 "nbformat": 4,
 "nbformat_minor": 5
}
