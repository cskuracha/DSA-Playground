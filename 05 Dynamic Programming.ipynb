{
 "cells": [
  {
   "cell_type": "markdown",
   "id": "d1135f93-5b1f-4ce2-a85f-92b4f3300f17",
   "metadata": {},
   "source": [
    "## **Dynamic Programming**\n",
    "\n",
    "\n",
    "\n",
    "QUESTION 1: Write a function to find the length of the longest common subsequence between two sequences. E.g. Given the strings \"serendipitous\" and \"precipitation\", the longest common subsequence is \"reipito\" and its length is 7.\n",
    "\n",
    "A \"sequence\" is a group of items with a deterministic ordering. Lists, tuples and ranges are some common sequence types in Python.\n",
    "\n",
    "A \"subsequence\" is a sequence obtained by deleting zero or more elements from another sequence. For example, \"edpt\" is a subsequence of \"serendipitous\".\n"
   ]
  },
  {
   "cell_type": "code",
   "execution_count": null,
   "id": "d6cc077e-accc-411e-af0a-68f67eb4d40a",
   "metadata": {},
   "outputs": [],
   "source": []
  }
 ],
 "metadata": {
  "kernelspec": {
   "display_name": "Python 3 (ipykernel)",
   "language": "python",
   "name": "python3"
  },
  "language_info": {
   "codemirror_mode": {
    "name": "ipython",
    "version": 3
   },
   "file_extension": ".py",
   "mimetype": "text/x-python",
   "name": "python",
   "nbconvert_exporter": "python",
   "pygments_lexer": "ipython3",
   "version": "3.11.0rc1"
  }
 },
 "nbformat": 4,
 "nbformat_minor": 5
}
