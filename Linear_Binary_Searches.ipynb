{
 "cells": [
  {
   "cell_type": "markdown",
   "id": "58f63729-dc7e-4fc9-9cb2-b09382ff9519",
   "metadata": {},
   "source": [
    "## Linear & Binary Search"
   ]
  },
  {
   "cell_type": "markdown",
   "id": "d0669578-bc36-4b5d-8b98-146680aa8a3b",
   "metadata": {},
   "source": [
    "### Problem Statement:\n",
    ">Search for a book with ISBN number in the list"
   ]
  },
  {
   "cell_type": "markdown",
   "id": "303b71cf-6fee-4396-b847-baa5b194760d",
   "metadata": {},
   "source": [
    "#### Importing libraries"
   ]
  },
  {
   "cell_type": "code",
   "execution_count": 1,
   "id": "c0d785bc-5ba2-40c6-9081-c43e925e0662",
   "metadata": {},
   "outputs": [],
   "source": [
    "import pandas as pd\n",
    "import numpy as np"
   ]
  },
  {
   "cell_type": "markdown",
   "id": "9f26d926-cb36-4234-888e-8ed488512473",
   "metadata": {},
   "source": [
    "#### Loading data from csv file"
   ]
  },
  {
   "cell_type": "code",
   "execution_count": 4,
   "id": "97eb2ff2-598a-4c76-b099-e590c714c7fe",
   "metadata": {},
   "outputs": [],
   "source": [
    "data = pd.read_csv(\"./ISBN_Example.csv\", sep=\"|\")"
   ]
  },
  {
   "cell_type": "code",
   "execution_count": 10,
   "id": "4c08329c-dc21-41ff-82bc-73d6b386e743",
   "metadata": {},
   "outputs": [
    {
     "data": {
      "text/plain": [
       "[9780262035613,\n",
       " 9780596529321,\n",
       " 9780999247108,\n",
       " 9781449361327,\n",
       " 9781449369415,\n",
       " 9781491957660,\n",
       " 9781492032649,\n",
       " 9781492041139,\n",
       " 9781617294631,\n",
       " 9781789955750]"
      ]
     },
     "execution_count": 10,
     "metadata": {},
     "output_type": "execute_result"
    }
   ],
   "source": [
    "data_isbn = data[\"isbn\"].tolist()\n",
    "data_isbn.sort()\n",
    "data_isbn"
   ]
  },
  {
   "cell_type": "markdown",
   "id": "cdc0ace7-f287-499e-a7ca-a4820d36e3b7",
   "metadata": {},
   "source": [
    "#### **Method**"
   ]
  },
  {
   "cell_type": "markdown",
   "id": "26ce3193-9567-433e-abc7-35d2b199db0b",
   "metadata": {},
   "source": [
    "\n",
    "    1. State the problem clearly. Identify the input & output formats.\n",
    "    2. Come up with some example inputs & outputs. Try to cover all edge cases.\n",
    "    3. Come up with a correct solution for the problem. State it in plain English.\n",
    "    4. Implement the solution and test it using example inputs. Fix bugs, if any.\n",
    "    5. Analyze the algorithm's complexity and identify inefficiencies, if any.\n",
    "    6. Apply the right technique to overcome the inefficiency. Repeat steps 3 to 6.\n",
    "\n",
    "    reference: https://jovian.com\n"
   ]
  },
  {
   "cell_type": "markdown",
   "id": "7a9e0232-9957-4d06-9202-4847cdda5489",
   "metadata": {},
   "source": [
    "#### **1. State the problem clearly with Inputs and Output**\n",
    "\n",
    "> Write the problem to fine the position of book with given ISBN numbers arranged in ascending order. One constraint is to find the book by accessing minimum nuber of elements in the list\n",
    "\n",
    "##### **Inputs**:\n",
    "***\n",
    "    Input list: Contains the list with ISBN numbers\n",
    "    \n",
    "    Query: Book to query in the list\n",
    "    \n",
    "\n",
    "##### **Output**:\n",
    "***\n",
    "     Position of the book"
   ]
  },
  {
   "cell_type": "code",
   "execution_count": 15,
   "id": "025a3160-0055-47f2-9c05-7692a60c12e3",
   "metadata": {},
   "outputs": [],
   "source": [
    "def find_book(books,query):\n",
    "    \"\"\"Function to find a book in the list\"\"\"\n",
    "    pass"
   ]
  },
  {
   "cell_type": "markdown",
   "id": "dccc7c4f-c712-4ff3-a05e-bf9a2e1d64ae",
   "metadata": {},
   "source": [
    "#### **2. Some Example inputs and outputs**"
   ]
  },
  {
   "cell_type": "code",
   "execution_count": 16,
   "id": "1127bbe8-21d1-4722-a147-272a9c2f8a9a",
   "metadata": {},
   "outputs": [
    {
     "name": "stdout",
     "output_type": "stream",
     "text": [
      "Input List:  [9780262035613, 9780596529321, 9780999247108, 9781449361327, 9781449369415, 9781491957660, 9781492032649, 9781492041139, 9781617294631, 9781789955750]\n",
      "Query:  9781491957660\n",
      "Output:  5\n"
     ]
    }
   ],
   "source": [
    "query = 9781491957660\n",
    "output = 5\n",
    "print(\"Input List: \",data_isbn)\n",
    "print(\"Query: \", query)\n",
    "print(\"Output: \", output)"
   ]
  },
  {
   "cell_type": "code",
   "execution_count": 17,
   "id": "f2188d76-912f-4162-ab50-698f41922763",
   "metadata": {},
   "outputs": [
    {
     "data": {
      "text/plain": [
       "False"
      ]
     },
     "execution_count": 17,
     "metadata": {},
     "output_type": "execute_result"
    }
   ],
   "source": [
    "result = find_book(data_isbn, query)\n",
    "result == output"
   ]
  },
  {
   "cell_type": "markdown",
   "id": "8a0c0f8d-679c-42ef-b14a-57364ad333b1",
   "metadata": {},
   "source": [
    "#### Creating the dictionary of inputs and outputs"
   ]
  },
  {
   "cell_type": "code",
   "execution_count": 45,
   "id": "9027f392-815c-4617-b8a8-5fae52d09ba0",
   "metadata": {},
   "outputs": [],
   "source": [
    "test = {\n",
    "    'input': {\n",
    "        'books': data_isbn,\n",
    "        'query':9781491957660\n",
    "    },\n",
    "    'output': 5\n",
    "}"
   ]
  },
  {
   "cell_type": "code",
   "execution_count": 46,
   "id": "100fa152-4c70-48c7-be61-9231573fe028",
   "metadata": {},
   "outputs": [
    {
     "data": {
      "text/plain": [
       "False"
      ]
     },
     "execution_count": 46,
     "metadata": {},
     "output_type": "execute_result"
    }
   ],
   "source": [
    "result = find_book(**test['input'])\n",
    "result == test['output']"
   ]
  },
  {
   "cell_type": "markdown",
   "id": "4ada9a4e-6bc8-469d-9863-3056303aab64",
   "metadata": {},
   "source": [
    "#### **Other Inputs**\n",
    "\n",
    "1. Expected book is in middle of the list\n",
    "2. Expected book is in first of the list\n",
    "3. Expected book is in last of the list\n",
    "4. Book list has only one element which is expected book\n",
    "5. Book list does not contain the expected book\n",
    "6. Book list is empty\n",
    "7. Book list contains duplicate entries\n",
    "8. Expected book occurs multiple times in the list array"
   ]
  },
  {
   "cell_type": "code",
   "execution_count": 47,
   "id": "73662ea9-b443-46d7-9374-e2d6f55fb76c",
   "metadata": {},
   "outputs": [],
   "source": [
    "tests = []"
   ]
  },
  {
   "cell_type": "code",
   "execution_count": 48,
   "id": "7601d187-1322-4f71-9ee1-9d97d5697fd3",
   "metadata": {},
   "outputs": [],
   "source": [
    "# Expected book is in middle of the list\n",
    "tests.append({\n",
    "    'input': {\n",
    "        'books': data_isbn,\n",
    "        'query':9781491957660\n",
    "    },\n",
    "    'output': 5\n",
    "})"
   ]
  },
  {
   "cell_type": "code",
   "execution_count": 49,
   "id": "dc91ef84-d58e-45ef-9011-a750a16c382e",
   "metadata": {},
   "outputs": [],
   "source": [
    "# Expected book is in the first of the list\n",
    "tests.append({\n",
    "    'input': {\n",
    "        'books': data_isbn,\n",
    "        'query':9780262035613\n",
    "    },\n",
    "    'output': 0\n",
    "})"
   ]
  },
  {
   "cell_type": "code",
   "execution_count": 50,
   "id": "bbc00d1d-610c-4c51-b966-9002301aed41",
   "metadata": {},
   "outputs": [],
   "source": [
    "# Expected book is in the last of the list\n",
    "tests.append({\n",
    "    'input': {\n",
    "        'books': data_isbn,\n",
    "        'query':9781789955750\n",
    "    },\n",
    "    'output': 9\n",
    "})"
   ]
  },
  {
   "cell_type": "code",
   "execution_count": 51,
   "id": "97437687-aa22-4fac-8527-0e0c8ee8e985",
   "metadata": {},
   "outputs": [],
   "source": [
    "# Book list has only one element which is expected book\n",
    "tests.append({\n",
    "    'input': {\n",
    "        'books': [9781789955750],\n",
    "        'query':9781789955750\n",
    "    },\n",
    "    'output': 0\n",
    "})"
   ]
  },
  {
   "cell_type": "code",
   "execution_count": 52,
   "id": "6e40e231-fe67-4841-8ca3-ae29a9a8701b",
   "metadata": {},
   "outputs": [],
   "source": [
    "# Book list does not contain the expected book\n",
    "tests.append({\n",
    "    'input': {\n",
    "        'books': data_isbn,\n",
    "        'query':9781789955751\n",
    "    },\n",
    "    'output': -1\n",
    "})"
   ]
  },
  {
   "cell_type": "code",
   "execution_count": 53,
   "id": "1d305699-c9f9-4b52-a22b-84f09f542a42",
   "metadata": {},
   "outputs": [],
   "source": [
    "# Book list is empty\n",
    "tests.append({\n",
    "    'input': {\n",
    "        'books': [],\n",
    "        'query':9781789955751\n",
    "    },\n",
    "    'output': -1\n",
    "})"
   ]
  },
  {
   "cell_type": "code",
   "execution_count": 54,
   "id": "ed41b356-2e5e-430c-86bf-fb1ad04b5b59",
   "metadata": {},
   "outputs": [],
   "source": [
    "#Book list contains duplicate entries\n",
    "tests.append({\n",
    "    'input': {\n",
    "        'books': [9780262035613, 9780596529321, 9780596529321,9780999247108, 9780999247108,9781449361327, 9781449369415, 9781491957660, 9781492032649, 9781492032649,9781492041139, 9781617294631,9781617294631, 9781789955750],\n",
    "        'query':9781491957660\n",
    "    },\n",
    "    'output': 7\n",
    "})"
   ]
  },
  {
   "cell_type": "code",
   "execution_count": 55,
   "id": "9c516e9e-6b18-4c5f-accc-91befa61e5f9",
   "metadata": {},
   "outputs": [],
   "source": [
    "tests.append({\n",
    "    'input': {\n",
    "        'books': [9780262035613, 9780596529321, 9780596529321,9780999247108, 9780999247108,9781449361327, 9781449369415,9781491957660,9781491957660,9781491957660, 9781491957660, 9781492032649, 9781492032649,9781492041139, 9781617294631,9781617294631, 9781789955750],\n",
    "        'query':9781491957660\n",
    "    },\n",
    "    'output': 7\n",
    "})"
   ]
  },
  {
   "cell_type": "code",
   "execution_count": 56,
   "id": "334ccc8e-7fcc-4d76-9908-d5da08a691f4",
   "metadata": {},
   "outputs": [
    {
     "data": {
      "text/plain": [
       "[{'input': {'books': [9780262035613,\n",
       "    9780596529321,\n",
       "    9780999247108,\n",
       "    9781449361327,\n",
       "    9781449369415,\n",
       "    9781491957660,\n",
       "    9781492032649,\n",
       "    9781492041139,\n",
       "    9781617294631,\n",
       "    9781789955750],\n",
       "   'query': 9781491957660},\n",
       "  'output': 5},\n",
       " {'input': {'books': [9780262035613,\n",
       "    9780596529321,\n",
       "    9780999247108,\n",
       "    9781449361327,\n",
       "    9781449369415,\n",
       "    9781491957660,\n",
       "    9781492032649,\n",
       "    9781492041139,\n",
       "    9781617294631,\n",
       "    9781789955750],\n",
       "   'query': 9780262035613},\n",
       "  'output': 0},\n",
       " {'input': {'books': [9780262035613,\n",
       "    9780596529321,\n",
       "    9780999247108,\n",
       "    9781449361327,\n",
       "    9781449369415,\n",
       "    9781491957660,\n",
       "    9781492032649,\n",
       "    9781492041139,\n",
       "    9781617294631,\n",
       "    9781789955750],\n",
       "   'query': 9781789955750},\n",
       "  'output': 9},\n",
       " {'input': {'books': [9781789955750], 'query': 9781789955750}, 'output': 0},\n",
       " {'input': {'books': [9780262035613,\n",
       "    9780596529321,\n",
       "    9780999247108,\n",
       "    9781449361327,\n",
       "    9781449369415,\n",
       "    9781491957660,\n",
       "    9781492032649,\n",
       "    9781492041139,\n",
       "    9781617294631,\n",
       "    9781789955750],\n",
       "   'query': 9781789955751},\n",
       "  'output': -1},\n",
       " {'input': {'books': [], 'query': 9781789955751}, 'output': -1},\n",
       " {'input': {'books': [9780262035613,\n",
       "    9780596529321,\n",
       "    9780596529321,\n",
       "    9780999247108,\n",
       "    9780999247108,\n",
       "    9781449361327,\n",
       "    9781449369415,\n",
       "    9781491957660,\n",
       "    9781492032649,\n",
       "    9781492032649,\n",
       "    9781492041139,\n",
       "    9781617294631,\n",
       "    9781617294631,\n",
       "    9781789955750],\n",
       "   'query': 9781491957660},\n",
       "  'output': 7},\n",
       " {'input': {'books': [9780262035613,\n",
       "    9780596529321,\n",
       "    9780596529321,\n",
       "    9780999247108,\n",
       "    9780999247108,\n",
       "    9781449361327,\n",
       "    9781449369415,\n",
       "    9781491957660,\n",
       "    9781491957660,\n",
       "    9781491957660,\n",
       "    9781491957660,\n",
       "    9781492032649,\n",
       "    9781492032649,\n",
       "    9781492041139,\n",
       "    9781617294631,\n",
       "    9781617294631,\n",
       "    9781789955750],\n",
       "   'query': 9781491957660},\n",
       "  'output': 7}]"
      ]
     },
     "execution_count": 56,
     "metadata": {},
     "output_type": "execute_result"
    }
   ],
   "source": [
    "tests"
   ]
  },
  {
   "cell_type": "markdown",
   "id": "e864541c-ae8d-4929-bf22-ae3ca79f6c5d",
   "metadata": {},
   "source": [
    "#### **3. Come up with a correct solution for the problem. State it in plain English**\n",
    "\n",
    ">Linear Search Algorithm: Search every element sequentially. This is simple and most obvious solution to the problem. This may be a brute force algorithm\n",
    "\n",
    "1. Create a variable to store the location\n",
    "2. Check whether the number at the location is equal to the expected book\n",
    "3. If they are equal, then answer is location in the list\n",
    "4. If it is not equal, increment the location by 1, until location we reach the end of the list\n",
    "5. If expected book is not in the list, return -1"
   ]
  },
  {
   "cell_type": "markdown",
   "id": "24276038-2e27-4c97-acc8-9fe38d5f9078",
   "metadata": {},
   "source": [
    "#### **4. Implement the solution and test it using example inputs. Fix bugs, if any.**"
   ]
  },
  {
   "cell_type": "code",
   "execution_count": 83,
   "id": "4cfc3cd1-5cef-49e5-9d92-6ede914099f3",
   "metadata": {},
   "outputs": [],
   "source": [
    "def find_books(books, query):\n",
    "    \"\"\"Function to find if book exists in the books list\"\"\"\n",
    "    #Create a variable loc for tracking the location\n",
    "    loc = 0\n",
    "    # Iterate over entire list\n",
    "    while True:\n",
    "        # If length of the books is zero, return -1\n",
    "        if len(books) == 0:\n",
    "            return -1\n",
    "\n",
    "        if books[loc] == query:\n",
    "            return loc\n",
    "\n",
    "        loc += 1\n",
    "\n",
    "        if loc == len(books):\n",
    "            return -1\n",
    "    "
   ]
  },
  {
   "cell_type": "code",
   "execution_count": 62,
   "id": "2fccf8f0-891c-4153-8ee3-884f5ca6ef3b",
   "metadata": {},
   "outputs": [
    {
     "data": {
      "text/plain": [
       "{'input': {'books': [9780262035613,\n",
       "   9780596529321,\n",
       "   9780999247108,\n",
       "   9781449361327,\n",
       "   9781449369415,\n",
       "   9781491957660,\n",
       "   9781492032649,\n",
       "   9781492041139,\n",
       "   9781617294631,\n",
       "   9781789955750],\n",
       "  'query': 9781491957660},\n",
       " 'output': 5}"
      ]
     },
     "execution_count": 62,
     "metadata": {},
     "output_type": "execute_result"
    }
   ],
   "source": [
    "test"
   ]
  },
  {
   "cell_type": "code",
   "execution_count": 78,
   "id": "825d8345-01ae-4e6e-b18e-0418ce83bb6b",
   "metadata": {},
   "outputs": [
    {
     "data": {
      "text/plain": [
       "True"
      ]
     },
     "execution_count": 78,
     "metadata": {},
     "output_type": "execute_result"
    }
   ],
   "source": [
    "result = find_books(**test['input'])\n",
    "result == output"
   ]
  },
  {
   "cell_type": "markdown",
   "id": "e61b369d-5cc3-48dc-ab09-b337c16b6966",
   "metadata": {},
   "source": [
    "#### Creating a custom function to track the start and end time"
   ]
  },
  {
   "cell_type": "code",
   "execution_count": 64,
   "id": "a1328f4d-89ca-49f5-8fca-59e6a1879879",
   "metadata": {},
   "outputs": [],
   "source": [
    "import time"
   ]
  },
  {
   "cell_type": "code",
   "execution_count": 84,
   "id": "dbedeb5d-5373-45ee-bfa5-597848f00ba4",
   "metadata": {},
   "outputs": [],
   "source": [
    "def evaluate_test_case(find_books, test):\n",
    "    \"\"\"This is a custom function to compute the time taken to execute the test\"\"\"\n",
    "    start_time = time.time()\n",
    "    output = find_books(**test['input'])\n",
    "    end_time = time.time()\n",
    "    execution_time = end_time - start_time\n",
    "    print(\"Test Output is \", output)\n",
    "    if test['output'] == output:\n",
    "        print(\"\\033[32mTEST PASSED\\033[0m\")\n",
    "    else:\n",
    "        print(\"\\033[31mTEST FAILED\\033[0m\")\n",
    "    print(\"Function Execution Time: \", execution_time, \" seconds\")"
   ]
  },
  {
   "cell_type": "code",
   "execution_count": 85,
   "id": "0333d1cf-b5f4-4105-8d1f-85d4aee4aabf",
   "metadata": {},
   "outputs": [
    {
     "name": "stdout",
     "output_type": "stream",
     "text": [
      "Test Output is  5\n",
      "\u001b[32mTEST PASSED\u001b[0m\n",
      "Function Execution Time:  4.291534423828125e-06  seconds\n"
     ]
    }
   ],
   "source": [
    "evaluate_test_case(find_books, test)"
   ]
  },
  {
   "cell_type": "markdown",
   "id": "ee82ae45-efa9-43f5-94e4-e1860a72e49f",
   "metadata": {},
   "source": [
    "##### **Creating Function for multiple test cases**"
   ]
  },
  {
   "cell_type": "code",
   "execution_count": 90,
   "id": "33a81848-2c8e-4f3e-b981-907a0076a802",
   "metadata": {},
   "outputs": [],
   "source": [
    "def evaluate_test_cases(find_books, tests):\n",
    "    \"\"\"This is a custom function to compute the time taken to execute the test cases\"\"\"\n",
    "    for test in tests:\n",
    "        start_time = time.time()\n",
    "        output = find_books(**test['input'])\n",
    "        end_time = time.time()\n",
    "        execution_time = end_time - start_time\n",
    "        print(\"Test Output is \", output)\n",
    "        if test['output'] == output:\n",
    "            print(\"\\033[32mTEST PASSED\\033[0m\")\n",
    "        else:\n",
    "            print(\"\\033[31mTEST FAILED\\033[0m\")\n",
    "        print(\"Function Execution Time: \", execution_time, \" seconds\")\n",
    "        print(50 * \"===\")"
   ]
  },
  {
   "cell_type": "code",
   "execution_count": 91,
   "id": "abd3e815-0950-4fe1-833e-f1929c90d4a3",
   "metadata": {},
   "outputs": [
    {
     "name": "stdout",
     "output_type": "stream",
     "text": [
      "Test Output is  5\n",
      "\u001b[32mTEST PASSED\u001b[0m\n",
      "Function Execution Time:  4.0531158447265625e-06  seconds\n",
      "======================================================================================================================================================\n",
      "Test Output is  0\n",
      "\u001b[32mTEST PASSED\u001b[0m\n",
      "Function Execution Time:  1.6689300537109375e-06  seconds\n",
      "======================================================================================================================================================\n",
      "Test Output is  9\n",
      "\u001b[32mTEST PASSED\u001b[0m\n",
      "Function Execution Time:  2.6226043701171875e-06  seconds\n",
      "======================================================================================================================================================\n",
      "Test Output is  0\n",
      "\u001b[32mTEST PASSED\u001b[0m\n",
      "Function Execution Time:  9.5367431640625e-07  seconds\n",
      "======================================================================================================================================================\n",
      "Test Output is  -1\n",
      "\u001b[32mTEST PASSED\u001b[0m\n",
      "Function Execution Time:  1.6689300537109375e-06  seconds\n",
      "======================================================================================================================================================\n",
      "Test Output is  -1\n",
      "\u001b[32mTEST PASSED\u001b[0m\n",
      "Function Execution Time:  4.76837158203125e-07  seconds\n",
      "======================================================================================================================================================\n",
      "Test Output is  7\n",
      "\u001b[32mTEST PASSED\u001b[0m\n",
      "Function Execution Time:  2.6226043701171875e-06  seconds\n",
      "======================================================================================================================================================\n",
      "Test Output is  7\n",
      "\u001b[32mTEST PASSED\u001b[0m\n",
      "Function Execution Time:  3.0994415283203125e-06  seconds\n",
      "======================================================================================================================================================\n"
     ]
    }
   ],
   "source": [
    "evaluate_test_cases(find_books, tests)"
   ]
  },
  {
   "cell_type": "markdown",
   "id": "be20e331-c86a-4dcc-aba9-82b3bd9ae7a8",
   "metadata": {},
   "source": [
    "#### **4. Analysing the algorithm's complexity and inefficiencies**\n",
    "\n",
    "> Complexity of an algorithm is measure of amount of time and space required by an algorithm for an input of a given size, N. Complexity refers to worst case complexity.\n",
    "\n",
    "1. Time complexity of algorithm is cN  for some fixed amount of c. This is running time of algorithm\n",
    "2. Space complexity of algorithm is c'\n",
    "\n",
    "For Linear Search, time complexity is O(N) and Space complexity is O(1)"
   ]
  },
  {
   "cell_type": "markdown",
   "id": "39b68d24-4c20-4e42-985b-aaeebb34baa3",
   "metadata": {},
   "source": [
    "#### **6. Applying the right technique to overcome inefficiency**\n",
    "\n",
    "1. Since the list if already sorted, we can use better technique than linear search\n",
    "2. Find the middle element of the list\n",
    "3. If it matches query, return the middle position as the output\n",
    "4. If middle element is greater than query, then search in first half\n",
    "5. If middle element is less than query, then search in next half\n",
    "6. If no element found, return -1"
   ]
  },
  {
   "cell_type": "markdown",
   "id": "565ea81e-e923-4da0-bc8d-dffb19b172bc",
   "metadata": {},
   "source": [
    "#### **7. Implement the solution and test it using example inputs**"
   ]
  },
  {
   "cell_type": "code",
   "execution_count": 92,
   "id": "7445305c-5349-45ce-8121-f37ca02f80e4",
   "metadata": {},
   "outputs": [],
   "source": [
    "def find_books_binary(books, query):\n",
    "    \"\"\"Function to find if book exists in the books list\"\"\"\n",
    "    lo, hi = 0, len(books) - 1\n",
    "    while lo <= hi:\n",
    "        mid = (lo + hi) // 2\n",
    "        mid_num = books[mid]\n",
    "        print(f\"Values: lo = {lo}, hi = {hi}, mid = {mid} and middle number = {mid_num}\")\n",
    "\n",
    "        if mid_num == query:\n",
    "            return mid\n",
    "        elif mid_num < query:\n",
    "            lo = mid + 1\n",
    "        elif mid_num > query:\n",
    "            hi = mid - 1\n",
    "    return -1\n",
    "    "
   ]
  },
  {
   "cell_type": "code",
   "execution_count": 93,
   "id": "87c79c4d-35f5-4e0b-9bbc-fc93d215a6e1",
   "metadata": {},
   "outputs": [
    {
     "name": "stdout",
     "output_type": "stream",
     "text": [
      "Values: lo = 0, hi = 9, mid = 4 and middle number = 9781449369415\n",
      "Values: lo = 5, hi = 9, mid = 7 and middle number = 9781492041139\n",
      "Values: lo = 5, hi = 6, mid = 5 and middle number = 9781491957660\n",
      "Test Output is  5\n",
      "\u001b[32mTEST PASSED\u001b[0m\n",
      "Function Execution Time:  6.270408630371094e-05  seconds\n",
      "======================================================================================================================================================\n",
      "Values: lo = 0, hi = 9, mid = 4 and middle number = 9781449369415\n",
      "Values: lo = 0, hi = 3, mid = 1 and middle number = 9780596529321\n",
      "Values: lo = 0, hi = 0, mid = 0 and middle number = 9780262035613\n",
      "Test Output is  0\n",
      "\u001b[32mTEST PASSED\u001b[0m\n",
      "Function Execution Time:  8.821487426757812e-06  seconds\n",
      "======================================================================================================================================================\n",
      "Values: lo = 0, hi = 9, mid = 4 and middle number = 9781449369415\n",
      "Values: lo = 5, hi = 9, mid = 7 and middle number = 9781492041139\n",
      "Values: lo = 8, hi = 9, mid = 8 and middle number = 9781617294631\n",
      "Values: lo = 9, hi = 9, mid = 9 and middle number = 9781789955750\n",
      "Test Output is  9\n",
      "\u001b[32mTEST PASSED\u001b[0m\n",
      "Function Execution Time:  1.0013580322265625e-05  seconds\n",
      "======================================================================================================================================================\n",
      "Values: lo = 0, hi = 0, mid = 0 and middle number = 9781789955750\n",
      "Test Output is  0\n",
      "\u001b[32mTEST PASSED\u001b[0m\n",
      "Function Execution Time:  2.86102294921875e-06  seconds\n",
      "======================================================================================================================================================\n",
      "Values: lo = 0, hi = 9, mid = 4 and middle number = 9781449369415\n",
      "Values: lo = 5, hi = 9, mid = 7 and middle number = 9781492041139\n",
      "Values: lo = 8, hi = 9, mid = 8 and middle number = 9781617294631\n",
      "Values: lo = 9, hi = 9, mid = 9 and middle number = 9781789955750\n",
      "Test Output is  -1\n",
      "\u001b[32mTEST PASSED\u001b[0m\n",
      "Function Execution Time:  9.775161743164062e-06  seconds\n",
      "======================================================================================================================================================\n",
      "Test Output is  -1\n",
      "\u001b[32mTEST PASSED\u001b[0m\n",
      "Function Execution Time:  4.76837158203125e-07  seconds\n",
      "======================================================================================================================================================\n",
      "Values: lo = 0, hi = 13, mid = 6 and middle number = 9781449369415\n",
      "Values: lo = 7, hi = 13, mid = 10 and middle number = 9781492041139\n",
      "Values: lo = 7, hi = 9, mid = 8 and middle number = 9781492032649\n",
      "Values: lo = 7, hi = 7, mid = 7 and middle number = 9781491957660\n",
      "Test Output is  7\n",
      "\u001b[32mTEST PASSED\u001b[0m\n",
      "Function Execution Time:  9.298324584960938e-06  seconds\n",
      "======================================================================================================================================================\n",
      "Values: lo = 0, hi = 16, mid = 8 and middle number = 9781491957660\n",
      "Test Output is  8\n",
      "\u001b[31mTEST FAILED\u001b[0m\n",
      "Function Execution Time:  4.76837158203125e-06  seconds\n",
      "======================================================================================================================================================\n"
     ]
    }
   ],
   "source": [
    "evaluate_test_cases(find_books_binary, tests)"
   ]
  },
  {
   "cell_type": "code",
   "execution_count": null,
   "id": "410f3ff3-4774-493c-9f0a-5420c762373b",
   "metadata": {},
   "outputs": [],
   "source": []
  }
 ],
 "metadata": {
  "kernelspec": {
   "display_name": "Python 3 (ipykernel)",
   "language": "python",
   "name": "python3"
  },
  "language_info": {
   "codemirror_mode": {
    "name": "ipython",
    "version": 3
   },
   "file_extension": ".py",
   "mimetype": "text/x-python",
   "name": "python",
   "nbconvert_exporter": "python",
   "pygments_lexer": "ipython3",
   "version": "3.11.0rc1"
  }
 },
 "nbformat": 4,
 "nbformat_minor": 5
}
