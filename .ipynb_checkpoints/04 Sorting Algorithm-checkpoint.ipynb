{
 "cells": [
  {
   "cell_type": "markdown",
   "id": "ec38f22a-8632-49a1-9df1-79b040822850",
   "metadata": {},
   "source": [
    "## **Sorting**\n",
    "\n",
    "Sorting is the process of arranging elements in a collection (like a list, tuple, or string) in a specific order, such as ascending or descending.\n",
    "\n",
    "__**Why to Sort ?**__\n",
    "\n",
    "1. Organization and Readability: Sorted data is easier to understand, analyze, and visualize.\n",
    "2. Efficient Searching: Algorithms like binary search require sorted data to quickly find specific elements.\n",
    "3. Data Preparation: Sorting is often a preprocessing step for various tasks, including:\n",
    "        Machine learning algorithms\\\n",
    "        Data analysis and visualization\\\n",
    "        Database operations\\\n",
    "        Comparison and ranking\n"
   ]
  },
  {
   "cell_type": "markdown",
   "id": "bd4be925-6084-4992-933c-93dc12ddb36d",
   "metadata": {},
   "source": [
    "### How to Sort ?\n",
    "\n",
    "    1. State the problem clearly. Identify the input & output formats.\n",
    "    2. Come up with some example inputs & outputs. Try to cover all edge cases.\n",
    "    3. Come up with a correct solution for the problem. State it in plain English.\n",
    "    4. Implement the solution and test it using example inputs. Fix bugs, if any.\n",
    "    5. Analyze the algorithm's complexity and identify inefficiencies, if any.\n",
    "    6. Apply the right technique to overcome the inefficiency. Repeat steps 3 to 6.\n",
    "\n",
    "reference: www.jovian.com\n"
   ]
  },
  {
   "cell_type": "markdown",
   "id": "0b2d3fc1-8c93-4e2f-813e-8dba86046a2f",
   "metadata": {},
   "source": [
    "### 1. State the Problem Clearly.\n",
    "\n",
    "We need to write a function to sort list of numbers in increasing order"
   ]
  },
  {
   "cell_type": "markdown",
   "id": "9eb9c147-4aa4-4bfe-81d6-03862829482f",
   "metadata": {},
   "source": [
    "#### Input:\n",
    "1. nums: Initial list can be something like [7,2,1,6,4,5,9,1]\n",
    "\n",
    "#### Output:\n",
    "2. sorted nums: After sorting list will look like [1,1,2,4,5,6,7,9]\n"
   ]
  },
  {
   "cell_type": "markdown",
   "id": "2aba6194-be8e-4f53-85c8-4f495caa8437",
   "metadata": {},
   "source": [
    "#### Signature of function"
   ]
  },
  {
   "cell_type": "code",
   "execution_count": 1,
   "id": "5ecd2358-6357-4937-8e47-78ff3825fbf1",
   "metadata": {},
   "outputs": [],
   "source": [
    "def sort(nums):\n",
    "    pass"
   ]
  },
  {
   "cell_type": "markdown",
   "id": "01220b76-08a4-4b22-b9c7-78cce8c670cd",
   "metadata": {},
   "source": [
    "### 2. Come up with some example inputs and outputs\n",
    "\n",
    "1. Non empty list with random positive numbers\n",
    "2. Non empty list with random numbers both positive and negative numbers\n",
    "3. Non empty list with random negative numbers\n",
    "4. Non empty list with repeating numbers\n",
    "5. Non empty sorted list\n",
    "6. Non empty list sorted in reverse order\n",
    "7. Empty list\n",
    "8. List with one element\n",
    "9. List with single element repeating multiple times\n",
    "10. Long list"
   ]
  },
  {
   "cell_type": "code",
   "execution_count": 2,
   "id": "b6b77273-6511-4afa-8f75-ea41a2295265",
   "metadata": {},
   "outputs": [],
   "source": [
    "# Non empty list with random positive numbers\n",
    "test0 = {\n",
    "    'input': {\n",
    "        'nums': [98, 19, 83, 85, 38, 12, 13, 17]\n",
    "    }, \n",
    "    'output': [12,13,17,19,38,83,85,98]\n",
    "}\n"
   ]
  },
  {
   "cell_type": "code",
   "execution_count": 11,
   "id": "a57e2961-bdfc-4b59-9171-3ad42add91f2",
   "metadata": {},
   "outputs": [],
   "source": [
    "# Non empty list with random numbers both positive and negative numbers\n",
    "test1 = {\n",
    "    'input': {\n",
    "        'nums': [75, 23, -78, -25, 94, 79, 61, -74]\n",
    "    }, \n",
    "    'output': [-78,-74,-25,23,61,75,79,94]\n",
    "}\n"
   ]
  },
  {
   "cell_type": "code",
   "execution_count": 12,
   "id": "c84a41b3-fe21-45ae-82f3-3cadb5c216d2",
   "metadata": {},
   "outputs": [],
   "source": [
    "# Non empty list with random negative numbers\n",
    "test2 = {\n",
    "    'input': {\n",
    "        'nums': [-91, -38, -42, -87, -57, -21, -80, -10]\n",
    "    }, \n",
    "    'output': [-91, -87, -80, -57, -42, -38, -21, -10]\n",
    "}"
   ]
  },
  {
   "cell_type": "code",
   "execution_count": 13,
   "id": "78a165d2-15b0-45fb-b797-6e9bdda51662",
   "metadata": {},
   "outputs": [],
   "source": [
    "# Non empty list with repeating numbers\n",
    "test3 = {\n",
    "    'input': {\n",
    "        'nums': [9, 9, 2, 4, 1, 6, 5, 8]\n",
    "    }, \n",
    "    'output': [1, 2, 4, 5, 6, 8, 9, 9]\n",
    "}"
   ]
  },
  {
   "cell_type": "code",
   "execution_count": 14,
   "id": "21c2223d-d3e3-4540-bbb8-188a38e56f34",
   "metadata": {},
   "outputs": [],
   "source": [
    "# Non empty sorted list\n",
    "test4 = {\n",
    "    'input': {\n",
    "        'nums': [22, 29, 30, 75, 79, 81, 83, 87]\n",
    "    }, \n",
    "    'output': [22, 29, 30, 75, 79, 81, 83, 87]\n",
    "}"
   ]
  },
  {
   "cell_type": "code",
   "execution_count": 15,
   "id": "9f303a9f-a8a0-419c-81fe-649ffbb0fa8b",
   "metadata": {},
   "outputs": [],
   "source": [
    "# Non empty sorted list in reverse order\n",
    "test5 = {\n",
    "    'input': {\n",
    "        'nums': [69, 56, 53, 50, 42, 22, 16, 12]\n",
    "    }, \n",
    "    'output': [12, 16, 22, 42, 50, 53, 56, 69]\n",
    "}"
   ]
  },
  {
   "cell_type": "code",
   "execution_count": 16,
   "id": "4ba7c2cc-b88f-42ed-96a5-b9b2959bcd89",
   "metadata": {},
   "outputs": [],
   "source": [
    "# Empty list\n",
    "test6 = {\n",
    "    'input': {\n",
    "        'nums': []\n",
    "    }, \n",
    "    'output': []\n",
    "}"
   ]
  },
  {
   "cell_type": "code",
   "execution_count": 17,
   "id": "e5f338d4-f1cd-48fe-93b5-bea88a840464",
   "metadata": {},
   "outputs": [],
   "source": [
    "# List with one element\n",
    "test7 = {\n",
    "    'input': {\n",
    "        'nums': [42]\n",
    "    }, \n",
    "    'output': [42]\n",
    "}"
   ]
  },
  {
   "cell_type": "code",
   "execution_count": 18,
   "id": "20d4d36a-2bb6-4250-ab1f-22b3f9394f00",
   "metadata": {},
   "outputs": [],
   "source": [
    "# List with single element repeating multiple times\n",
    "test8 = {\n",
    "    'input': {\n",
    "        'nums': [3,3,3,3,3]\n",
    "    }, \n",
    "    'output': [3,3,3,3,3]\n",
    "}"
   ]
  },
  {
   "cell_type": "code",
   "execution_count": 23,
   "id": "cc232393-51a0-4128-9608-5189e0043280",
   "metadata": {},
   "outputs": [],
   "source": [
    "# Long list\n",
    "import random\n",
    "\n",
    "input_list = list(range(10000))\n",
    "output_list = list(range(10000))\n",
    "random.shuffle(input_list)\n",
    "\n",
    "#print(output_list[:10], input_list[:10])\n",
    "\n",
    "test9 = {\n",
    "    'input': {\n",
    "        'nums':input_list\n",
    "    },\n",
    "    'output': output_list\n",
    "}"
   ]
  },
  {
   "cell_type": "code",
   "execution_count": 24,
   "id": "36822764-653a-4132-b527-70ee62732edf",
   "metadata": {},
   "outputs": [],
   "source": [
    "tests = [test0, test1, test2, test3, test4, test5, test6, test7, test8, test9]"
   ]
  },
  {
   "cell_type": "code",
   "execution_count": 26,
   "id": "1f18b3a5-c509-4516-973f-7406be15c57d",
   "metadata": {},
   "outputs": [
    {
     "data": {
      "text/plain": [
       "[{'input': {'nums': [3, 3, 3, 3, 3]}, 'output': [3, 3, 3, 3, 3]},\n",
       " {'input': {'nums': [75, 23, -78, -25, 94, 79, 61, -74]},\n",
       "  'output': [-78, -74, -25, 23, 61, 75, 79, 94]},\n",
       " {'input': {'nums': [-91, -38, -42, -87, -57, -21, -80, -10]},\n",
       "  'output': [-91, -87, -80, -57, -42, -38, -21, -10]},\n",
       " {'input': {'nums': [9, 9, 2, 4, 1, 6, 5, 8]},\n",
       "  'output': [1, 2, 4, 5, 6, 8, 9, 9]},\n",
       " {'input': {'nums': [22, 29, 30, 75, 79, 81, 83, 87]},\n",
       "  'output': [22, 29, 30, 75, 79, 81, 83, 87]},\n",
       " {'input': {'nums': [69, 56, 53, 50, 42, 22, 16, 12]},\n",
       "  'output': [12, 16, 22, 42, 50, 53, 56, 69]},\n",
       " {'input': {'nums': []}, 'output': []},\n",
       " {'input': {'nums': [42]}, 'output': [42]}]"
      ]
     },
     "execution_count": 26,
     "metadata": {},
     "output_type": "execute_result"
    }
   ],
   "source": [
    "tests[:8]"
   ]
  },
  {
   "cell_type": "markdown",
   "id": "8464bc99-0bdd-416d-937b-eda067e77b47",
   "metadata": {},
   "source": [
    "### **Bubble Sort**\n",
    "\n",
    "Below are the steps for Bubble sort: \n",
    "1.  Start iterating from the beginning of the list.\n",
    "2. Compare the current element with the element next to it.\n",
    "3. If the current element is greater than the next element: Swap the two elements.\n",
    "4. Move on to the next element in the list.\n",
    "5. Repeat steps 2-4 until you reach the end of the list.\n",
    "6. Repeat the entire process (steps 1-5) for the entire list, decreasing the number of elements to compare by 1 in each iteration. This is because the largest element will bubble up to the end in the first iteration, the second largest in the second, and so on."
   ]
  },
  {
   "cell_type": "code",
   "execution_count": 40,
   "id": "c490e967-7dee-41d0-b2e5-4b5f9827a7c4",
   "metadata": {},
   "outputs": [],
   "source": [
    "def bubble_sort(nums):\n",
    "    \"\"\"Function to sort the list using bubble sort\"\"\"\n",
    "    for i in range(len(nums) - 1):\n",
    "        for j in range(len(nums) - i-1):\n",
    "            if nums[j] > nums[j + 1]:\n",
    "                nums[j], nums[j + 1] = nums[j + 1], nums[j]\n",
    "        #print(nums)\n",
    "    return nums"
   ]
  },
  {
   "cell_type": "code",
   "execution_count": 39,
   "id": "e123bed5-36cc-4791-9feb-6a14a6dfcfe9",
   "metadata": {},
   "outputs": [
    {
     "name": "stdout",
     "output_type": "stream",
     "text": [
      "[56, 53, 50, 42, 22, 16, 12, 69]\n",
      "[53, 50, 42, 22, 16, 12, 56, 69]\n",
      "[50, 42, 22, 16, 12, 53, 56, 69]\n",
      "[42, 22, 16, 12, 50, 53, 56, 69]\n",
      "[22, 16, 12, 42, 50, 53, 56, 69]\n",
      "[16, 12, 22, 42, 50, 53, 56, 69]\n",
      "[12, 16, 22, 42, 50, 53, 56, 69]\n",
      "[12, 16, 22, 42, 50, 53, 56, 69]\n"
     ]
    }
   ],
   "source": [
    "print(bubble_sort([69, 56, 53, 50, 42, 22, 16, 12]))"
   ]
  },
  {
   "cell_type": "code",
   "execution_count": 45,
   "id": "be582c72-6730-4ce7-aa61-7952f2e64da6",
   "metadata": {},
   "outputs": [],
   "source": [
    "input0 = tests[1]['input']['nums']\n",
    "output0 = tests[1]['output']"
   ]
  },
  {
   "cell_type": "code",
   "execution_count": 47,
   "id": "9e246502-e543-4f1f-81d9-692f7d877324",
   "metadata": {},
   "outputs": [
    {
     "data": {
      "text/plain": [
       "([75, 23, -78, -25, 94, 79, 61, -74], [-78, -74, -25, 23, 61, 75, 79, 94])"
      ]
     },
     "execution_count": 47,
     "metadata": {},
     "output_type": "execute_result"
    }
   ],
   "source": [
    "input0, output0"
   ]
  },
  {
   "cell_type": "code",
   "execution_count": 48,
   "id": "8d89f5d7-517c-4178-bdcd-a89ca7d06402",
   "metadata": {},
   "outputs": [
    {
     "data": {
      "text/plain": [
       "True"
      ]
     },
     "execution_count": 48,
     "metadata": {},
     "output_type": "execute_result"
    }
   ],
   "source": [
    "output = bubble_sort(input0)\n",
    "output == output0"
   ]
  },
  {
   "cell_type": "code",
   "execution_count": null,
   "id": "afe44049-4423-4334-9389-e2ff7f560e8d",
   "metadata": {},
   "outputs": [],
   "source": []
  }
 ],
 "metadata": {
  "kernelspec": {
   "display_name": "Python 3 (ipykernel)",
   "language": "python",
   "name": "python3"
  },
  "language_info": {
   "codemirror_mode": {
    "name": "ipython",
    "version": 3
   },
   "file_extension": ".py",
   "mimetype": "text/x-python",
   "name": "python",
   "nbconvert_exporter": "python",
   "pygments_lexer": "ipython3",
   "version": "3.11.0rc1"
  }
 },
 "nbformat": 4,
 "nbformat_minor": 5
}
