{
 "cells": [
  {
   "cell_type": "markdown",
   "id": "d1135f93-5b1f-4ce2-a85f-92b4f3300f17",
   "metadata": {},
   "source": [
    "## **Dynamic Programming**\n",
    "\n",
    "\n",
    "\n",
    "QUESTION 1: Write a function to find the length of the longest common subsequence between two sequences. E.g. Given the strings \"serendipitous\" and \"precipitation\", the longest common subsequence is \"reipito\" and its length is 7.\n",
    "\n",
    "A \"sequence\" is a group of items with a deterministic ordering. Lists, tuples and ranges are some common sequence types in Python.\n",
    "\n",
    "A \"subsequence\" is a sequence obtained by deleting zero or more elements from another sequence. For example, \"edpt\" is a subsequence of \"serendipitous\".\n",
    "\n",
    "\n",
    "### **Problem**:\n",
    "We are given two sequences and we need to find the length of the longest common subsequence between them\n",
    "\n",
    "**Input**:\n",
    "1. seq1: 'serendipitous'\n",
    "2. seq2: 'precipitation'\n",
    "\n",
    "**Output**:\n",
    "Length of common subsequence is 7 ('reipito')"
   ]
  },
  {
   "cell_type": "markdown",
   "id": "6e64f724-055f-452e-ae1c-01eb93bbf400",
   "metadata": {},
   "source": [
    "### Function Signature"
   ]
  },
  {
   "cell_type": "code",
   "execution_count": 1,
   "id": "12c2b4d1-647f-44aa-999a-3b2c79add4b0",
   "metadata": {},
   "outputs": [],
   "source": [
    "def len_lcs(seq1, seq2):\n",
    "    pass"
   ]
  },
  {
   "cell_type": "markdown",
   "id": "8522b60c-5098-4442-aaed-f5c8013595a9",
   "metadata": {},
   "source": [
    "### **Input and Output**\n",
    "\n",
    "1. General Case (String)\n",
    "2. General Case (list)\n",
    "3. No Common subsequence\n",
    "4. One is the subsequence of the other\n",
    "5. One subsequence is empty\n",
    "6. Both the subsequences are empty\n",
    "7. Multiple Subsequences with same length\n",
    "   1. \"abcdef\" and \"badcfe\""
   ]
  },
  {
   "cell_type": "code",
   "execution_count": 2,
   "id": "e14ddc64-8233-4af7-9a0e-f608c4d42906",
   "metadata": {},
   "outputs": [],
   "source": [
    "tests=[]"
   ]
  },
  {
   "cell_type": "code",
   "execution_count": 3,
   "id": "0a79f285-f66a-4614-8f78-b82361c16216",
   "metadata": {},
   "outputs": [],
   "source": [
    "tests.append({\n",
    "    'input': {\n",
    "        'seq1': 'serendipitous',\n",
    "        'seq2': 'precipitation'\n",
    "    },\n",
    "    'output': 7\n",
    "})\n",
    "tests.append({\n",
    "    'input': {\n",
    "        'seq1': [1,3,5,6,7,2,5,2,3],\n",
    "        'seq2': [6,2,4,7,1,5,6,2,3]\n",
    "    },\n",
    "    'output': 5\n",
    "})\n",
    "tests.append({\n",
    "    'input': {\n",
    "        'seq1': 'longest',\n",
    "        'seq2': 'stone'\n",
    "    },\n",
    "    'output': 3\n",
    "})\n",
    "tests.append({\n",
    "    'input': {\n",
    "        'seq1': 'qwertyuiop',\n",
    "        'seq2': 'asdfghjkl'\n",
    "    },\n",
    "    'output': 0\n",
    "})\n",
    "tests.append({\n",
    "    'input': {\n",
    "        'seq1': 'dense',\n",
    "        'seq2': 'condensed'\n",
    "    },\n",
    "    'output': 5\n",
    "})\n",
    "tests.append({\n",
    "    'input': {\n",
    "        'seq1': '',\n",
    "        'seq2': 'qwertyuiop'\n",
    "    },\n",
    "    'output': 0\n",
    "})\n",
    "tests.append({\n",
    "    'input': {\n",
    "        'seq1': '',\n",
    "        'seq2': ''\n",
    "    },\n",
    "    'output': 0\n",
    "})\n",
    "tests.append({\n",
    "    'input': {\n",
    "        'seq1': 'abcdef',\n",
    "        'seq2': 'badcfe'\n",
    "    },\n",
    "    'output': 3\n",
    "})"
   ]
  },
  {
   "cell_type": "markdown",
   "id": "09deb84a-f279-420e-ba94-302fc90b4f2d",
   "metadata": {},
   "source": [
    "### Finding correct solution"
   ]
  },
  {
   "cell_type": "code",
   "execution_count": null,
   "id": "276a2379-d9b6-4697-a815-94e7e8409776",
   "metadata": {},
   "outputs": [],
   "source": []
  }
 ],
 "metadata": {
  "kernelspec": {
   "display_name": "Python 3 (ipykernel)",
   "language": "python",
   "name": "python3"
  },
  "language_info": {
   "codemirror_mode": {
    "name": "ipython",
    "version": 3
   },
   "file_extension": ".py",
   "mimetype": "text/x-python",
   "name": "python",
   "nbconvert_exporter": "python",
   "pygments_lexer": "ipython3",
   "version": "3.11.0rc1"
  }
 },
 "nbformat": 4,
 "nbformat_minor": 5
}
