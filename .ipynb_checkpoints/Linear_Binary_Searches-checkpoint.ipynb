{
 "cells": [
  {
   "cell_type": "markdown",
   "id": "58f63729-dc7e-4fc9-9cb2-b09382ff9519",
   "metadata": {},
   "source": [
    "## Linear & Binary Search"
   ]
  },
  {
   "cell_type": "markdown",
   "id": "d0669578-bc36-4b5d-8b98-146680aa8a3b",
   "metadata": {},
   "source": [
    "### Problem Statement:\n",
    ">Search for a book with ISBN number in the list"
   ]
  },
  {
   "cell_type": "markdown",
   "id": "303b71cf-6fee-4396-b847-baa5b194760d",
   "metadata": {},
   "source": [
    "#### Importing libraries"
   ]
  },
  {
   "cell_type": "code",
   "execution_count": 1,
   "id": "c0d785bc-5ba2-40c6-9081-c43e925e0662",
   "metadata": {},
   "outputs": [],
   "source": [
    "import pandas as pd\n",
    "import numpy as np"
   ]
  },
  {
   "cell_type": "markdown",
   "id": "9f26d926-cb36-4234-888e-8ed488512473",
   "metadata": {},
   "source": [
    "#### Loading data from csv file"
   ]
  },
  {
   "cell_type": "code",
   "execution_count": 2,
   "id": "97eb2ff2-598a-4c76-b099-e590c714c7fe",
   "metadata": {},
   "outputs": [],
   "source": [
    "data = pd.read_csv(\"./ISBN_Example.csv\", sep=\"|\")"
   ]
  },
  {
   "cell_type": "code",
   "execution_count": 3,
   "id": "4c08329c-dc21-41ff-82bc-73d6b386e743",
   "metadata": {},
   "outputs": [
    {
     "data": {
      "text/plain": [
       "[9780262035613,\n",
       " 9780596529321,\n",
       " 9780999247108,\n",
       " 9781449361327,\n",
       " 9781449369415,\n",
       " 9781491957660,\n",
       " 9781492032649,\n",
       " 9781492041139,\n",
       " 9781617294631,\n",
       " 9781789955750]"
      ]
     },
     "execution_count": 3,
     "metadata": {},
     "output_type": "execute_result"
    }
   ],
   "source": [
    "data_isbn = data[\"isbn\"].tolist()\n",
    "data_isbn.sort()\n",
    "data_isbn"
   ]
  },
  {
   "cell_type": "markdown",
   "id": "cdc0ace7-f287-499e-a7ca-a4820d36e3b7",
   "metadata": {},
   "source": [
    "#### **Method**"
   ]
  },
  {
   "cell_type": "markdown",
   "id": "26ce3193-9567-433e-abc7-35d2b199db0b",
   "metadata": {},
   "source": [
    "\n",
    "    1. State the problem clearly. Identify the input & output formats.\n",
    "    2. Come up with some example inputs & outputs. Try to cover all edge cases.\n",
    "    3. Come up with a correct solution for the problem. State it in plain English.\n",
    "    4. Implement the solution and test it using example inputs. Fix bugs, if any.\n",
    "    5. Analyze the algorithm's complexity and identify inefficiencies, if any.\n",
    "    6. Apply the right technique to overcome the inefficiency. Repeat steps 3 to 6.\n",
    "\n",
    "    reference: https://jovian.com\n"
   ]
  },
  {
   "cell_type": "markdown",
   "id": "7a9e0232-9957-4d06-9202-4847cdda5489",
   "metadata": {},
   "source": [
    "#### **1. State the problem clearly with Inputs and Output**\n",
    "\n",
    "> Write the problem to fine the position of book with given ISBN numbers arranged in ascending order. One constraint is to find the book by accessing minimum nuber of elements in the list\n",
    "\n",
    "##### **Inputs**:\n",
    "***\n",
    "    Input list: Contains the list with ISBN numbers\n",
    "    \n",
    "    Query: Book to query in the list\n",
    "    \n",
    "\n",
    "##### **Output**:\n",
    "***\n",
    "     Position of the book"
   ]
  },
  {
   "cell_type": "code",
   "execution_count": 4,
   "id": "025a3160-0055-47f2-9c05-7692a60c12e3",
   "metadata": {},
   "outputs": [],
   "source": [
    "def find_book(books,query):\n",
    "    \"\"\"Function to find a book in the list\"\"\"\n",
    "    pass"
   ]
  },
  {
   "cell_type": "markdown",
   "id": "dccc7c4f-c712-4ff3-a05e-bf9a2e1d64ae",
   "metadata": {},
   "source": [
    "#### **2. Some Example inputs and outputs**"
   ]
  },
  {
   "cell_type": "code",
   "execution_count": 5,
   "id": "1127bbe8-21d1-4722-a147-272a9c2f8a9a",
   "metadata": {},
   "outputs": [
    {
     "name": "stdout",
     "output_type": "stream",
     "text": [
      "Input List:  [9780262035613, 9780596529321, 9780999247108, 9781449361327, 9781449369415, 9781491957660, 9781492032649, 9781492041139, 9781617294631, 9781789955750]\n",
      "Query:  9781491957660\n",
      "Output:  5\n"
     ]
    }
   ],
   "source": [
    "query = 9781491957660\n",
    "output = 5\n",
    "print(\"Input List: \",data_isbn)\n",
    "print(\"Query: \", query)\n",
    "print(\"Output: \", output)"
   ]
  },
  {
   "cell_type": "code",
   "execution_count": 6,
   "id": "f2188d76-912f-4162-ab50-698f41922763",
   "metadata": {},
   "outputs": [
    {
     "data": {
      "text/plain": [
       "False"
      ]
     },
     "execution_count": 6,
     "metadata": {},
     "output_type": "execute_result"
    }
   ],
   "source": [
    "result = find_book(data_isbn, query)\n",
    "result == output"
   ]
  },
  {
   "cell_type": "markdown",
   "id": "8a0c0f8d-679c-42ef-b14a-57364ad333b1",
   "metadata": {},
   "source": [
    "#### Creating the dictionary of inputs and outputs"
   ]
  },
  {
   "cell_type": "code",
   "execution_count": 7,
   "id": "9027f392-815c-4617-b8a8-5fae52d09ba0",
   "metadata": {},
   "outputs": [],
   "source": [
    "test = {\n",
    "    'input': {\n",
    "        'books': data_isbn,\n",
    "        'query':9781491957660\n",
    "    },\n",
    "    'output': 5\n",
    "}"
   ]
  },
  {
   "cell_type": "code",
   "execution_count": 8,
   "id": "100fa152-4c70-48c7-be61-9231573fe028",
   "metadata": {},
   "outputs": [
    {
     "data": {
      "text/plain": [
       "False"
      ]
     },
     "execution_count": 8,
     "metadata": {},
     "output_type": "execute_result"
    }
   ],
   "source": [
    "result = find_book(**test['input'])\n",
    "result == test['output']"
   ]
  },
  {
   "cell_type": "markdown",
   "id": "4ada9a4e-6bc8-469d-9863-3056303aab64",
   "metadata": {},
   "source": [
    "#### **Other Inputs**\n",
    "\n",
    "1. Expected book is in middle of the list\n",
    "2. Expected book is in first of the list\n",
    "3. Expected book is in last of the list\n",
    "4. Book list has only one element which is expected book\n",
    "5. Book list does not contain the expected book\n",
    "6. Book list is empty\n",
    "7. Book list contains duplicate entries\n",
    "8. Expected book occurs multiple times in the list array"
   ]
  },
  {
   "cell_type": "code",
   "execution_count": 9,
   "id": "73662ea9-b443-46d7-9374-e2d6f55fb76c",
   "metadata": {},
   "outputs": [],
   "source": [
    "tests = []"
   ]
  },
  {
   "cell_type": "code",
   "execution_count": 10,
   "id": "7601d187-1322-4f71-9ee1-9d97d5697fd3",
   "metadata": {},
   "outputs": [],
   "source": [
    "# Expected book is in middle of the list\n",
    "tests.append({\n",
    "    'input': {\n",
    "        'books': data_isbn,\n",
    "        'query':9781491957660\n",
    "    },\n",
    "    'output': 5\n",
    "})"
   ]
  },
  {
   "cell_type": "code",
   "execution_count": 11,
   "id": "dc91ef84-d58e-45ef-9011-a750a16c382e",
   "metadata": {},
   "outputs": [],
   "source": [
    "# Expected book is in the first of the list\n",
    "tests.append({\n",
    "    'input': {\n",
    "        'books': data_isbn,\n",
    "        'query':9780262035613\n",
    "    },\n",
    "    'output': 0\n",
    "})"
   ]
  },
  {
   "cell_type": "code",
   "execution_count": 12,
   "id": "bbc00d1d-610c-4c51-b966-9002301aed41",
   "metadata": {},
   "outputs": [],
   "source": [
    "# Expected book is in the last of the list\n",
    "tests.append({\n",
    "    'input': {\n",
    "        'books': data_isbn,\n",
    "        'query':9781789955750\n",
    "    },\n",
    "    'output': 9\n",
    "})"
   ]
  },
  {
   "cell_type": "code",
   "execution_count": 13,
   "id": "97437687-aa22-4fac-8527-0e0c8ee8e985",
   "metadata": {},
   "outputs": [],
   "source": [
    "# Book list has only one element which is expected book\n",
    "tests.append({\n",
    "    'input': {\n",
    "        'books': [9781789955750],\n",
    "        'query':9781789955750\n",
    "    },\n",
    "    'output': 0\n",
    "})"
   ]
  },
  {
   "cell_type": "code",
   "execution_count": 14,
   "id": "6e40e231-fe67-4841-8ca3-ae29a9a8701b",
   "metadata": {},
   "outputs": [],
   "source": [
    "# Book list does not contain the expected book\n",
    "tests.append({\n",
    "    'input': {\n",
    "        'books': data_isbn,\n",
    "        'query':9781789955751\n",
    "    },\n",
    "    'output': -1\n",
    "})"
   ]
  },
  {
   "cell_type": "code",
   "execution_count": 15,
   "id": "1d305699-c9f9-4b52-a22b-84f09f542a42",
   "metadata": {},
   "outputs": [],
   "source": [
    "# Book list is empty\n",
    "tests.append({\n",
    "    'input': {\n",
    "        'books': [],\n",
    "        'query':9781789955751\n",
    "    },\n",
    "    'output': -1\n",
    "})"
   ]
  },
  {
   "cell_type": "code",
   "execution_count": 16,
   "id": "ed41b356-2e5e-430c-86bf-fb1ad04b5b59",
   "metadata": {},
   "outputs": [],
   "source": [
    "#Book list contains duplicate entries\n",
    "tests.append({\n",
    "    'input': {\n",
    "        'books': [9780262035613, 9780596529321, 9780596529321,9780999247108, 9780999247108,9781449361327, 9781449369415, 9781491957660, 9781492032649, 9781492032649,9781492041139, 9781617294631,9781617294631, 9781789955750],\n",
    "        'query':9781491957660\n",
    "    },\n",
    "    'output': 7\n",
    "})"
   ]
  },
  {
   "cell_type": "code",
   "execution_count": 17,
   "id": "9c516e9e-6b18-4c5f-accc-91befa61e5f9",
   "metadata": {},
   "outputs": [],
   "source": [
    "tests.append({\n",
    "    'input': {\n",
    "        'books': [9780262035613, 9780596529321, 9780596529321,9780999247108, 9780999247108,9781449361327, 9781449369415,9781491957660,9781491957660,9781491957660, 9781491957660, 9781492032649, 9781492032649,9781492041139, 9781617294631,9781617294631, 9781789955750],\n",
    "        'query':9781491957660\n",
    "    },\n",
    "    'output': 7\n",
    "})"
   ]
  },
  {
   "cell_type": "code",
   "execution_count": 18,
   "id": "334ccc8e-7fcc-4d76-9908-d5da08a691f4",
   "metadata": {},
   "outputs": [
    {
     "data": {
      "text/plain": [
       "[{'input': {'books': [9780262035613,\n",
       "    9780596529321,\n",
       "    9780999247108,\n",
       "    9781449361327,\n",
       "    9781449369415,\n",
       "    9781491957660,\n",
       "    9781492032649,\n",
       "    9781492041139,\n",
       "    9781617294631,\n",
       "    9781789955750],\n",
       "   'query': 9781491957660},\n",
       "  'output': 5},\n",
       " {'input': {'books': [9780262035613,\n",
       "    9780596529321,\n",
       "    9780999247108,\n",
       "    9781449361327,\n",
       "    9781449369415,\n",
       "    9781491957660,\n",
       "    9781492032649,\n",
       "    9781492041139,\n",
       "    9781617294631,\n",
       "    9781789955750],\n",
       "   'query': 9780262035613},\n",
       "  'output': 0},\n",
       " {'input': {'books': [9780262035613,\n",
       "    9780596529321,\n",
       "    9780999247108,\n",
       "    9781449361327,\n",
       "    9781449369415,\n",
       "    9781491957660,\n",
       "    9781492032649,\n",
       "    9781492041139,\n",
       "    9781617294631,\n",
       "    9781789955750],\n",
       "   'query': 9781789955750},\n",
       "  'output': 9},\n",
       " {'input': {'books': [9781789955750], 'query': 9781789955750}, 'output': 0},\n",
       " {'input': {'books': [9780262035613,\n",
       "    9780596529321,\n",
       "    9780999247108,\n",
       "    9781449361327,\n",
       "    9781449369415,\n",
       "    9781491957660,\n",
       "    9781492032649,\n",
       "    9781492041139,\n",
       "    9781617294631,\n",
       "    9781789955750],\n",
       "   'query': 9781789955751},\n",
       "  'output': -1},\n",
       " {'input': {'books': [], 'query': 9781789955751}, 'output': -1},\n",
       " {'input': {'books': [9780262035613,\n",
       "    9780596529321,\n",
       "    9780596529321,\n",
       "    9780999247108,\n",
       "    9780999247108,\n",
       "    9781449361327,\n",
       "    9781449369415,\n",
       "    9781491957660,\n",
       "    9781492032649,\n",
       "    9781492032649,\n",
       "    9781492041139,\n",
       "    9781617294631,\n",
       "    9781617294631,\n",
       "    9781789955750],\n",
       "   'query': 9781491957660},\n",
       "  'output': 7},\n",
       " {'input': {'books': [9780262035613,\n",
       "    9780596529321,\n",
       "    9780596529321,\n",
       "    9780999247108,\n",
       "    9780999247108,\n",
       "    9781449361327,\n",
       "    9781449369415,\n",
       "    9781491957660,\n",
       "    9781491957660,\n",
       "    9781491957660,\n",
       "    9781491957660,\n",
       "    9781492032649,\n",
       "    9781492032649,\n",
       "    9781492041139,\n",
       "    9781617294631,\n",
       "    9781617294631,\n",
       "    9781789955750],\n",
       "   'query': 9781491957660},\n",
       "  'output': 7}]"
      ]
     },
     "execution_count": 18,
     "metadata": {},
     "output_type": "execute_result"
    }
   ],
   "source": [
    "tests"
   ]
  },
  {
   "cell_type": "markdown",
   "id": "e864541c-ae8d-4929-bf22-ae3ca79f6c5d",
   "metadata": {},
   "source": [
    "#### **3. Come up with a correct solution for the problem. State it in plain English**\n",
    "\n",
    ">Linear Search Algorithm: Search every element sequentially. This is simple and most obvious solution to the problem. This may be a brute force algorithm\n",
    "\n",
    "1. Create a variable to store the location\n",
    "2. Check whether the number at the location is equal to the expected book\n",
    "3. If they are equal, then answer is location in the list\n",
    "4. If it is not equal, increment the location by 1, until location we reach the end of the list\n",
    "5. If expected book is not in the list, return -1"
   ]
  },
  {
   "cell_type": "markdown",
   "id": "24276038-2e27-4c97-acc8-9fe38d5f9078",
   "metadata": {},
   "source": [
    "#### **4. Implement the solution and test it using example inputs. Fix bugs, if any.**"
   ]
  },
  {
   "cell_type": "code",
   "execution_count": 19,
   "id": "4cfc3cd1-5cef-49e5-9d92-6ede914099f3",
   "metadata": {},
   "outputs": [],
   "source": [
    "def find_books(books, query):\n",
    "    \"\"\"Function to find if book exists in the books list\"\"\"\n",
    "    #Create a variable loc for tracking the location\n",
    "    loc = 0\n",
    "    # Iterate over entire list\n",
    "    while True:\n",
    "        # If length of the books is zero, return -1\n",
    "        if len(books) == 0:\n",
    "            return -1\n",
    "\n",
    "        if books[loc] == query:\n",
    "            return loc\n",
    "\n",
    "        loc += 1\n",
    "\n",
    "        if loc == len(books):\n",
    "            return -1\n",
    "    "
   ]
  },
  {
   "cell_type": "code",
   "execution_count": 20,
   "id": "2fccf8f0-891c-4153-8ee3-884f5ca6ef3b",
   "metadata": {},
   "outputs": [
    {
     "data": {
      "text/plain": [
       "{'input': {'books': [9780262035613,\n",
       "   9780596529321,\n",
       "   9780999247108,\n",
       "   9781449361327,\n",
       "   9781449369415,\n",
       "   9781491957660,\n",
       "   9781492032649,\n",
       "   9781492041139,\n",
       "   9781617294631,\n",
       "   9781789955750],\n",
       "  'query': 9781491957660},\n",
       " 'output': 5}"
      ]
     },
     "execution_count": 20,
     "metadata": {},
     "output_type": "execute_result"
    }
   ],
   "source": [
    "test"
   ]
  },
  {
   "cell_type": "code",
   "execution_count": 21,
   "id": "825d8345-01ae-4e6e-b18e-0418ce83bb6b",
   "metadata": {},
   "outputs": [
    {
     "data": {
      "text/plain": [
       "True"
      ]
     },
     "execution_count": 21,
     "metadata": {},
     "output_type": "execute_result"
    }
   ],
   "source": [
    "result = find_books(**test['input'])\n",
    "result == output"
   ]
  },
  {
   "cell_type": "markdown",
   "id": "e61b369d-5cc3-48dc-ab09-b337c16b6966",
   "metadata": {},
   "source": [
    "#### Creating a custom function to track the start and end time"
   ]
  },
  {
   "cell_type": "code",
   "execution_count": 22,
   "id": "a1328f4d-89ca-49f5-8fca-59e6a1879879",
   "metadata": {},
   "outputs": [],
   "source": [
    "import time"
   ]
  },
  {
   "cell_type": "code",
   "execution_count": 23,
   "id": "dbedeb5d-5373-45ee-bfa5-597848f00ba4",
   "metadata": {},
   "outputs": [],
   "source": [
    "def evaluate_test_case(find_books, test):\n",
    "    \"\"\"This is a custom function to compute the time taken to execute the test\"\"\"\n",
    "    start_time = time.time()\n",
    "    output = find_books(**test['input'])\n",
    "    end_time = time.time()\n",
    "    execution_time = end_time - start_time\n",
    "    print(\"Test Output is \", output)\n",
    "    if test['output'] == output:\n",
    "        print(\"\\033[32mTEST PASSED\\033[0m\")\n",
    "    else:\n",
    "        print(\"\\033[31mTEST FAILED\\033[0m\")\n",
    "    print(\"Function Execution Time: \", execution_time, \" seconds\")"
   ]
  },
  {
   "cell_type": "code",
   "execution_count": 24,
   "id": "0333d1cf-b5f4-4105-8d1f-85d4aee4aabf",
   "metadata": {},
   "outputs": [
    {
     "name": "stdout",
     "output_type": "stream",
     "text": [
      "Test Output is  5\n",
      "\u001b[32mTEST PASSED\u001b[0m\n",
      "Function Execution Time:  4.76837158203125e-06  seconds\n"
     ]
    }
   ],
   "source": [
    "evaluate_test_case(find_books, test)"
   ]
  },
  {
   "cell_type": "markdown",
   "id": "ee82ae45-efa9-43f5-94e4-e1860a72e49f",
   "metadata": {},
   "source": [
    "##### **Creating Function for multiple test cases**"
   ]
  },
  {
   "cell_type": "code",
   "execution_count": 25,
   "id": "33a81848-2c8e-4f3e-b981-907a0076a802",
   "metadata": {},
   "outputs": [],
   "source": [
    "def evaluate_test_cases(find_books, tests):\n",
    "    \"\"\"This is a custom function to compute the time taken to execute the test cases\"\"\"\n",
    "    for test in tests:\n",
    "        start_time = time.time()\n",
    "        output = find_books(**test['input'])\n",
    "        end_time = time.time()\n",
    "        execution_time = end_time - start_time\n",
    "        print(\"Test Output is \", output)\n",
    "        if test['output'] == output:\n",
    "            print(\"\\033[32mTEST PASSED\\033[0m\")\n",
    "        else:\n",
    "            print(\"\\033[31mTEST FAILED\\033[0m\")\n",
    "        print(\"Function Execution Time: \", execution_time, \" seconds\")\n",
    "        print(50 * \"===\")"
   ]
  },
  {
   "cell_type": "code",
   "execution_count": 26,
   "id": "abd3e815-0950-4fe1-833e-f1929c90d4a3",
   "metadata": {},
   "outputs": [
    {
     "name": "stdout",
     "output_type": "stream",
     "text": [
      "Test Output is  5\n",
      "\u001b[32mTEST PASSED\u001b[0m\n",
      "Function Execution Time:  2.6226043701171875e-06  seconds\n",
      "======================================================================================================================================================\n",
      "Test Output is  0\n",
      "\u001b[32mTEST PASSED\u001b[0m\n",
      "Function Execution Time:  1.430511474609375e-06  seconds\n",
      "======================================================================================================================================================\n",
      "Test Output is  9\n",
      "\u001b[32mTEST PASSED\u001b[0m\n",
      "Function Execution Time:  1.9073486328125e-06  seconds\n",
      "======================================================================================================================================================\n",
      "Test Output is  0\n",
      "\u001b[32mTEST PASSED\u001b[0m\n",
      "Function Execution Time:  9.5367431640625e-07  seconds\n",
      "======================================================================================================================================================\n",
      "Test Output is  -1\n",
      "\u001b[32mTEST PASSED\u001b[0m\n",
      "Function Execution Time:  1.6689300537109375e-06  seconds\n",
      "======================================================================================================================================================\n",
      "Test Output is  -1\n",
      "\u001b[32mTEST PASSED\u001b[0m\n",
      "Function Execution Time:  7.152557373046875e-07  seconds\n",
      "======================================================================================================================================================\n",
      "Test Output is  7\n",
      "\u001b[32mTEST PASSED\u001b[0m\n",
      "Function Execution Time:  1.9073486328125e-06  seconds\n",
      "======================================================================================================================================================\n",
      "Test Output is  7\n",
      "\u001b[32mTEST PASSED\u001b[0m\n",
      "Function Execution Time:  1.6689300537109375e-06  seconds\n",
      "======================================================================================================================================================\n"
     ]
    }
   ],
   "source": [
    "evaluate_test_cases(find_books, tests)"
   ]
  },
  {
   "cell_type": "markdown",
   "id": "be20e331-c86a-4dcc-aba9-82b3bd9ae7a8",
   "metadata": {},
   "source": [
    "#### **4. Analysing the algorithm's complexity and inefficiencies**\n",
    "\n",
    "> Complexity of an algorithm is measure of amount of time and space required by an algorithm for an input of a given size, N. Complexity refers to worst case complexity.\n",
    "\n",
    "1. Time complexity of algorithm is cN  for some fixed amount of c. This is running time of algorithm\n",
    "2. Space complexity of algorithm is c'\n",
    "\n",
    "For Linear Search, time complexity is O(N) and Space complexity is O(1)"
   ]
  },
  {
   "cell_type": "markdown",
   "id": "39b68d24-4c20-4e42-985b-aaeebb34baa3",
   "metadata": {},
   "source": [
    "#### **6. Applying the right technique to overcome inefficiency**\n",
    "\n",
    "1. Since the list if already sorted, we can use better technique than linear search\n",
    "2. Find the middle element of the list\n",
    "3. If it matches query, return the middle position as the output\n",
    "4. If middle element is greater than query, then search in first half\n",
    "5. If middle element is less than query, then search in next half\n",
    "6. If no element found, return -1"
   ]
  },
  {
   "cell_type": "markdown",
   "id": "565ea81e-e923-4da0-bc8d-dffb19b172bc",
   "metadata": {},
   "source": [
    "#### **7. Implement the binary search solution and test it using example inputs**"
   ]
  },
  {
   "cell_type": "code",
   "execution_count": 27,
   "id": "7445305c-5349-45ce-8121-f37ca02f80e4",
   "metadata": {},
   "outputs": [],
   "source": [
    "def find_books_binary(books, query):\n",
    "    \"\"\"Function to find if book exists in the books list\"\"\"\n",
    "    lo, hi = 0, len(books) - 1\n",
    "    while lo <= hi:\n",
    "        mid = (lo + hi) // 2\n",
    "        mid_num = books[mid]\n",
    "        print(f\"Values: lo = {lo}, hi = {hi}, mid = {mid} and middle number = {mid_num}\")\n",
    "\n",
    "        if mid_num == query:\n",
    "            return mid\n",
    "        elif mid_num < query:\n",
    "            lo = mid + 1\n",
    "        elif mid_num > query:\n",
    "            hi = mid - 1\n",
    "    return -1\n",
    "    "
   ]
  },
  {
   "cell_type": "code",
   "execution_count": 28,
   "id": "87c79c4d-35f5-4e0b-9bbc-fc93d215a6e1",
   "metadata": {},
   "outputs": [
    {
     "name": "stdout",
     "output_type": "stream",
     "text": [
      "Values: lo = 0, hi = 9, mid = 4 and middle number = 9781449369415\n",
      "Values: lo = 5, hi = 9, mid = 7 and middle number = 9781492041139\n",
      "Values: lo = 5, hi = 6, mid = 5 and middle number = 9781491957660\n",
      "Test Output is  5\n",
      "\u001b[32mTEST PASSED\u001b[0m\n",
      "Function Execution Time:  0.0003986358642578125  seconds\n",
      "======================================================================================================================================================\n",
      "Values: lo = 0, hi = 9, mid = 4 and middle number = 9781449369415\n",
      "Values: lo = 0, hi = 3, mid = 1 and middle number = 9780596529321\n",
      "Values: lo = 0, hi = 0, mid = 0 and middle number = 9780262035613\n",
      "Test Output is  0\n",
      "\u001b[32mTEST PASSED\u001b[0m\n",
      "Function Execution Time:  9.298324584960938e-06  seconds\n",
      "======================================================================================================================================================\n",
      "Values: lo = 0, hi = 9, mid = 4 and middle number = 9781449369415\n",
      "Values: lo = 5, hi = 9, mid = 7 and middle number = 9781492041139\n",
      "Values: lo = 8, hi = 9, mid = 8 and middle number = 9781617294631\n",
      "Values: lo = 9, hi = 9, mid = 9 and middle number = 9781789955750\n",
      "Test Output is  9\n",
      "\u001b[32mTEST PASSED\u001b[0m\n",
      "Function Execution Time:  9.775161743164062e-06  seconds\n",
      "======================================================================================================================================================\n",
      "Values: lo = 0, hi = 0, mid = 0 and middle number = 9781789955750\n",
      "Test Output is  0\n",
      "\u001b[32mTEST PASSED\u001b[0m\n",
      "Function Execution Time:  3.5762786865234375e-06  seconds\n",
      "======================================================================================================================================================\n",
      "Values: lo = 0, hi = 9, mid = 4 and middle number = 9781449369415\n",
      "Values: lo = 5, hi = 9, mid = 7 and middle number = 9781492041139\n",
      "Values: lo = 8, hi = 9, mid = 8 and middle number = 9781617294631\n",
      "Values: lo = 9, hi = 9, mid = 9 and middle number = 9781789955750\n",
      "Test Output is  -1\n",
      "\u001b[32mTEST PASSED\u001b[0m\n",
      "Function Execution Time:  9.775161743164062e-06  seconds\n",
      "======================================================================================================================================================\n",
      "Test Output is  -1\n",
      "\u001b[32mTEST PASSED\u001b[0m\n",
      "Function Execution Time:  4.76837158203125e-07  seconds\n",
      "======================================================================================================================================================\n",
      "Values: lo = 0, hi = 13, mid = 6 and middle number = 9781449369415\n",
      "Values: lo = 7, hi = 13, mid = 10 and middle number = 9781492041139\n",
      "Values: lo = 7, hi = 9, mid = 8 and middle number = 9781492032649\n",
      "Values: lo = 7, hi = 7, mid = 7 and middle number = 9781491957660\n",
      "Test Output is  7\n",
      "\u001b[32mTEST PASSED\u001b[0m\n",
      "Function Execution Time:  9.5367431640625e-06  seconds\n",
      "======================================================================================================================================================\n",
      "Values: lo = 0, hi = 16, mid = 8 and middle number = 9781491957660\n",
      "Test Output is  8\n",
      "\u001b[31mTEST FAILED\u001b[0m\n",
      "Function Execution Time:  5.0067901611328125e-06  seconds\n",
      "======================================================================================================================================================\n"
     ]
    }
   ],
   "source": [
    "evaluate_test_cases(find_books_binary, tests)"
   ]
  },
  {
   "cell_type": "markdown",
   "id": "6193a780-da67-4e41-9110-685febbdd0f9",
   "metadata": {},
   "source": [
    "***\n",
    "**Above test is failed as we are expecting the output is 7 since that is the first occurance but we got second**\n",
    "***"
   ]
  },
  {
   "cell_type": "code",
   "execution_count": 29,
   "id": "38692592-3454-4416-ad01-92b48093dc7f",
   "metadata": {},
   "outputs": [],
   "source": [
    "def get_location(books, query, mid):\n",
    "    \"\"\"Function to get the location of first occurance\"\"\"\n",
    "    mid_num = books[mid]\n",
    "    print(f\"mid = {mid} and middle number = {mid_num}\")\n",
    "    if mid_num == query:\n",
    "        if mid - 1 >= 0 and books[mid - 1] == query:\n",
    "            return 'left'\n",
    "        else:\n",
    "            return 'found'\n",
    "    elif mid_num > query:\n",
    "        return 'left'\n",
    "    elif mid_num < query:\n",
    "        return 'right'\n"
   ]
  },
  {
   "cell_type": "code",
   "execution_count": 30,
   "id": "2643174a-8b31-4ba7-8ea0-1c424bcd3c20",
   "metadata": {},
   "outputs": [],
   "source": [
    "def find_books_binary(books, query):\n",
    "    \"\"\"Function to find if book exists in the books list\"\"\"\n",
    "    lo, hi = 0, len(books) - 1\n",
    "    while lo <= hi:\n",
    "        mid = (lo + hi) // 2\n",
    "        print(f\"Values: lo = {lo}, mid = {mid}, hi = {hi}\")\n",
    "        result = get_location(books, query, mid)\n",
    "        if result == 'found':\n",
    "            return mid\n",
    "        elif result == 'left':\n",
    "            hi = mid - 1\n",
    "        elif result == 'right':\n",
    "            lo = mid + 1\n",
    "    return -1"
   ]
  },
  {
   "cell_type": "code",
   "execution_count": 31,
   "id": "4f69420f-57a7-49d5-8291-55aa955fec83",
   "metadata": {},
   "outputs": [
    {
     "name": "stdout",
     "output_type": "stream",
     "text": [
      "Values: lo = 0, mid = 4, hi = 9\n",
      "mid = 4 and middle number = 9781449369415\n",
      "Values: lo = 5, mid = 7, hi = 9\n",
      "mid = 7 and middle number = 9781492041139\n",
      "Values: lo = 5, mid = 5, hi = 6\n",
      "mid = 5 and middle number = 9781491957660\n",
      "Test Output is  5\n",
      "\u001b[32mTEST PASSED\u001b[0m\n",
      "Function Execution Time:  9.918212890625e-05  seconds\n",
      "======================================================================================================================================================\n",
      "Values: lo = 0, mid = 4, hi = 9\n",
      "mid = 4 and middle number = 9781449369415\n",
      "Values: lo = 0, mid = 1, hi = 3\n",
      "mid = 1 and middle number = 9780596529321\n",
      "Values: lo = 0, mid = 0, hi = 0\n",
      "mid = 0 and middle number = 9780262035613\n",
      "Test Output is  0\n",
      "\u001b[32mTEST PASSED\u001b[0m\n",
      "Function Execution Time:  1.5735626220703125e-05  seconds\n",
      "======================================================================================================================================================\n",
      "Values: lo = 0, mid = 4, hi = 9\n",
      "mid = 4 and middle number = 9781449369415\n",
      "Values: lo = 5, mid = 7, hi = 9\n",
      "mid = 7 and middle number = 9781492041139\n",
      "Values: lo = 8, mid = 8, hi = 9\n",
      "mid = 8 and middle number = 9781617294631\n",
      "Values: lo = 9, mid = 9, hi = 9\n",
      "mid = 9 and middle number = 9781789955750\n",
      "Test Output is  9\n",
      "\u001b[32mTEST PASSED\u001b[0m\n",
      "Function Execution Time:  2.1457672119140625e-05  seconds\n",
      "======================================================================================================================================================\n",
      "Values: lo = 0, mid = 0, hi = 0\n",
      "mid = 0 and middle number = 9781789955750\n",
      "Test Output is  0\n",
      "\u001b[32mTEST PASSED\u001b[0m\n",
      "Function Execution Time:  5.4836273193359375e-06  seconds\n",
      "======================================================================================================================================================\n",
      "Values: lo = 0, mid = 4, hi = 9\n",
      "mid = 4 and middle number = 9781449369415\n",
      "Values: lo = 5, mid = 7, hi = 9\n",
      "mid = 7 and middle number = 9781492041139\n",
      "Values: lo = 8, mid = 8, hi = 9\n",
      "mid = 8 and middle number = 9781617294631\n",
      "Values: lo = 9, mid = 9, hi = 9\n",
      "mid = 9 and middle number = 9781789955750\n",
      "Test Output is  -1\n",
      "\u001b[32mTEST PASSED\u001b[0m\n",
      "Function Execution Time:  1.7404556274414062e-05  seconds\n",
      "======================================================================================================================================================\n",
      "Test Output is  -1\n",
      "\u001b[32mTEST PASSED\u001b[0m\n",
      "Function Execution Time:  4.76837158203125e-07  seconds\n",
      "======================================================================================================================================================\n",
      "Values: lo = 0, mid = 6, hi = 13\n",
      "mid = 6 and middle number = 9781449369415\n",
      "Values: lo = 7, mid = 10, hi = 13\n",
      "mid = 10 and middle number = 9781492041139\n",
      "Values: lo = 7, mid = 8, hi = 9\n",
      "mid = 8 and middle number = 9781492032649\n",
      "Values: lo = 7, mid = 7, hi = 7\n",
      "mid = 7 and middle number = 9781491957660\n",
      "Test Output is  7\n",
      "\u001b[32mTEST PASSED\u001b[0m\n",
      "Function Execution Time:  1.6689300537109375e-05  seconds\n",
      "======================================================================================================================================================\n",
      "Values: lo = 0, mid = 8, hi = 16\n",
      "mid = 8 and middle number = 9781491957660\n",
      "Values: lo = 0, mid = 3, hi = 7\n",
      "mid = 3 and middle number = 9780999247108\n",
      "Values: lo = 4, mid = 5, hi = 7\n",
      "mid = 5 and middle number = 9781449361327\n",
      "Values: lo = 6, mid = 6, hi = 7\n",
      "mid = 6 and middle number = 9781449369415\n",
      "Values: lo = 7, mid = 7, hi = 7\n",
      "mid = 7 and middle number = 9781491957660\n",
      "Test Output is  7\n",
      "\u001b[32mTEST PASSED\u001b[0m\n",
      "Function Execution Time:  3.528594970703125e-05  seconds\n",
      "======================================================================================================================================================\n"
     ]
    }
   ],
   "source": [
    "evaluate_test_cases(find_books_binary, tests)"
   ]
  },
  {
   "cell_type": "markdown",
   "id": "6670efbe-ecd8-4f2e-8882-5b5a5be27303",
   "metadata": {},
   "source": [
    "#### **8. Analysing the algorithm's complexity and inefficiencies**"
   ]
  },
  {
   "cell_type": "markdown",
   "id": "139f6ed1-2957-4bf3-b83c-93089515a4bf",
   "metadata": {},
   "source": [
    "When we analyse the time complexity of the Binary search,\n",
    "Initial length of array: N\n",
    "Iteration 1: N / 2\n",
    "Iteration 2: N / 4\n",
    "Iteration 3: N / 8\n",
    "Iteration k: N / 2^k\n",
    "\n",
    "Overall, it take O(log N)"
   ]
  },
  {
   "cell_type": "markdown",
   "id": "5af784a8-fcbb-4298-bafc-ecd0610d2f64",
   "metadata": {},
   "source": [
    "#### **9. Comparing Linear and Binary Searches**"
   ]
  },
  {
   "cell_type": "code",
   "execution_count": 32,
   "id": "ebf09707-03d1-4016-916d-af399ce7faa9",
   "metadata": {},
   "outputs": [],
   "source": [
    "stress_test = {\n",
    "    'input': {\n",
    "        'books': list(range(0, 10000000)),\n",
    "        'query': 9999998\n",
    "    },\n",
    "    'output': 9999998\n",
    "}"
   ]
  },
  {
   "cell_type": "code",
   "execution_count": 33,
   "id": "ce230433-a421-4dac-8890-de004776c71c",
   "metadata": {},
   "outputs": [],
   "source": [
    "def find_books_linear(books, query):\n",
    "    \"\"\"Function to find if book exists in the books list using linear search\"\"\"\n",
    "    #Create a variable loc for tracking the location\n",
    "    loc = 0\n",
    "    # Iterate over entire list\n",
    "    while True:\n",
    "        # If length of the books is zero, return -1\n",
    "        if len(books) == 0:\n",
    "            return -1\n",
    "\n",
    "        if books[loc] == query:\n",
    "            return loc\n",
    "\n",
    "        loc += 1\n",
    "\n",
    "        if loc == len(books):\n",
    "            return -1"
   ]
  },
  {
   "cell_type": "code",
   "execution_count": 34,
   "id": "5037e338-eb7e-47b3-8972-585de69f02ce",
   "metadata": {},
   "outputs": [],
   "source": [
    "def get_location(books, query, mid):\n",
    "    \"\"\"Function to get the location of first occurance\"\"\"\n",
    "    mid_num = books[mid]\n",
    "    #print(f\"mid = {mid} and middle number = {mid_num}\")\n",
    "    if mid_num == query:\n",
    "        if mid - 1 >= 0 and books[mid - 1] == query:\n",
    "            return 'left'\n",
    "        else:\n",
    "            return 'found'\n",
    "    elif mid_num > query:\n",
    "        return 'left'\n",
    "    elif mid_num < query:\n",
    "        return 'right'"
   ]
  },
  {
   "cell_type": "code",
   "execution_count": 35,
   "id": "f51dfdfd-a0e6-4ab3-b809-0027ffb313b7",
   "metadata": {},
   "outputs": [],
   "source": [
    "def find_books_binary(books, query):\n",
    "    \"\"\"Function to find if book exists in the books list\"\"\"\n",
    "    lo, hi = 0, len(books) - 1\n",
    "    while lo <= hi:\n",
    "        mid = (lo + hi) // 2\n",
    "        #print(f\"Values: lo = {lo}, mid = {mid}, hi = {hi}\")\n",
    "        result = get_location(books, query, mid)\n",
    "        if result == 'found':\n",
    "            return mid\n",
    "        elif result == 'left':\n",
    "            hi = mid - 1\n",
    "        elif result == 'right':\n",
    "            lo = mid + 1\n",
    "    return -1"
   ]
  },
  {
   "cell_type": "code",
   "execution_count": 36,
   "id": "f6beb967-1a30-4922-a291-48fe421a8354",
   "metadata": {},
   "outputs": [
    {
     "name": "stdout",
     "output_type": "stream",
     "text": [
      "Test Output is  9999998\n",
      "\u001b[32mTEST PASSED\u001b[0m\n",
      "Function Execution Time:  0.8572938442230225  seconds\n"
     ]
    }
   ],
   "source": [
    "evaluate_test_case(find_books_linear, stress_test)"
   ]
  },
  {
   "cell_type": "code",
   "execution_count": 37,
   "id": "0a09d1b9-6862-45c3-b44c-b11dda1f4ff1",
   "metadata": {},
   "outputs": [
    {
     "name": "stdout",
     "output_type": "stream",
     "text": [
      "Test Output is  9999998\n",
      "\u001b[32mTEST PASSED\u001b[0m\n",
      "Function Execution Time:  2.193450927734375e-05  seconds\n"
     ]
    }
   ],
   "source": [
    "evaluate_test_case(find_books_binary, stress_test)"
   ]
  },
  {
   "cell_type": "code",
   "execution_count": 38,
   "id": "283dcc28-da88-4817-872a-1f156d9bf1cb",
   "metadata": {},
   "outputs": [
    {
     "data": {
      "text/plain": [
       "52864.28767123288"
      ]
     },
     "execution_count": 38,
     "metadata": {},
     "output_type": "execute_result"
    }
   ],
   "source": [
    "0.9200794696807861 / 1.7404556274414062e-05"
   ]
  },
  {
   "cell_type": "markdown",
   "id": "1b1546bb-231f-4aa5-b5dd-84d4e7ca7a84",
   "metadata": {},
   "source": [
    "**Binary Search is Approx 52,000 faster than Linear Search**"
   ]
  },
  {
   "cell_type": "markdown",
   "id": "ef488fd4-33f5-403e-9408-cdc18946b860",
   "metadata": {},
   "source": [
    "### **Generic Binary Search**\n",
    "\n",
    "Here is generic binary search strategy:\n",
    "\n",
    "1. Comeup with condition to determine whether the answer lies before or after the given position\n",
    "2. Retrieve midpoint of the list\n",
    "3. If middle element is the query, then return the midpoint as answer\n",
    "4. If answer lies before middle element, repeat the search with first half of the list\n",
    "5. If answer lies after middle element, repeat the search with last half of the list"
   ]
  },
  {
   "cell_type": "markdown",
   "id": "02706167-0a8f-40ce-9bfc-c14c09f99fe9",
   "metadata": {},
   "source": [
    "#### Binary Search"
   ]
  },
  {
   "cell_type": "code",
   "execution_count": 40,
   "id": "003e3b01-2e95-4d0e-a82b-90bf80ccc437",
   "metadata": {},
   "outputs": [],
   "source": [
    "def binary_search(lo, hi, condition):\n",
    "    \"\"\"Function to perform Binary search\"\"\"\n",
    "    while lo <= hi:\n",
    "        mid = (lo + hi) // 2\n",
    "        result = condition(mid)\n",
    "        if result == 'found':\n",
    "            return mid\n",
    "        elif result == 'left':\n",
    "            hi = mid -1\n",
    "        elif result == 'right':\n",
    "            lo = mid + 1\n",
    "    return -1"
   ]
  },
  {
   "cell_type": "markdown",
   "id": "57fcf839-c045-4836-98db-f2856e9a3016",
   "metadata": {},
   "source": [
    "Since binary search is separated now, lets rewrite the find_books function"
   ]
  },
  {
   "cell_type": "code",
   "execution_count": 41,
   "id": "27dd67f9-5c56-4a94-b7ea-c5e8d5fa0b3b",
   "metadata": {},
   "outputs": [],
   "source": [
    "def find_books(books, query):\n",
    "    def condition(mid):\n",
    "        if books[mid] == query:\n",
    "            if mid - 1 >= 0 and books[mid -1] == query:\n",
    "                return 'left'\n",
    "            else:\n",
    "                return 'found'\n",
    "        elif books[mid] < query:\n",
    "            return 'right'\n",
    "        elif books[mid] > query:\n",
    "            return 'left'\n",
    "    return binary_search(0, len(books) -1, condition)"
   ]
  },
  {
   "cell_type": "code",
   "execution_count": 42,
   "id": "2b18761b-600c-4417-80bf-9635a066b510",
   "metadata": {},
   "outputs": [
    {
     "name": "stdout",
     "output_type": "stream",
     "text": [
      "Test Output is  5\n",
      "\u001b[32mTEST PASSED\u001b[0m\n",
      "Function Execution Time:  5.0067901611328125e-06  seconds\n",
      "======================================================================================================================================================\n",
      "Test Output is  0\n",
      "\u001b[32mTEST PASSED\u001b[0m\n",
      "Function Execution Time:  3.814697265625e-06  seconds\n",
      "======================================================================================================================================================\n",
      "Test Output is  9\n",
      "\u001b[32mTEST PASSED\u001b[0m\n",
      "Function Execution Time:  3.5762786865234375e-06  seconds\n",
      "======================================================================================================================================================\n",
      "Test Output is  0\n",
      "\u001b[32mTEST PASSED\u001b[0m\n",
      "Function Execution Time:  1.1920928955078125e-06  seconds\n",
      "======================================================================================================================================================\n",
      "Test Output is  -1\n",
      "\u001b[32mTEST PASSED\u001b[0m\n",
      "Function Execution Time:  2.1457672119140625e-06  seconds\n",
      "======================================================================================================================================================\n",
      "Test Output is  -1\n",
      "\u001b[32mTEST PASSED\u001b[0m\n",
      "Function Execution Time:  9.5367431640625e-07  seconds\n",
      "======================================================================================================================================================\n",
      "Test Output is  7\n",
      "\u001b[32mTEST PASSED\u001b[0m\n",
      "Function Execution Time:  2.1457672119140625e-06  seconds\n",
      "======================================================================================================================================================\n",
      "Test Output is  7\n",
      "\u001b[32mTEST PASSED\u001b[0m\n",
      "Function Execution Time:  4.0531158447265625e-06  seconds\n",
      "======================================================================================================================================================\n"
     ]
    }
   ],
   "source": [
    "evaluate_test_cases(find_books, tests)"
   ]
  },
  {
   "cell_type": "markdown",
   "id": "f4e12947-4ea8-4464-81ee-3dc7cd2b5cdf",
   "metadata": {},
   "source": [
    "### **Find First and Last Position of Element in Sorted Array**\n",
    "\n",
    "https://leetcode.com/problems/find-first-and-last-position-of-element-in-sorted-array/description/\n",
    "\n",
    "Given an array of integers nums sorted in non-decreasing order, find the starting and ending position of a given target value.\n",
    "\n",
    "If target is not found in the array, return [-1, -1].\n",
    "\n",
    "You must write an algorithm with O(log n) runtime complexity.\n",
    "\n",
    "1. List is increasing order\n",
    "2. find start and end index of the query"
   ]
  },
  {
   "cell_type": "code",
   "execution_count": 59,
   "id": "fea0ba73-b69e-4e36-a313-2d694d3392dc",
   "metadata": {},
   "outputs": [],
   "source": [
    "# BINARY SEARCH\n",
    "\n",
    "def binary_search(lo, hi, condition):\n",
    "    \"\"\"Function to perform Binary search\"\"\"\n",
    "    while lo <= hi:\n",
    "        mid = (lo + hi) // 2\n",
    "        result = condition(mid)\n",
    "        if result == 'found':\n",
    "            return mid\n",
    "        elif result == 'left':\n",
    "            hi = mid -1\n",
    "        elif result == 'right':\n",
    "            lo = mid + 1\n",
    "    return -1"
   ]
  },
  {
   "cell_type": "code",
   "execution_count": 60,
   "id": "9fb617b7-848b-40f7-804b-31ea1d52c2ec",
   "metadata": {},
   "outputs": [],
   "source": [
    "def first_position(nums, target):\n",
    "    def condition(mid):\n",
    "        if nums[mid] == target:\n",
    "            if mid > 0 and nums[mid -1] == target:\n",
    "                return 'left'\n",
    "            return 'found'\n",
    "        elif nums[mid] < target:\n",
    "            return 'right'\n",
    "        elif nums[mid] > target:\n",
    "            return 'left'\n",
    "    return binary_search(0, len(nums) - 1, condition)"
   ]
  },
  {
   "cell_type": "code",
   "execution_count": 61,
   "id": "cb1b57da-a22a-4303-95c2-3a0398768418",
   "metadata": {},
   "outputs": [],
   "source": [
    "def last_position(nums, target):\n",
    "    def condition(mid):\n",
    "        if nums[mid] == target:\n",
    "            if mid < len(nums) -1 and nums[mid + 1] == target:\n",
    "                return 'right'\n",
    "            return 'found'\n",
    "        elif nums[mid] < target:\n",
    "            return 'right'\n",
    "        elif nums[mid] > target:\n",
    "            return 'left'\n",
    "    return binary_search(0, len(nums) - 1, condition)"
   ]
  },
  {
   "cell_type": "code",
   "execution_count": 62,
   "id": "28cbc9dc-602a-4625-8468-d0b3b468dee3",
   "metadata": {},
   "outputs": [],
   "source": [
    "def first_last_position(nums, target):\n",
    "    return first_position(nums, target), last_position(nums, target)"
   ]
  },
  {
   "cell_type": "code",
   "execution_count": 63,
   "id": "9b7b795c-3ad6-4fbc-aaca-9fba0c4eeeed",
   "metadata": {},
   "outputs": [
    {
     "data": {
      "text/plain": [
       "(3, 4)"
      ]
     },
     "execution_count": 63,
     "metadata": {},
     "output_type": "execute_result"
    }
   ],
   "source": [
    "first_last_position([5,7,7,8,8,10], 8)"
   ]
  },
  {
   "cell_type": "code",
   "execution_count": null,
   "id": "d794d9b9-ca74-49e6-b687-819c87e9f601",
   "metadata": {},
   "outputs": [],
   "source": []
  }
 ],
 "metadata": {
  "kernelspec": {
   "display_name": "Python 3 (ipykernel)",
   "language": "python",
   "name": "python3"
  },
  "language_info": {
   "codemirror_mode": {
    "name": "ipython",
    "version": 3
   },
   "file_extension": ".py",
   "mimetype": "text/x-python",
   "name": "python",
   "nbconvert_exporter": "python",
   "pygments_lexer": "ipython3",
   "version": "3.11.0rc1"
  }
 },
 "nbformat": 4,
 "nbformat_minor": 5
}
