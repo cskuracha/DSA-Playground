{
 "cells": [
  {
   "cell_type": "markdown",
   "id": "58f63729-dc7e-4fc9-9cb2-b09382ff9519",
   "metadata": {},
   "source": [
    "## Linear & Binary Search"
   ]
  },
  {
   "cell_type": "markdown",
   "id": "d0669578-bc36-4b5d-8b98-146680aa8a3b",
   "metadata": {},
   "source": [
    "### Problem Statement:\n",
    ">Search for a book with ISBN number in the list"
   ]
  },
  {
   "cell_type": "markdown",
   "id": "303b71cf-6fee-4396-b847-baa5b194760d",
   "metadata": {},
   "source": [
    "#### Importing libraries"
   ]
  },
  {
   "cell_type": "code",
   "execution_count": 1,
   "id": "c0d785bc-5ba2-40c6-9081-c43e925e0662",
   "metadata": {},
   "outputs": [],
   "source": [
    "import pandas as pd\n",
    "import numpy as np"
   ]
  },
  {
   "cell_type": "markdown",
   "id": "9f26d926-cb36-4234-888e-8ed488512473",
   "metadata": {},
   "source": [
    "#### Loading data from csv file"
   ]
  },
  {
   "cell_type": "code",
   "execution_count": 4,
   "id": "97eb2ff2-598a-4c76-b099-e590c714c7fe",
   "metadata": {},
   "outputs": [],
   "source": [
    "data = pd.read_csv(\"./ISBN_Example.csv\", sep=\"|\")"
   ]
  },
  {
   "cell_type": "code",
   "execution_count": 10,
   "id": "4c08329c-dc21-41ff-82bc-73d6b386e743",
   "metadata": {},
   "outputs": [
    {
     "data": {
      "text/plain": [
       "[9780262035613,\n",
       " 9780596529321,\n",
       " 9780999247108,\n",
       " 9781449361327,\n",
       " 9781449369415,\n",
       " 9781491957660,\n",
       " 9781492032649,\n",
       " 9781492041139,\n",
       " 9781617294631,\n",
       " 9781789955750]"
      ]
     },
     "execution_count": 10,
     "metadata": {},
     "output_type": "execute_result"
    }
   ],
   "source": [
    "data_isbn = data[\"isbn\"].tolist()\n",
    "data_isbn.sort()\n",
    "data_isbn"
   ]
  },
  {
   "cell_type": "markdown",
   "id": "cdc0ace7-f287-499e-a7ca-a4820d36e3b7",
   "metadata": {},
   "source": [
    "#### **Method**"
   ]
  },
  {
   "cell_type": "markdown",
   "id": "26ce3193-9567-433e-abc7-35d2b199db0b",
   "metadata": {},
   "source": [
    "\n",
    "    1. State the problem clearly. Identify the input & output formats.\n",
    "    2. Come up with some example inputs & outputs. Try to cover all edge cases.\n",
    "    3. Come up with a correct solution for the problem. State it in plain English.\n",
    "    4. Implement the solution and test it using example inputs. Fix bugs, if any.\n",
    "    5. Analyze the algorithm's complexity and identify inefficiencies, if any.\n",
    "    6. Apply the right technique to overcome the inefficiency. Repeat steps 3 to 6.\n",
    "\n",
    "    reference: https://jovian.com\n"
   ]
  },
  {
   "cell_type": "markdown",
   "id": "7a9e0232-9957-4d06-9202-4847cdda5489",
   "metadata": {},
   "source": [
    "#### **1. State the problem clearly with Inputs and Output**\n",
    "\n",
    "> Write the problem to fine the position of book with given ISBN numbers arranged in ascending order. One constraint is to find the book by accessing minimum nuber of elements in the list\n",
    "\n",
    "##### **Inputs**:\n",
    "***\n",
    "    Input list: Contains the list with ISBN numbers\n",
    "    \n",
    "    Query: Book to query in the list\n",
    "    \n",
    "\n",
    "##### **Output**:\n",
    "***\n",
    "     Position of the book"
   ]
  },
  {
   "cell_type": "code",
   "execution_count": 15,
   "id": "025a3160-0055-47f2-9c05-7692a60c12e3",
   "metadata": {},
   "outputs": [],
   "source": [
    "def find_book(books,query):\n",
    "    \"\"\"Function to find a book in the list\"\"\"\n",
    "    pass"
   ]
  },
  {
   "cell_type": "markdown",
   "id": "dccc7c4f-c712-4ff3-a05e-bf9a2e1d64ae",
   "metadata": {},
   "source": [
    "#### **2. Some Example inputs and outputs**"
   ]
  },
  {
   "cell_type": "code",
   "execution_count": 16,
   "id": "1127bbe8-21d1-4722-a147-272a9c2f8a9a",
   "metadata": {},
   "outputs": [
    {
     "name": "stdout",
     "output_type": "stream",
     "text": [
      "Input List:  [9780262035613, 9780596529321, 9780999247108, 9781449361327, 9781449369415, 9781491957660, 9781492032649, 9781492041139, 9781617294631, 9781789955750]\n",
      "Query:  9781491957660\n",
      "Output:  5\n"
     ]
    }
   ],
   "source": [
    "query = 9781491957660\n",
    "output = 5\n",
    "print(\"Input List: \",data_isbn)\n",
    "print(\"Query: \", query)\n",
    "print(\"Output: \", output)"
   ]
  },
  {
   "cell_type": "code",
   "execution_count": 17,
   "id": "f2188d76-912f-4162-ab50-698f41922763",
   "metadata": {},
   "outputs": [
    {
     "data": {
      "text/plain": [
       "False"
      ]
     },
     "execution_count": 17,
     "metadata": {},
     "output_type": "execute_result"
    }
   ],
   "source": [
    "result = find_book(data_isbn, query)\n",
    "result == output"
   ]
  },
  {
   "cell_type": "markdown",
   "id": "8a0c0f8d-679c-42ef-b14a-57364ad333b1",
   "metadata": {},
   "source": [
    "#### Creating the dictionary of inputs and outputs"
   ]
  },
  {
   "cell_type": "code",
   "execution_count": 22,
   "id": "9027f392-815c-4617-b8a8-5fae52d09ba0",
   "metadata": {},
   "outputs": [],
   "source": [
    "test = {\n",
    "    'input': {\n",
    "        'books': data_isbn,\n",
    "        'query':9781491957660\n",
    "    },\n",
    "    'output': 6\n",
    "}"
   ]
  },
  {
   "cell_type": "code",
   "execution_count": 23,
   "id": "100fa152-4c70-48c7-be61-9231573fe028",
   "metadata": {},
   "outputs": [
    {
     "data": {
      "text/plain": [
       "False"
      ]
     },
     "execution_count": 23,
     "metadata": {},
     "output_type": "execute_result"
    }
   ],
   "source": [
    "result = find_book(**test['input'])\n",
    "result == test['output']"
   ]
  },
  {
   "cell_type": "markdown",
   "id": "4ada9a4e-6bc8-469d-9863-3056303aab64",
   "metadata": {},
   "source": [
    "#### **Other Inputs**\n",
    "\n",
    "1. Expected book is in middle of the list\n",
    "2. Expected book is in first of the list\n",
    "3. Expected book is in last of the list\n",
    "4. Book list has only one element which is expected book\n",
    "5. Book list does not contain the expected book\n",
    "6. Book list is empty\n",
    "7. Book list contains duplicate entries\n",
    "8. Expected book occurs multiple times in the list array"
   ]
  },
  {
   "cell_type": "code",
   "execution_count": 30,
   "id": "73662ea9-b443-46d7-9374-e2d6f55fb76c",
   "metadata": {},
   "outputs": [],
   "source": [
    "tests = []"
   ]
  },
  {
   "cell_type": "code",
   "execution_count": 31,
   "id": "7601d187-1322-4f71-9ee1-9d97d5697fd3",
   "metadata": {},
   "outputs": [],
   "source": [
    "# Expected book is in middle of the list\n",
    "tests.append({\n",
    "    'input': {\n",
    "        'books': data_isbn,\n",
    "        'query':9781491957660\n",
    "    },\n",
    "    'output': 6\n",
    "})"
   ]
  },
  {
   "cell_type": "code",
   "execution_count": 32,
   "id": "dc91ef84-d58e-45ef-9011-a750a16c382e",
   "metadata": {},
   "outputs": [],
   "source": [
    "# Expected book is in the first of the list\n",
    "tests.append({\n",
    "    'input': {\n",
    "        'books': data_isbn,\n",
    "        'query':9780262035613\n",
    "    },\n",
    "    'output': 0\n",
    "})"
   ]
  },
  {
   "cell_type": "code",
   "execution_count": 33,
   "id": "bbc00d1d-610c-4c51-b966-9002301aed41",
   "metadata": {},
   "outputs": [],
   "source": [
    "# Expected book is in the last of the list\n",
    "tests.append({\n",
    "    'input': {\n",
    "        'books': data_isbn,\n",
    "        'query':9781789955750\n",
    "    },\n",
    "    'output': 9\n",
    "})"
   ]
  },
  {
   "cell_type": "code",
   "execution_count": 34,
   "id": "97437687-aa22-4fac-8527-0e0c8ee8e985",
   "metadata": {},
   "outputs": [],
   "source": [
    "# Book list has only one element which is expected book\n",
    "tests.append({\n",
    "    'input': {\n",
    "        'books': [9781789955750],\n",
    "        'query':9781789955750\n",
    "    },\n",
    "    'output': 0\n",
    "})"
   ]
  },
  {
   "cell_type": "code",
   "execution_count": 35,
   "id": "6e40e231-fe67-4841-8ca3-ae29a9a8701b",
   "metadata": {},
   "outputs": [],
   "source": [
    "# Book list does not contain the expected book\n",
    "tests.append({\n",
    "    'input': {\n",
    "        'books': data_isbn,\n",
    "        'query':9781789955751\n",
    "    },\n",
    "    'output': -1\n",
    "})"
   ]
  },
  {
   "cell_type": "code",
   "execution_count": 36,
   "id": "1d305699-c9f9-4b52-a22b-84f09f542a42",
   "metadata": {},
   "outputs": [],
   "source": [
    "# Book list is empty\n",
    "tests.append({\n",
    "    'input': {\n",
    "        'books': [],\n",
    "        'query':9781789955751\n",
    "    },\n",
    "    'output': -1\n",
    "})"
   ]
  },
  {
   "cell_type": "code",
   "execution_count": 37,
   "id": "ed41b356-2e5e-430c-86bf-fb1ad04b5b59",
   "metadata": {},
   "outputs": [],
   "source": [
    "#Book list contains duplicate entries\n",
    "tests.append({\n",
    "    'input': {\n",
    "        'books': [9780262035613, 9780596529321, 9780596529321,9780999247108, 9780999247108,9781449361327, 9781449369415, 9781491957660, 9781492032649, 9781492032649,9781492041139, 9781617294631,9781617294631, 9781789955750],\n",
    "        'query':9781491957660\n",
    "    },\n",
    "    'output': 7\n",
    "})"
   ]
  },
  {
   "cell_type": "code",
   "execution_count": 38,
   "id": "9c516e9e-6b18-4c5f-accc-91befa61e5f9",
   "metadata": {},
   "outputs": [],
   "source": [
    "tests.append({\n",
    "    'input': {\n",
    "        'books': [9780262035613, 9780596529321, 9780596529321,9780999247108, 9780999247108,9781449361327, 9781449369415,9781491957660,9781491957660,9781491957660, 9781491957660, 9781492032649, 9781492032649,9781492041139, 9781617294631,9781617294631, 9781789955750],\n",
    "        'query':9781491957660\n",
    "    },\n",
    "    'output': 7\n",
    "})"
   ]
  },
  {
   "cell_type": "code",
   "execution_count": 39,
   "id": "334ccc8e-7fcc-4d76-9908-d5da08a691f4",
   "metadata": {},
   "outputs": [
    {
     "data": {
      "text/plain": [
       "[{'input': {'books': [9780262035613,\n",
       "    9780596529321,\n",
       "    9780999247108,\n",
       "    9781449361327,\n",
       "    9781449369415,\n",
       "    9781491957660,\n",
       "    9781492032649,\n",
       "    9781492041139,\n",
       "    9781617294631,\n",
       "    9781789955750],\n",
       "   'query': 9781491957660},\n",
       "  'output': 6},\n",
       " {'input': {'books': [9780262035613,\n",
       "    9780596529321,\n",
       "    9780999247108,\n",
       "    9781449361327,\n",
       "    9781449369415,\n",
       "    9781491957660,\n",
       "    9781492032649,\n",
       "    9781492041139,\n",
       "    9781617294631,\n",
       "    9781789955750],\n",
       "   'query': 9780262035613},\n",
       "  'output': 0},\n",
       " {'input': {'books': [9780262035613,\n",
       "    9780596529321,\n",
       "    9780999247108,\n",
       "    9781449361327,\n",
       "    9781449369415,\n",
       "    9781491957660,\n",
       "    9781492032649,\n",
       "    9781492041139,\n",
       "    9781617294631,\n",
       "    9781789955750],\n",
       "   'query': 9781789955750},\n",
       "  'output': 9},\n",
       " {'input': {'books': [9781789955750], 'query': 9781789955750}, 'output': 0},\n",
       " {'input': {'books': [9780262035613,\n",
       "    9780596529321,\n",
       "    9780999247108,\n",
       "    9781449361327,\n",
       "    9781449369415,\n",
       "    9781491957660,\n",
       "    9781492032649,\n",
       "    9781492041139,\n",
       "    9781617294631,\n",
       "    9781789955750],\n",
       "   'query': 9781789955751},\n",
       "  'output': -1},\n",
       " {'input': {'books': [], 'query': 9781789955751}, 'output': -1},\n",
       " {'input': {'books': [9780262035613,\n",
       "    9780596529321,\n",
       "    9780596529321,\n",
       "    9780999247108,\n",
       "    9780999247108,\n",
       "    9781449361327,\n",
       "    9781449369415,\n",
       "    9781491957660,\n",
       "    9781492032649,\n",
       "    9781492032649,\n",
       "    9781492041139,\n",
       "    9781617294631,\n",
       "    9781617294631,\n",
       "    9781789955750],\n",
       "   'query': 9781491957660},\n",
       "  'output': 7},\n",
       " {'input': {'books': [9780262035613,\n",
       "    9780596529321,\n",
       "    9780596529321,\n",
       "    9780999247108,\n",
       "    9780999247108,\n",
       "    9781449361327,\n",
       "    9781449369415,\n",
       "    9781491957660,\n",
       "    9781491957660,\n",
       "    9781491957660,\n",
       "    9781491957660,\n",
       "    9781492032649,\n",
       "    9781492032649,\n",
       "    9781492041139,\n",
       "    9781617294631,\n",
       "    9781617294631,\n",
       "    9781789955750],\n",
       "   'query': 9781491957660},\n",
       "  'output': 7}]"
      ]
     },
     "execution_count": 39,
     "metadata": {},
     "output_type": "execute_result"
    }
   ],
   "source": [
    "tests"
   ]
  },
  {
   "cell_type": "markdown",
   "id": "e864541c-ae8d-4929-bf22-ae3ca79f6c5d",
   "metadata": {},
   "source": [
    "#### **3. Come up with a correct solution for the problem. State it in plain English**\n",
    "\n",
    ">Linear Search Algorithm: Search every element sequentially. This is simple and most obvious solution to the problem. This may be a brute force algorithm\n",
    "\n",
    "1. Create a variable to store the location\n",
    "2. Check whether the number at the location is equal to the expected book\n",
    "3. If they are equal, then answer is location in the list\n",
    "4. If it is not equal, increment the location by 1, until location we reach the end of the list\n",
    "5. If expected book is not in the list, return -1"
   ]
  },
  {
   "cell_type": "markdown",
   "id": "24276038-2e27-4c97-acc8-9fe38d5f9078",
   "metadata": {},
   "source": [
    "#### **4. Implement the solution and test it using example inputs. Fix bugs, if any.**"
   ]
  },
  {
   "cell_type": "code",
   "execution_count": null,
   "id": "4cfc3cd1-5cef-49e5-9d92-6ede914099f3",
   "metadata": {},
   "outputs": [],
   "source": []
  }
 ],
 "metadata": {
  "kernelspec": {
   "display_name": "Python 3 (ipykernel)",
   "language": "python",
   "name": "python3"
  },
  "language_info": {
   "codemirror_mode": {
    "name": "ipython",
    "version": 3
   },
   "file_extension": ".py",
   "mimetype": "text/x-python",
   "name": "python",
   "nbconvert_exporter": "python",
   "pygments_lexer": "ipython3",
   "version": "3.11.0rc1"
  }
 },
 "nbformat": 4,
 "nbformat_minor": 5
}
