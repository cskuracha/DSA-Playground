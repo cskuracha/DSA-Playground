{
 "cells": [
  {
   "cell_type": "markdown",
   "id": "2a6fb570-e85e-4c18-8ef0-2fb916101bbb",
   "metadata": {},
   "source": [
    "## Python Class"
   ]
  },
  {
   "cell_type": "markdown",
   "id": "f1b986b5-45c3-4e0d-852e-70c279c42a71",
   "metadata": {},
   "source": [
    "#### Defining an empty Class"
   ]
  },
  {
   "cell_type": "code",
   "execution_count": 1,
   "id": "5c7d9eca-1e2c-4adf-bd59-9771681d70e0",
   "metadata": {},
   "outputs": [],
   "source": [
    "class User:\n",
    "    pass"
   ]
  },
  {
   "cell_type": "markdown",
   "id": "6eb871cf-db9a-40b2-8967-850b340bc24e",
   "metadata": {},
   "source": [
    "#### Instantiate the User"
   ]
  },
  {
   "cell_type": "code",
   "execution_count": 3,
   "id": "67760849-bf81-47a7-9f9d-18298d6130c5",
   "metadata": {},
   "outputs": [
    {
     "data": {
      "text/plain": [
       "<__main__.User at 0x7f308b164750>"
      ]
     },
     "execution_count": 3,
     "metadata": {},
     "output_type": "execute_result"
    }
   ],
   "source": [
    "user1 = User()\n",
    "user1"
   ]
  },
  {
   "cell_type": "code",
   "execution_count": 4,
   "id": "8e2c3415-98d5-4bb7-804d-e5f7dd76ecc8",
   "metadata": {},
   "outputs": [
    {
     "data": {
      "text/plain": [
       "__main__.User"
      ]
     },
     "execution_count": 4,
     "metadata": {},
     "output_type": "execute_result"
    }
   ],
   "source": [
    "type(user1)"
   ]
  },
  {
   "cell_type": "markdown",
   "id": "e71f1012-500a-427b-9c8f-e1840b1b62c1",
   "metadata": {},
   "source": [
    "### **Constructor Method**\n",
    "\n",
    "In python, __ init__ is a constructor method and will be called during the user instantiation"
   ]
  },
  {
   "cell_type": "code",
   "execution_count": 13,
   "id": "07385bea-8cab-4bdb-975e-70aae42b66af",
   "metadata": {},
   "outputs": [],
   "source": [
    "class Author:\n",
    "    def __init__(self, name, email):\n",
    "        \"\"\"Author Class\"\"\"\n",
    "        self.name = name\n",
    "        self.email = email\n",
    "        print(f\"User '{self.name}' is created!\")"
   ]
  },
  {
   "cell_type": "code",
   "execution_count": 14,
   "id": "11be1b9f-cef8-4265-a829-36e43d24f0c3",
   "metadata": {},
   "outputs": [
    {
     "name": "stdout",
     "output_type": "stream",
     "text": [
      "User 'Dale Carnegie' is created!\n"
     ]
    }
   ],
   "source": [
    "author1 = Author(\"Dale Carnegie\", 'dcarnegie@test.com')"
   ]
  },
  {
   "cell_type": "markdown",
   "id": "7b427f5c-279d-47aa-b149-fe05f344d5cc",
   "metadata": {},
   "source": [
    "#### **Calling Attributes**"
   ]
  },
  {
   "cell_type": "code",
   "execution_count": 15,
   "id": "8674fda3-ea62-465f-b8af-9fa3dcd0d915",
   "metadata": {},
   "outputs": [
    {
     "data": {
      "text/plain": [
       "('Dale Carnegie', 'dcarnegie@test.com')"
      ]
     },
     "execution_count": 15,
     "metadata": {},
     "output_type": "execute_result"
    }
   ],
   "source": [
    "author1.name, author1.email"
   ]
  },
  {
   "cell_type": "markdown",
   "id": "6fa3ef3a-292c-43b9-adcc-7fd64ecb953e",
   "metadata": {},
   "source": [
    "#### **Additional Methods inside the Class**"
   ]
  },
  {
   "cell_type": "code",
   "execution_count": 16,
   "id": "ef2c6906-49e0-4533-b8e5-688b0a5d6372",
   "metadata": {},
   "outputs": [],
   "source": [
    "class Author:\n",
    "    def __init__(self, name, email):\n",
    "        self.name = name\n",
    "        self.email = email\n",
    "        print(f\"User '{self.name}' is created !\")\n",
    "\n",
    "    def book(self, bookname):\n",
    "        self.bookname = bookname\n",
    "        print(f\"Book - '{self.bookname}' by {self.name} is added\")\n",
    "    "
   ]
  },
  {
   "cell_type": "code",
   "execution_count": 17,
   "id": "49936ed5-166d-4d01-9043-161ed77f007a",
   "metadata": {},
   "outputs": [
    {
     "name": "stdout",
     "output_type": "stream",
     "text": [
      "User 'Dale Carnegie' is created !\n"
     ]
    }
   ],
   "source": [
    "author1 = Author(\"Dale Carnegie\", 'dcarnegie@test.com')"
   ]
  },
  {
   "cell_type": "code",
   "execution_count": 18,
   "id": "0bf4673e-29a0-4388-bbcc-20ff73313e36",
   "metadata": {},
   "outputs": [
    {
     "name": "stdout",
     "output_type": "stream",
     "text": [
      "Book - 'How to Stop Worrying and Start living' by Dale Carnegie is added\n"
     ]
    }
   ],
   "source": [
    "author1.book(\"How to Stop Worrying and Start living\")"
   ]
  },
  {
   "cell_type": "markdown",
   "id": "67294844-4714-4b4b-8f01-d3cbd42863a8",
   "metadata": {},
   "source": [
    "#### **Special Methods**"
   ]
  },
  {
   "cell_type": "code",
   "execution_count": 19,
   "id": "f66a1325-4335-4540-b600-b63e99c9809c",
   "metadata": {},
   "outputs": [],
   "source": [
    "class Author:\n",
    "    def __init__(self, name, email):\n",
    "        self.name = name\n",
    "        self.email = email\n",
    "        print(f\"User '{self.name}' is created !\")\n",
    "\n",
    "    def book(self, bookname):\n",
    "        self.bookname = bookname\n",
    "        print(f\"Book - '{self.bookname}' by {self.name} is added\")\n",
    "\n",
    "    def __repr__(self):\n",
    "        return f\"Author(name = '{self.name}', email = '{self.email}')\"\n",
    "\n",
    "    def __str__(self):\n",
    "        return self.__repr__"
   ]
  },
  {
   "cell_type": "code",
   "execution_count": 20,
   "id": "c7acc584-29b5-4604-8ca8-aad6062e4ff5",
   "metadata": {},
   "outputs": [
    {
     "name": "stdout",
     "output_type": "stream",
     "text": [
      "User 'Ian Goodfellow' is created !\n"
     ]
    }
   ],
   "source": [
    "author2 = Author(\"Ian Goodfellow\",\"igoodfellow@test.com\")"
   ]
  },
  {
   "cell_type": "code",
   "execution_count": 21,
   "id": "05c9494a-adbe-4459-aa2c-99bf2d09888d",
   "metadata": {},
   "outputs": [
    {
     "data": {
      "text/plain": [
       "Author(name = 'Ian Goodfellow', email = 'igoodfellow@test.com')"
      ]
     },
     "execution_count": 21,
     "metadata": {},
     "output_type": "execute_result"
    }
   ],
   "source": [
    "author2"
   ]
  },
  {
   "cell_type": "markdown",
   "id": "2431d450-03ba-4f08-8ace-07e10aa13d83",
   "metadata": {},
   "source": [
    "### **Creating a Author Database**"
   ]
  },
  {
   "cell_type": "code",
   "execution_count": 22,
   "id": "f95ee9a8-12cd-4d42-9baf-20e714025326",
   "metadata": {},
   "outputs": [],
   "source": [
    "class AuthorDatabase:\n",
    "    def insert(self, author):\n",
    "        pass\n",
    "\n",
    "    def find(self, name):\n",
    "        pass\n",
    "\n",
    "    def update(self, author):\n",
    "        pass\n",
    "\n",
    "    def display_all(self):\n",
    "        pass"
   ]
  },
  {
   "cell_type": "markdown",
   "id": "e4a11d5e-af31-4054-85e8-e2609b80b9cf",
   "metadata": {},
   "source": [
    "#### **Create Authors**"
   ]
  },
  {
   "cell_type": "code",
   "execution_count": 23,
   "id": "23e425e0-5d52-4280-9990-9deaa864f202",
   "metadata": {},
   "outputs": [
    {
     "name": "stdout",
     "output_type": "stream",
     "text": [
      "User 'Dale Carnegie' is created !\n",
      "User 'Ian Goodfellow' is created !\n",
      "User 'Andrew Ng' is created !\n",
      "User 'Sebastian Raschka' is created !\n",
      "User 'Joel Grus' is created !\n",
      "User 'Andreas Miller' is created !\n",
      "User 'Wes McKinney' is created !\n"
     ]
    }
   ],
   "source": [
    "dcarnegie = Author(\"Dale Carnegie\", 'dcarnegie@test.com')\n",
    "igoodfellow = Author(\"Ian Goodfellow\",\"igoodfellow@test.com\")\n",
    "ang = Author(\"Andrew Ng\",\"ang@test.com\")\n",
    "sraschka = Author(\"Sebastian Raschka\",\"sraschka@test.com\")\n",
    "jgrus = Author(\"Joel Grus\",\"jgrus@test.com\")\n",
    "amiller = Author(\"Andreas Miller\",\"amiller@test.com\")\n",
    "wmckinney = Author(\"Wes McKinney\",\"wmckinney@test.com\")"
   ]
  },
  {
   "cell_type": "code",
   "execution_count": 24,
   "id": "db2c8edf-7857-4ba5-91c7-d9cfca2ca2b9",
   "metadata": {},
   "outputs": [],
   "source": [
    "authors = [dcarnegie, igoodfellow,ang,sraschka,jgrus,amiller,wmckinney]"
   ]
  },
  {
   "cell_type": "code",
   "execution_count": 25,
   "id": "efbb350e-54d9-46bc-a1b9-7d84e51c2944",
   "metadata": {},
   "outputs": [
    {
     "data": {
      "text/plain": [
       "('Andrew Ng', 'ang@test.com')"
      ]
     },
     "execution_count": 25,
     "metadata": {},
     "output_type": "execute_result"
    }
   ],
   "source": [
    "ang.name, ang.email"
   ]
  },
  {
   "cell_type": "code",
   "execution_count": 26,
   "id": "3cebbc2a-7ee1-489b-aae9-fcc91d979e06",
   "metadata": {},
   "outputs": [
    {
     "data": {
      "text/plain": [
       "[Author(name = 'Dale Carnegie', email = 'dcarnegie@test.com'),\n",
       " Author(name = 'Ian Goodfellow', email = 'igoodfellow@test.com'),\n",
       " Author(name = 'Andrew Ng', email = 'ang@test.com'),\n",
       " Author(name = 'Sebastian Raschka', email = 'sraschka@test.com'),\n",
       " Author(name = 'Joel Grus', email = 'jgrus@test.com'),\n",
       " Author(name = 'Andreas Miller', email = 'amiller@test.com'),\n",
       " Author(name = 'Wes McKinney', email = 'wmckinney@test.com')]"
      ]
     },
     "execution_count": 26,
     "metadata": {},
     "output_type": "execute_result"
    }
   ],
   "source": [
    "authors"
   ]
  },
  {
   "cell_type": "markdown",
   "id": "0faa3a7a-6d1a-4588-8a19-9a17b4261dc1",
   "metadata": {},
   "source": [
    "#### **Implement the methods**"
   ]
  },
  {
   "cell_type": "code",
   "execution_count": 28,
   "id": "fc2e5b52-35d4-4c95-8c87-cd88eba4a6d4",
   "metadata": {},
   "outputs": [],
   "source": [
    "class AuthorDatabase:\n",
    "    def __init__(self):\n",
    "        self.authors = []\n",
    "\n",
    "    def insert(self, author):\n",
    "        i = 0\n",
    "        while i < len(self.authors):\n",
    "            if self.authors[i].name > author.name: # Find the first author with name greater than author\n",
    "                break\n",
    "            i += 1\n",
    "        self.authors.insert(i, author)\n",
    "\n",
    "    def find(self, name):\n",
    "        for author in authors:\n",
    "            if author.name.lower() == name.lower():\n",
    "                return author\n",
    "\n",
    "    def update(self, author):\n",
    "        dest = self.find(author.name)\n",
    "        dest.name, dest.email = author.name, author.email\n",
    "\n",
    "    def display_all(self):\n",
    "        return self.authors"
   ]
  },
  {
   "cell_type": "code",
   "execution_count": 29,
   "id": "e4c8b616-5115-4a0b-ac62-18492b61c89b",
   "metadata": {},
   "outputs": [],
   "source": [
    "authordb = AuthorDatabase()"
   ]
  },
  {
   "cell_type": "code",
   "execution_count": 30,
   "id": "0699db9a-aa6e-4bcc-a1db-5213c825d0d9",
   "metadata": {},
   "outputs": [],
   "source": [
    "authordb.insert(dcarnegie)\n",
    "authordb.insert(ang)\n",
    "authordb.insert(igoodfellow)"
   ]
  },
  {
   "cell_type": "code",
   "execution_count": 31,
   "id": "40d5364a-56c9-4789-938b-2c41a0de94f3",
   "metadata": {},
   "outputs": [
    {
     "data": {
      "text/plain": [
       "Author(name = 'Dale Carnegie', email = 'dcarnegie@test.com')"
      ]
     },
     "execution_count": 31,
     "metadata": {},
     "output_type": "execute_result"
    }
   ],
   "source": [
    "author = authordb.find('Dale Carnegie')\n",
    "author"
   ]
  },
  {
   "cell_type": "code",
   "execution_count": 32,
   "id": "15258abe-2b6a-41ae-b2d7-7906527f3427",
   "metadata": {},
   "outputs": [
    {
     "data": {
      "text/plain": [
       "[Author(name = 'Andrew Ng', email = 'ang@test.com'),\n",
       " Author(name = 'Dale Carnegie', email = 'dcarnegie@test.com'),\n",
       " Author(name = 'Ian Goodfellow', email = 'igoodfellow@test.com')]"
      ]
     },
     "execution_count": 32,
     "metadata": {},
     "output_type": "execute_result"
    }
   ],
   "source": [
    "authordb.display_all()"
   ]
  },
  {
   "cell_type": "code",
   "execution_count": 33,
   "id": "41d143b8-091f-4530-8aad-850461f5ce40",
   "metadata": {},
   "outputs": [
    {
     "data": {
      "text/plain": [
       "Author(name = 'Dale Carnegie', email = 'dcarnegie@test.com')"
      ]
     },
     "execution_count": 33,
     "metadata": {},
     "output_type": "execute_result"
    }
   ],
   "source": [
    "author = authordb.find('dale carnegie')\n",
    "author"
   ]
  },
  {
   "cell_type": "code",
   "execution_count": 34,
   "id": "f24c5c88-a1bd-4e87-9fdb-acfd86003200",
   "metadata": {},
   "outputs": [],
   "source": [
    "authordb.insert(sraschka)"
   ]
  },
  {
   "cell_type": "code",
   "execution_count": 38,
   "id": "d25b2cca-3af3-4e5a-9ba6-4dd93276266b",
   "metadata": {},
   "outputs": [
    {
     "data": {
      "text/plain": [
       "[Author(name = 'Andrew Ng', email = 'ang@test.com'),\n",
       " Author(name = 'Dale Carnegie', email = 'dcarnegie@test.com'),\n",
       " Author(name = 'Ian Goodfellow', email = 'igoodfellow@test.com'),\n",
       " Author(name = 'Sebastian Raschka', email = 'sraschka@test1.com')]"
      ]
     },
     "execution_count": 38,
     "metadata": {},
     "output_type": "execute_result"
    }
   ],
   "source": [
    "authordb.display_all()"
   ]
  },
  {
   "cell_type": "code",
   "execution_count": 36,
   "id": "c80d8b4f-4f96-4d11-9d33-7ced34c47c4e",
   "metadata": {},
   "outputs": [
    {
     "name": "stdout",
     "output_type": "stream",
     "text": [
      "User 'Sebastian Raschka' is created !\n"
     ]
    }
   ],
   "source": [
    "authordb.update(Author(name = 'Sebastian Raschka', email = 'sraschka@test1.com'))"
   ]
  },
  {
   "cell_type": "code",
   "execution_count": 37,
   "id": "267109d1-9125-4191-a0a0-47b8f3a64a26",
   "metadata": {},
   "outputs": [
    {
     "data": {
      "text/plain": [
       "Author(name = 'Sebastian Raschka', email = 'sraschka@test1.com')"
      ]
     },
     "execution_count": 37,
     "metadata": {},
     "output_type": "execute_result"
    }
   ],
   "source": [
    "authordb.find('Sebastian Raschka')"
   ]
  },
  {
   "cell_type": "code",
   "execution_count": 39,
   "id": "106556fd-b71f-4507-991c-489cee204156",
   "metadata": {},
   "outputs": [
    {
     "name": "stdout",
     "output_type": "stream",
     "text": [
      "CPU times: user 11.9 s, sys: 0 ns, total: 11.9 s\n",
      "Wall time: 11.9 s\n"
     ]
    }
   ],
   "source": [
    "%%time\n",
    "for i in range(100000000):\n",
    "    j = i*i"
   ]
  },
  {
   "cell_type": "markdown",
   "id": "f715bd04-1c66-4a6e-ba78-3be0445f447f",
   "metadata": {},
   "source": [
    "Each iteration will take more than 10 sec when more than 100 M users"
   ]
  },
  {
   "cell_type": "code",
   "execution_count": null,
   "id": "07d5e096-371e-45ed-b3e6-d07441dc634f",
   "metadata": {},
   "outputs": [],
   "source": []
  }
 ],
 "metadata": {
  "kernelspec": {
   "display_name": "Python 3 (ipykernel)",
   "language": "python",
   "name": "python3"
  },
  "language_info": {
   "codemirror_mode": {
    "name": "ipython",
    "version": 3
   },
   "file_extension": ".py",
   "mimetype": "text/x-python",
   "name": "python",
   "nbconvert_exporter": "python",
   "pygments_lexer": "ipython3",
   "version": "3.11.0rc1"
  }
 },
 "nbformat": 4,
 "nbformat_minor": 5
}
